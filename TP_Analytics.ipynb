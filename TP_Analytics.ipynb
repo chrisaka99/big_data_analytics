{
  "cells": [
    {
      "cell_type": "code",
      "execution_count": 1,
      "metadata": {
        "id": "v9aoMZsNTh_F"
      },
      "outputs": [],
      "source": [
        "import numpy as np\n",
        "import pandas as pd\n",
        "import matplotlib.pyplot as plt\n",
        "import seaborn as sns"
      ]
    },
    {
      "cell_type": "markdown",
      "metadata": {
        "id": "FlPwgXfUXIiK"
      },
      "source": [
        "# Importations des données"
      ]
    },
    {
      "cell_type": "code",
      "execution_count": 2,
      "metadata": {
        "id": "zE20-HXpT1vT"
      },
      "outputs": [],
      "source": [
        "client1_df = pd.read_csv(\"Clients_10.csv\", encoding=\"ISO-8859-1\")\n",
        "client2_df = pd.read_csv(\"Clients_2.csv\", encoding=\"ISO-8859-1\")\n",
        "im_df = pd.read_csv(\"Immatriculations.csv\", encoding=\"ISO-8859-1\")\n",
        "marketing_df = pd.read_csv(\"Marketing.csv\", encoding=\"ISO-8859-1\")\n",
        "catalog_df = pd.read_csv(\"Catalogue.csv\", encoding=\"ISO-8859-1\")"
      ]
    },
    {
      "cell_type": "markdown",
      "metadata": {
        "id": "J7tqX9o_XNLS"
      },
      "source": [
        "# Analyse exploratoires des données clients"
      ]
    },
    {
      "cell_type": "markdown",
      "metadata": {
        "id": "CzfF5Fn-XU_X"
      },
      "source": [
        "### fusion des données clients"
      ]
    },
    {
      "cell_type": "code",
      "execution_count": 3,
      "metadata": {
        "id": "TIPjVFdPWqCL"
      },
      "outputs": [],
      "source": [
        "client_df = pd.concat([client1_df, client2_df], axis=0).reset_index(drop=True)"
      ]
    },
    {
      "cell_type": "code",
      "execution_count": 4,
      "metadata": {
        "colab": {
          "base_uri": "https://localhost:8080/"
        },
        "id": "VpS94ZnzXqcS",
        "outputId": "4e9d21ee-8bc3-40de-8339-cc00ddb084f5"
      },
      "outputs": [
        {
          "name": "stdout",
          "output_type": "stream",
          "text": [
            "<class 'pandas.core.frame.DataFrame'>\n",
            "RangeIndex: 200000 entries, 0 to 199999\n",
            "Data columns (total 7 columns):\n",
            " #   Column              Non-Null Count   Dtype \n",
            "---  ------              --------------   ----- \n",
            " 0   age                 200000 non-null  object\n",
            " 1   sexe                200000 non-null  object\n",
            " 2   taux                200000 non-null  object\n",
            " 3   situationFamiliale  200000 non-null  object\n",
            " 4   nbEnfantsAcharge    200000 non-null  object\n",
            " 5   2eme voiture        200000 non-null  object\n",
            " 6   immatriculation     200000 non-null  object\n",
            "dtypes: object(7)\n",
            "memory usage: 10.7+ MB\n"
          ]
        }
      ],
      "source": [
        "client_df.info()"
      ]
    },
    {
      "cell_type": "markdown",
      "metadata": {
        "id": "BYcut7jrP4RK"
      },
      "source": [
        "On converti en valeurs numérique (float)"
      ]
    },
    {
      "cell_type": "code",
      "execution_count": 5,
      "metadata": {
        "id": "KpzZpeV3ZMFl"
      },
      "outputs": [],
      "source": [
        "client_df[['age', 'taux', 'nbEnfantsAcharge']] = client_df[['age', 'taux', 'nbEnfantsAcharge']].apply(pd.to_numeric, errors='coerce')"
      ]
    },
    {
      "cell_type": "code",
      "execution_count": 6,
      "metadata": {
        "colab": {
          "base_uri": "https://localhost:8080/"
        },
        "id": "pObqd9uaXGZ0",
        "outputId": "d8e4080d-ff22-41d2-9d52-66be26504129"
      },
      "outputs": [
        {
          "data": {
            "text/plain": [
              "age                   400\n",
              "sexe                    0\n",
              "taux                  407\n",
              "situationFamiliale      0\n",
              "nbEnfantsAcharge      387\n",
              "2eme voiture            0\n",
              "immatriculation         0\n",
              "dtype: int64"
            ]
          },
          "execution_count": 6,
          "metadata": {},
          "output_type": "execute_result"
        }
      ],
      "source": [
        "client_df.isnull().sum()"
      ]
    },
    {
      "cell_type": "markdown",
      "metadata": {},
      "source": [
        "On drop, s'il y a les données d'immatriculation qui ne respectent pas le format 9999 AA 99"
      ]
    },
    {
      "cell_type": "code",
      "execution_count": 7,
      "metadata": {},
      "outputs": [],
      "source": [
        "cl_ix = client_df[client_df.immatriculation.str.contains('^[\\d]{1,4}[\\s][\\w]{2}[\\s][\\d]{2}$', regex=True) == False].index\n",
        "client_df.drop(cl_ix, inplace=True)"
      ]
    },
    {
      "cell_type": "markdown",
      "metadata": {
        "id": "htFH-g0TP_34"
      },
      "source": [
        "On remplace les données manquante par la médiane"
      ]
    },
    {
      "cell_type": "code",
      "execution_count": 8,
      "metadata": {
        "id": "QWmb7kWwe_bG"
      },
      "outputs": [],
      "source": [
        "client_df.age.fillna(client_df.age.median(), inplace=True)\n",
        "client_df.taux.fillna(client_df.taux.median(), inplace=True)\n",
        "client_df.nbEnfantsAcharge.fillna(client_df.nbEnfantsAcharge.median(), inplace=True)"
      ]
    },
    {
      "cell_type": "markdown",
      "metadata": {
        "id": "p90Y1AkZQFu1"
      },
      "source": [
        "On reconverti les données float en int"
      ]
    },
    {
      "cell_type": "code",
      "execution_count": 9,
      "metadata": {
        "id": "0QQs82c2khJA"
      },
      "outputs": [],
      "source": [
        "client_df[['age', 'taux', 'nbEnfantsAcharge']] = client_df[['age', 'taux', 'nbEnfantsAcharge']].astype('int')"
      ]
    },
    {
      "cell_type": "markdown",
      "metadata": {
        "id": "ir04QDHeQLfE"
      },
      "source": [
        "On drop les lignes d'immatriculation répétitives"
      ]
    },
    {
      "cell_type": "code",
      "execution_count": 10,
      "metadata": {},
      "outputs": [],
      "source": [
        "client_df.immatriculation.drop_duplicates(inplace=True)"
      ]
    },
    {
      "cell_type": "markdown",
      "metadata": {
        "id": "greGTJmYQR0z"
      },
      "source": [
        "On affiche la distribution des variables afin d'avoir les valeurs possibles"
      ]
    },
    {
      "cell_type": "code",
      "execution_count": 11,
      "metadata": {
        "colab": {
          "base_uri": "https://localhost:8080/",
          "height": 586
        },
        "id": "4D4l2I9oRBRK",
        "outputId": "f3772014-7180-425e-dc4b-2ddcd30f3940"
      },
      "outputs": [
        {
          "data": {
            "text/plain": [
              "<AxesSubplot:xlabel='2eme voiture', ylabel='Count'>"
            ]
          },
          "execution_count": 11,
          "metadata": {},
          "output_type": "execute_result"
        },
        {
          "data": {
            "image/png": "[encoded data removed]",
            "text/plain": [
              "<Figure size 1440x720 with 6 Axes>"
            ]
          },
          "metadata": {
            "needs_background": "light"
          },
          "output_type": "display_data"
        }
      ],
      "source": [
        "fig, axs = plt.subplots(2, 3, figsize=(20, 10))\n",
        "sns.histplot(client_df.age, ax=axs[0, 0])\n",
        "sns.histplot(client_df.sexe, ax=axs[0, 1])\n",
        "sns.histplot(client_df.taux, ax=axs[0, 2])\n",
        "sns.histplot(client_df.situationFamiliale, ax=axs[1, 0])\n",
        "sns.histplot(client_df.nbEnfantsAcharge, ax=axs[1, 1])\n",
        "sns.histplot(client_df[\"2eme voiture\"], ax=axs[1, 2])"
      ]
    },
    {
      "cell_type": "code",
      "execution_count": 12,
      "metadata": {
        "colab": {
          "base_uri": "https://localhost:8080/",
          "height": 50
        },
        "id": "53KOySOhc_GE",
        "outputId": "d3280b07-9899-4326-f954-4693097ee7f6"
      },
      "outputs": [
        {
          "data": {
            "text/html": [
              "<div>\n",
              "<style scoped>\n",
              "    .dataframe tbody tr th:only-of-type {\n",
              "        vertical-align: middle;\n",
              "    }\n",
              "\n",
              "    .dataframe tbody tr th {\n",
              "        vertical-align: top;\n",
              "    }\n",
              "\n",
              "    .dataframe thead th {\n",
              "        text-align: right;\n",
              "    }\n",
              "</style>\n",
              "<table border=\"1\" class=\"dataframe\">\n",
              "  <thead>\n",
              "    <tr style=\"text-align: right;\">\n",
              "      <th></th>\n",
              "      <th>age</th>\n",
              "      <th>sexe</th>\n",
              "      <th>taux</th>\n",
              "      <th>situationFamiliale</th>\n",
              "      <th>nbEnfantsAcharge</th>\n",
              "      <th>2eme voiture</th>\n",
              "      <th>immatriculation</th>\n",
              "    </tr>\n",
              "  </thead>\n",
              "  <tbody>\n",
              "  </tbody>\n",
              "</table>\n",
              "</div>"
            ],
            "text/plain": [
              "Empty DataFrame\n",
              "Columns: [age, sexe, taux, situationFamiliale, nbEnfantsAcharge, 2eme voiture, immatriculation]\n",
              "Index: []"
            ]
          },
          "execution_count": 12,
          "metadata": {},
          "output_type": "execute_result"
        }
      ],
      "source": [
        "client_df[client_df.immatriculation.isin(['?', 'N/D', ' '])]"
      ]
    },
    {
      "cell_type": "markdown",
      "metadata": {
        "id": "Fuj9RLG6rtsF"
      },
      "source": [
        "Imputation de l'âge"
      ]
    },
    {
      "cell_type": "code",
      "execution_count": 13,
      "metadata": {
        "id": "gzNw1LTfgW3u"
      },
      "outputs": [],
      "source": [
        "client_df.loc[(client_df.age < 18) | (client_df.age > 84), \"age\"] = client_df.age.median()"
      ]
    },
    {
      "cell_type": "code",
      "execution_count": 14,
      "metadata": {
        "colab": {
          "base_uri": "https://localhost:8080/"
        },
        "id": "3xVT5lU1s-X4",
        "outputId": "1537decb-abb0-4d97-bda1-72dcaaeaeb40"
      },
      "outputs": [
        {
          "data": {
            "text/plain": [
              "array([38, 50, 54, 35, 43, 64, 22, 79, 82, 23, 30, 62, 19, 27, 41, 25, 34,\n",
              "       42, 21, 31, 51, 70, 29, 24, 47, 46, 39, 37, 40, 55, 69, 84, 59, 49,\n",
              "       18, 57, 20, 28, 32, 56, 83, 33, 65, 26, 60, 77, 44, 78, 53, 58, 72,\n",
              "       61, 81, 73, 66, 48, 36, 45, 52, 80, 71, 68, 76, 75, 63, 74, 67])"
            ]
          },
          "execution_count": 14,
          "metadata": {},
          "output_type": "execute_result"
        }
      ],
      "source": [
        "client_df.age.unique()"
      ]
    },
    {
      "cell_type": "markdown",
      "metadata": {
        "id": "QKixZTSnrx9v"
      },
      "source": [
        "Imputation du taux"
      ]
    },
    {
      "cell_type": "code",
      "execution_count": 15,
      "metadata": {
        "id": "YZj1erWAdEhh"
      },
      "outputs": [],
      "source": [
        "client_df.loc[(client_df.taux < 544) | (client_df.taux > 74185), \"taux\"] = client_df.taux.median()"
      ]
    },
    {
      "cell_type": "markdown",
      "metadata": {
        "id": "2MExjD35r4kK"
      },
      "source": [
        "imputation du sexe"
      ]
    },
    {
      "cell_type": "code",
      "execution_count": 16,
      "metadata": {
        "id": "ZpOVA6hZkfZE"
      },
      "outputs": [],
      "source": [
        "client_df.loc[(client_df.sexe == 'Femme') | (client_df.sexe == 'Féminin'), \"sexe\"] = 'F'\n",
        "client_df.loc[(client_df.sexe == 'Homme') | (client_df.sexe == 'Masculin'), \"sexe\"] = 'M'"
      ]
    },
    {
      "cell_type": "code",
      "execution_count": 17,
      "metadata": {
        "colab": {
          "base_uri": "https://localhost:8080/"
        },
        "id": "4biEBENGn7Yp",
        "outputId": "4ce66e61-0093-43f8-d379-d5792f45a676"
      },
      "outputs": [
        {
          "data": {
            "text/plain": [
              "array(['M', 'F', 'N/D', ' ', '?'], dtype=object)"
            ]
          },
          "execution_count": 17,
          "metadata": {},
          "output_type": "execute_result"
        }
      ],
      "source": [
        "client_df.sexe.unique()"
      ]
    },
    {
      "cell_type": "code",
      "execution_count": 18,
      "metadata": {
        "id": "T242vM2VfbHd"
      },
      "outputs": [],
      "source": [
        "sex_idx_del = client_df[client_df.sexe.isin(['?', 'N/D', ' '])].index\n",
        "client_df.drop(sex_idx_del, inplace=True)\n",
        "client_df.sexe.dropna(inplace=True)"
      ]
    },
    {
      "cell_type": "markdown",
      "metadata": {
        "id": "P_N3_hM0wIV3"
      },
      "source": [
        "Imputation de la situation familiale"
      ]
    },
    {
      "cell_type": "markdown",
      "metadata": {},
      "source": [
        "On ne garde que les valeurs, célibataire et en couple"
      ]
    },
    {
      "cell_type": "code",
      "execution_count": 19,
      "metadata": {},
      "outputs": [],
      "source": [
        "client_df.loc[(client_df.situationFamiliale == 'Seul') | (client_df.situationFamiliale == 'Seule') | (client_df.situationFamiliale == 'Divorcée'), \"situationFamiliale\"] = 'Célibataire'\n",
        "client_df.loc[(client_df.situationFamiliale == 'Marié(e)'), \"situationFamiliale\"] = 'En Couple'"
      ]
    },
    {
      "cell_type": "code",
      "execution_count": 20,
      "metadata": {},
      "outputs": [
        {
          "data": {
            "text/plain": [
              "array(['En Couple', 'Célibataire', ' ', 'N/D', '?'], dtype=object)"
            ]
          },
          "execution_count": 20,
          "metadata": {},
          "output_type": "execute_result"
        }
      ],
      "source": [
        "client_df.situationFamiliale.unique()"
      ]
    },
    {
      "cell_type": "markdown",
      "metadata": {},
      "source": [
        "On supprime les lignes qui peuvent compromettre l'analyse de la variable situationFamiliale"
      ]
    },
    {
      "cell_type": "code",
      "execution_count": 21,
      "metadata": {
        "id": "T4AI6tJEqxnp"
      },
      "outputs": [],
      "source": [
        "sf_idx_del = client_df[client_df.situationFamiliale.isin(['?', 'N/D', ' '])].index\n",
        "client_df.drop(sf_idx_del, inplace=True)"
      ]
    },
    {
      "cell_type": "markdown",
      "metadata": {
        "id": "600wVtDAy1Ko"
      },
      "source": [
        "Imputation du nombre d'enfants"
      ]
    },
    {
      "cell_type": "markdown",
      "metadata": {},
      "source": [
        "On remplace les données qui ne sont pas dans l'intervalle par la médiane"
      ]
    },
    {
      "cell_type": "code",
      "execution_count": 22,
      "metadata": {
        "id": "0b67i1U4yd5Q"
      },
      "outputs": [],
      "source": [
        "client_df.loc[(client_df.nbEnfantsAcharge < 0) | (client_df.nbEnfantsAcharge > 4), \"nbEnfantsAcharge\"] = client_df.nbEnfantsAcharge.median()"
      ]
    },
    {
      "cell_type": "code",
      "execution_count": 23,
      "metadata": {},
      "outputs": [
        {
          "data": {
            "text/plain": [
              "array([3, 1, 0, 4, 2])"
            ]
          },
          "execution_count": 23,
          "metadata": {},
          "output_type": "execute_result"
        }
      ],
      "source": [
        "client_df.nbEnfantsAcharge.unique()"
      ]
    },
    {
      "cell_type": "markdown",
      "metadata": {
        "id": "6CHB7CPUz9x3"
      },
      "source": [
        "Imputation \"2ème voiture\""
      ]
    },
    {
      "cell_type": "code",
      "execution_count": 24,
      "metadata": {},
      "outputs": [
        {
          "data": {
            "text/plain": [
              "array(['false', 'true', ' ', '?'], dtype=object)"
            ]
          },
          "execution_count": 24,
          "metadata": {},
          "output_type": "execute_result"
        }
      ],
      "source": [
        "client_df[\"2eme voiture\"].unique()"
      ]
    },
    {
      "cell_type": "markdown",
      "metadata": {},
      "source": [
        "On supprime les lignes avec les valeurs compromettantes"
      ]
    },
    {
      "cell_type": "code",
      "execution_count": 25,
      "metadata": {
        "id": "-ISio-Irz8ed"
      },
      "outputs": [],
      "source": [
        "vt_idx_del = client_df[client_df[\"2eme voiture\"].isin(['?', 'N/D', ' '])].index\n",
        "client_df.drop(vt_idx_del, inplace=True)"
      ]
    },
    {
      "cell_type": "code",
      "execution_count": 26,
      "metadata": {
        "colab": {
          "base_uri": "https://localhost:8080/",
          "height": 590
        },
        "id": "4gba6glE30qn",
        "outputId": "1dab172d-0f3d-409a-e54a-9db65749e4b7"
      },
      "outputs": [
        {
          "data": {
            "text/plain": [
              "<AxesSubplot:xlabel='2eme voiture', ylabel='Count'>"
            ]
          },
          "execution_count": 26,
          "metadata": {},
          "output_type": "execute_result"
        },
        {
          "data": {
            "image/png": "[encoded data removed]",
            "text/plain": [
              "<Figure size 1440x720 with 6 Axes>"
            ]
          },
          "metadata": {
            "needs_background": "light"
          },
          "output_type": "display_data"
        }
      ],
      "source": [
        "fig, axs = plt.subplots(2, 3, figsize=(20, 10))\n",
        "sns.histplot(client_df.age, ax=axs[0, 0])\n",
        "sns.histplot(client_df.sexe, ax=axs[0, 1])\n",
        "sns.histplot(client_df.taux, ax=axs[0, 2])\n",
        "sns.histplot(client_df.situationFamiliale, ax=axs[1, 0])\n",
        "sns.histplot(client_df.nbEnfantsAcharge, ax=axs[1, 1])\n",
        "sns.histplot(client_df[\"2eme voiture\"], ax=axs[1, 2])"
      ]
    },
    {
      "cell_type": "code",
      "execution_count": 27,
      "metadata": {},
      "outputs": [],
      "source": [
        "client_df[\"2eme voiture\"] = client_df[\"2eme voiture\"].astype(bool)"
      ]
    },
    {
      "cell_type": "markdown",
      "metadata": {
        "id": "H3957cZJ4vYQ"
      },
      "source": [
        "# Analyse des données Immatriculation"
      ]
    },
    {
      "cell_type": "code",
      "execution_count": 28,
      "metadata": {
        "colab": {
          "base_uri": "https://localhost:8080/"
        },
        "id": "KYScVv_t5QZP",
        "outputId": "cd8a311f-715a-4a0a-d540-a879a0563bc5"
      },
      "outputs": [
        {
          "name": "stdout",
          "output_type": "stream",
          "text": [
            "<class 'pandas.core.frame.DataFrame'>\n",
            "RangeIndex: 2000000 entries, 0 to 1999999\n",
            "Data columns (total 10 columns):\n",
            " #   Column           Dtype \n",
            "---  ------           ----- \n",
            " 0   immatriculation  object\n",
            " 1   marque           object\n",
            " 2   nom              object\n",
            " 3   puissance        int64 \n",
            " 4   longueur         object\n",
            " 5   nbPlaces         int64 \n",
            " 6   nbPortes         int64 \n",
            " 7   couleur          object\n",
            " 8   occasion         bool  \n",
            " 9   prix             int64 \n",
            "dtypes: bool(1), int64(4), object(5)\n",
            "memory usage: 139.2+ MB\n"
          ]
        }
      ],
      "source": [
        "im_df.info()"
      ]
    },
    {
      "cell_type": "markdown",
      "metadata": {},
      "source": [
        "On supprime les voitures répétitives"
      ]
    },
    {
      "cell_type": "code",
      "execution_count": 29,
      "metadata": {},
      "outputs": [],
      "source": [
        "im_df.immatriculation.drop_duplicates(inplace=True)"
      ]
    },
    {
      "cell_type": "code",
      "execution_count": 30,
      "metadata": {
        "colab": {
          "base_uri": "https://localhost:8080/",
          "height": 423
        },
        "id": "rF2CFuAZ-0mm",
        "outputId": "c2a73e24-a747-47d9-eca0-20734480354c"
      },
      "outputs": [
        {
          "data": {
            "text/html": [
              "<div>\n",
              "<style scoped>\n",
              "    .dataframe tbody tr th:only-of-type {\n",
              "        vertical-align: middle;\n",
              "    }\n",
              "\n",
              "    .dataframe tbody tr th {\n",
              "        vertical-align: top;\n",
              "    }\n",
              "\n",
              "    .dataframe thead th {\n",
              "        text-align: right;\n",
              "    }\n",
              "</style>\n",
              "<table border=\"1\" class=\"dataframe\">\n",
              "  <thead>\n",
              "    <tr style=\"text-align: right;\">\n",
              "      <th></th>\n",
              "      <th>immatriculation</th>\n",
              "      <th>marque</th>\n",
              "      <th>nom</th>\n",
              "      <th>puissance</th>\n",
              "      <th>longueur</th>\n",
              "      <th>nbPlaces</th>\n",
              "      <th>nbPortes</th>\n",
              "      <th>couleur</th>\n",
              "      <th>occasion</th>\n",
              "      <th>prix</th>\n",
              "    </tr>\n",
              "  </thead>\n",
              "  <tbody>\n",
              "    <tr>\n",
              "      <th>0</th>\n",
              "      <td>3176 TS 67</td>\n",
              "      <td>Renault</td>\n",
              "      <td>Laguna 2.0T</td>\n",
              "      <td>170</td>\n",
              "      <td>longue</td>\n",
              "      <td>5</td>\n",
              "      <td>5</td>\n",
              "      <td>blanc</td>\n",
              "      <td>False</td>\n",
              "      <td>27300</td>\n",
              "    </tr>\n",
              "    <tr>\n",
              "      <th>1</th>\n",
              "      <td>3721 QS 49</td>\n",
              "      <td>Volvo</td>\n",
              "      <td>S80 T6</td>\n",
              "      <td>272</td>\n",
              "      <td>très longue</td>\n",
              "      <td>5</td>\n",
              "      <td>5</td>\n",
              "      <td>noir</td>\n",
              "      <td>False</td>\n",
              "      <td>50500</td>\n",
              "    </tr>\n",
              "    <tr>\n",
              "      <th>2</th>\n",
              "      <td>9099 UV 26</td>\n",
              "      <td>Volkswagen</td>\n",
              "      <td>Golf 2.0 FSI</td>\n",
              "      <td>150</td>\n",
              "      <td>moyenne</td>\n",
              "      <td>5</td>\n",
              "      <td>5</td>\n",
              "      <td>gris</td>\n",
              "      <td>True</td>\n",
              "      <td>16029</td>\n",
              "    </tr>\n",
              "    <tr>\n",
              "      <th>3</th>\n",
              "      <td>3563 LA 55</td>\n",
              "      <td>Peugeot</td>\n",
              "      <td>1007 1.4</td>\n",
              "      <td>75</td>\n",
              "      <td>courte</td>\n",
              "      <td>5</td>\n",
              "      <td>5</td>\n",
              "      <td>blanc</td>\n",
              "      <td>True</td>\n",
              "      <td>9625</td>\n",
              "    </tr>\n",
              "    <tr>\n",
              "      <th>4</th>\n",
              "      <td>6963 AX 34</td>\n",
              "      <td>Audi</td>\n",
              "      <td>A2 1.4</td>\n",
              "      <td>75</td>\n",
              "      <td>courte</td>\n",
              "      <td>5</td>\n",
              "      <td>5</td>\n",
              "      <td>gris</td>\n",
              "      <td>False</td>\n",
              "      <td>18310</td>\n",
              "    </tr>\n",
              "    <tr>\n",
              "      <th>...</th>\n",
              "      <td>...</td>\n",
              "      <td>...</td>\n",
              "      <td>...</td>\n",
              "      <td>...</td>\n",
              "      <td>...</td>\n",
              "      <td>...</td>\n",
              "      <td>...</td>\n",
              "      <td>...</td>\n",
              "      <td>...</td>\n",
              "      <td>...</td>\n",
              "    </tr>\n",
              "    <tr>\n",
              "      <th>1999995</th>\n",
              "      <td>771 CQ 78</td>\n",
              "      <td>Mercedes</td>\n",
              "      <td>S500</td>\n",
              "      <td>306</td>\n",
              "      <td>très longue</td>\n",
              "      <td>5</td>\n",
              "      <td>5</td>\n",
              "      <td>gris</td>\n",
              "      <td>True</td>\n",
              "      <td>70910</td>\n",
              "    </tr>\n",
              "    <tr>\n",
              "      <th>1999996</th>\n",
              "      <td>8182 PL 97</td>\n",
              "      <td>Lancia</td>\n",
              "      <td>Ypsilon 1.4 16V</td>\n",
              "      <td>90</td>\n",
              "      <td>courte</td>\n",
              "      <td>5</td>\n",
              "      <td>3</td>\n",
              "      <td>blanc</td>\n",
              "      <td>True</td>\n",
              "      <td>9450</td>\n",
              "    </tr>\n",
              "    <tr>\n",
              "      <th>1999997</th>\n",
              "      <td>8550 AP 53</td>\n",
              "      <td>Ford</td>\n",
              "      <td>Mondeo 1.8</td>\n",
              "      <td>125</td>\n",
              "      <td>longue</td>\n",
              "      <td>5</td>\n",
              "      <td>5</td>\n",
              "      <td>rouge</td>\n",
              "      <td>False</td>\n",
              "      <td>23900</td>\n",
              "    </tr>\n",
              "    <tr>\n",
              "      <th>1999998</th>\n",
              "      <td>737 MK 20</td>\n",
              "      <td>Audi</td>\n",
              "      <td>A2 1.4</td>\n",
              "      <td>75</td>\n",
              "      <td>courte</td>\n",
              "      <td>5</td>\n",
              "      <td>5</td>\n",
              "      <td>bleu</td>\n",
              "      <td>True</td>\n",
              "      <td>12817</td>\n",
              "    </tr>\n",
              "    <tr>\n",
              "      <th>1999999</th>\n",
              "      <td>403 PT 42</td>\n",
              "      <td>Volkswagen</td>\n",
              "      <td>Golf 2.0 FSI</td>\n",
              "      <td>150</td>\n",
              "      <td>moyenne</td>\n",
              "      <td>5</td>\n",
              "      <td>5</td>\n",
              "      <td>blanc</td>\n",
              "      <td>False</td>\n",
              "      <td>22900</td>\n",
              "    </tr>\n",
              "  </tbody>\n",
              "</table>\n",
              "<p>2000000 rows × 10 columns</p>\n",
              "</div>"
            ],
            "text/plain": [
              "        immatriculation      marque              nom  puissance     longueur  \\\n",
              "0            3176 TS 67     Renault      Laguna 2.0T        170       longue   \n",
              "1            3721 QS 49       Volvo           S80 T6        272  très longue   \n",
              "2            9099 UV 26  Volkswagen     Golf 2.0 FSI        150      moyenne   \n",
              "3            3563 LA 55     Peugeot         1007 1.4         75       courte   \n",
              "4            6963 AX 34        Audi           A2 1.4         75       courte   \n",
              "...                 ...         ...              ...        ...          ...   \n",
              "1999995       771 CQ 78    Mercedes             S500        306  très longue   \n",
              "1999996      8182 PL 97      Lancia  Ypsilon 1.4 16V         90       courte   \n",
              "1999997      8550 AP 53        Ford       Mondeo 1.8        125       longue   \n",
              "1999998       737 MK 20        Audi           A2 1.4         75       courte   \n",
              "1999999       403 PT 42  Volkswagen     Golf 2.0 FSI        150      moyenne   \n",
              "\n",
              "         nbPlaces  nbPortes couleur  occasion   prix  \n",
              "0               5         5   blanc     False  27300  \n",
              "1               5         5    noir     False  50500  \n",
              "2               5         5    gris      True  16029  \n",
              "3               5         5   blanc      True   9625  \n",
              "4               5         5    gris     False  18310  \n",
              "...           ...       ...     ...       ...    ...  \n",
              "1999995         5         5    gris      True  70910  \n",
              "1999996         5         3   blanc      True   9450  \n",
              "1999997         5         5   rouge     False  23900  \n",
              "1999998         5         5    bleu      True  12817  \n",
              "1999999         5         5   blanc     False  22900  \n",
              "\n",
              "[2000000 rows x 10 columns]"
            ]
          },
          "execution_count": 30,
          "metadata": {},
          "output_type": "execute_result"
        }
      ],
      "source": [
        "im_df"
      ]
    },
    {
      "cell_type": "code",
      "execution_count": 31,
      "metadata": {
        "colab": {
          "base_uri": "https://localhost:8080/",
          "height": 587
        },
        "id": "DVTImXI27fwo",
        "outputId": "2e80a7d5-fde0-45c3-d9e7-9aabcfd27e22"
      },
      "outputs": [
        {
          "data": {
            "text/plain": [
              "<AxesSubplot:xlabel='prix', ylabel='Count'>"
            ]
          },
          "execution_count": 31,
          "metadata": {},
          "output_type": "execute_result"
        },
        {
          "data": {
            "image/png": "[encoded data removed]",
            "text/plain": [
              "<Figure size 1440x720 with 9 Axes>"
            ]
          },
          "metadata": {
            "needs_background": "light"
          },
          "output_type": "display_data"
        }
      ],
      "source": [
        "fig, axs = plt.subplots(3, 3, figsize=(20, 10))\n",
        "# sns.histplot(im_df.immatriculation, ax=axs[0, 0])\n",
        "sns.histplot(im_df.marque, ax=axs[0, 1])\n",
        "sns.histplot(im_df.nom, ax=axs[0, 2])\n",
        "sns.histplot(im_df.puissance, ax=axs[1, 0])\n",
        "sns.histplot(im_df.longueur, ax=axs[1, 1])\n",
        "sns.histplot(im_df.nbPlaces, ax=axs[1, 2])\n",
        "sns.histplot(im_df.nbPortes, ax=axs[2, 0])\n",
        "sns.histplot(im_df.couleur, ax=axs[2, 1])\n",
        "# sns.histplot(im_df.occasion, ax=axs[2, 2])\n",
        "sns.histplot(im_df.prix, ax=axs[2, 2])"
      ]
    },
    {
      "cell_type": "code",
      "execution_count": 32,
      "metadata": {},
      "outputs": [
        {
          "data": {
            "text/html": [
              "<div>\n",
              "<style scoped>\n",
              "    .dataframe tbody tr th:only-of-type {\n",
              "        vertical-align: middle;\n",
              "    }\n",
              "\n",
              "    .dataframe tbody tr th {\n",
              "        vertical-align: top;\n",
              "    }\n",
              "\n",
              "    .dataframe thead th {\n",
              "        text-align: right;\n",
              "    }\n",
              "</style>\n",
              "<table border=\"1\" class=\"dataframe\">\n",
              "  <thead>\n",
              "    <tr style=\"text-align: right;\">\n",
              "      <th></th>\n",
              "      <th>immatriculation</th>\n",
              "      <th>marque</th>\n",
              "      <th>nom</th>\n",
              "      <th>puissance</th>\n",
              "      <th>longueur</th>\n",
              "      <th>nbPlaces</th>\n",
              "      <th>nbPortes</th>\n",
              "      <th>couleur</th>\n",
              "      <th>occasion</th>\n",
              "      <th>prix</th>\n",
              "    </tr>\n",
              "  </thead>\n",
              "  <tbody>\n",
              "  </tbody>\n",
              "</table>\n",
              "</div>"
            ],
            "text/plain": [
              "Empty DataFrame\n",
              "Columns: [immatriculation, marque, nom, puissance, longueur, nbPlaces, nbPortes, couleur, occasion, prix]\n",
              "Index: []"
            ]
          },
          "execution_count": 32,
          "metadata": {},
          "output_type": "execute_result"
        }
      ],
      "source": [
        "im_df[im_df.occasion.isin(['?', 'N/D', ' '])]"
      ]
    },
    {
      "cell_type": "markdown",
      "metadata": {
        "id": "X-q5pWO8ePa9"
      },
      "source": [
        "On vérifie si les valeurs de puissance dans le dataset respectent le domaine de valeurs"
      ]
    },
    {
      "cell_type": "code",
      "execution_count": 33,
      "metadata": {
        "colab": {
          "base_uri": "https://localhost:8080/"
        },
        "id": "dn1bPavK_tyH",
        "outputId": "1becb323-3f72-4b6d-c615-9a9ecf7fc6e4"
      },
      "outputs": [
        {
          "data": {
            "text/plain": [
              "Series([], Name: puissance, dtype: int64)"
            ]
          },
          "execution_count": 33,
          "metadata": {},
          "output_type": "execute_result"
        }
      ],
      "source": [
        "im_df.loc[(im_df.puissance < 55) | (im_df.puissance > 507), \"puissance\"]"
      ]
    },
    {
      "cell_type": "markdown",
      "metadata": {
        "id": "bUc9O2JUeI-y"
      },
      "source": [
        "On vérifie et supprime toutes les lignes qui contiennent des valeurs qui ne sont pas dans le domaine de valeurs"
      ]
    },
    {
      "cell_type": "code",
      "execution_count": 34,
      "metadata": {
        "id": "IpHT_NDTCBM2"
      },
      "outputs": [],
      "source": [
        "im_idx = im_df[im_df.immatriculation.str.contains('^[\\d]{1,4}[\\s][\\w]{2}[\\s][\\d]{2}$', regex=True) == False].index\n",
        "im_df.drop(im_idx, inplace=True)"
      ]
    },
    {
      "cell_type": "code",
      "execution_count": 35,
      "metadata": {
        "colab": {
          "base_uri": "https://localhost:8080/",
          "height": 50
        },
        "id": "_lYC4da_eH3q",
        "outputId": "7c777191-d109-424c-ea9f-d30cf9f4bd24"
      },
      "outputs": [
        {
          "data": {
            "text/html": [
              "<div>\n",
              "<style scoped>\n",
              "    .dataframe tbody tr th:only-of-type {\n",
              "        vertical-align: middle;\n",
              "    }\n",
              "\n",
              "    .dataframe tbody tr th {\n",
              "        vertical-align: top;\n",
              "    }\n",
              "\n",
              "    .dataframe thead th {\n",
              "        text-align: right;\n",
              "    }\n",
              "</style>\n",
              "<table border=\"1\" class=\"dataframe\">\n",
              "  <thead>\n",
              "    <tr style=\"text-align: right;\">\n",
              "      <th></th>\n",
              "      <th>immatriculation</th>\n",
              "      <th>marque</th>\n",
              "      <th>nom</th>\n",
              "      <th>puissance</th>\n",
              "      <th>longueur</th>\n",
              "      <th>nbPlaces</th>\n",
              "      <th>nbPortes</th>\n",
              "      <th>couleur</th>\n",
              "      <th>occasion</th>\n",
              "      <th>prix</th>\n",
              "    </tr>\n",
              "  </thead>\n",
              "  <tbody>\n",
              "  </tbody>\n",
              "</table>\n",
              "</div>"
            ],
            "text/plain": [
              "Empty DataFrame\n",
              "Columns: [immatriculation, marque, nom, puissance, longueur, nbPlaces, nbPortes, couleur, occasion, prix]\n",
              "Index: []"
            ]
          },
          "execution_count": 35,
          "metadata": {},
          "output_type": "execute_result"
        }
      ],
      "source": [
        "marque_arr = ['Audi', 'BMW', 'Dacia', 'Daihatsu', 'Fiat', 'Ford','Honda', 'Hyundaï', 'Jaguar', 'Kia', 'Lancia','Mercedes' , 'Mini', 'Nissan', 'Peugeot', 'Renault', 'Saab', 'Seat', 'Skoda', 'Volkswagen','Volvo']\n",
        "im_df[im_df.marque.isin(marque_arr) == False]"
      ]
    },
    {
      "cell_type": "code",
      "execution_count": 36,
      "metadata": {
        "id": "-BWiazkBfxtC"
      },
      "outputs": [],
      "source": [
        "nom_arr = ['S80 T6', 'Touran 2.0 FSI', 'Polo 1.2 6V','New Beatle 1.8', 'Golf 2.0 FSI', 'Superb 2.8 V6', 'Toledo 1.6', '9.3 1.8T', 'Vel Satis 3.5 V6', 'Megane 2.0 16V','Laguna 2.0T', 'Espace 2.0T', '1007 1.4', 'Primera 1.6', 'Maxima 3.0 V6','Almera 1.8', 'Copper 1.6 16V', 'S500', 'A200', 'Ypsilon 1.4 16V', 'Picanto 1.1', 'X-Type 2.5 V6', 'Matrix 1.6', 'FR-V 1.7', 'Mondeo 1.8', 'Croma 2.2','Cuore 1.0', 'Logan 1.6 MPI', 'M5', '120i', 'A3 2.0 FSI', 'A2 1.4']\n",
        "nom_idx = im_df[im_df.nom.isin(nom_arr) == False].index\n",
        "im_df.drop(nom_idx, inplace=True)"
      ]
    },
    {
      "cell_type": "code",
      "execution_count": 37,
      "metadata": {
        "colab": {
          "base_uri": "https://localhost:8080/",
          "height": 50
        },
        "id": "uRPQzQJ5iwfX",
        "outputId": "0b0abbc9-4d6c-42fc-849b-f3d9b2081777"
      },
      "outputs": [
        {
          "data": {
            "text/html": [
              "<div>\n",
              "<style scoped>\n",
              "    .dataframe tbody tr th:only-of-type {\n",
              "        vertical-align: middle;\n",
              "    }\n",
              "\n",
              "    .dataframe tbody tr th {\n",
              "        vertical-align: top;\n",
              "    }\n",
              "\n",
              "    .dataframe thead th {\n",
              "        text-align: right;\n",
              "    }\n",
              "</style>\n",
              "<table border=\"1\" class=\"dataframe\">\n",
              "  <thead>\n",
              "    <tr style=\"text-align: right;\">\n",
              "      <th></th>\n",
              "      <th>immatriculation</th>\n",
              "      <th>marque</th>\n",
              "      <th>nom</th>\n",
              "      <th>puissance</th>\n",
              "      <th>longueur</th>\n",
              "      <th>nbPlaces</th>\n",
              "      <th>nbPortes</th>\n",
              "      <th>couleur</th>\n",
              "      <th>occasion</th>\n",
              "      <th>prix</th>\n",
              "    </tr>\n",
              "  </thead>\n",
              "  <tbody>\n",
              "  </tbody>\n",
              "</table>\n",
              "</div>"
            ],
            "text/plain": [
              "Empty DataFrame\n",
              "Columns: [immatriculation, marque, nom, puissance, longueur, nbPlaces, nbPortes, couleur, occasion, prix]\n",
              "Index: []"
            ]
          },
          "execution_count": 37,
          "metadata": {},
          "output_type": "execute_result"
        }
      ],
      "source": [
        "im_df[im_df.longueur.isin(['courte', 'moyenne', 'longue', 'très longue']) == False]"
      ]
    },
    {
      "cell_type": "code",
      "execution_count": 38,
      "metadata": {
        "colab": {
          "base_uri": "https://localhost:8080/"
        },
        "id": "laM2nY-bjxwe",
        "outputId": "81bc7662-4c50-4b04-e14e-bb138ebc56d1"
      },
      "outputs": [
        {
          "data": {
            "text/plain": [
              "Series([], Name: nbPlaces, dtype: int64)"
            ]
          },
          "execution_count": 38,
          "metadata": {},
          "output_type": "execute_result"
        }
      ],
      "source": [
        "im_df.loc[(im_df.nbPlaces < 5) | (im_df.nbPlaces > 7), \"nbPlaces\"]"
      ]
    },
    {
      "cell_type": "code",
      "execution_count": 39,
      "metadata": {
        "colab": {
          "base_uri": "https://localhost:8080/"
        },
        "id": "nIrIrct_kP6i",
        "outputId": "d56de513-c1bc-4d6a-9b7c-6245aa2a45dd"
      },
      "outputs": [
        {
          "data": {
            "text/plain": [
              "array([5, 3], dtype=int64)"
            ]
          },
          "execution_count": 39,
          "metadata": {},
          "output_type": "execute_result"
        }
      ],
      "source": [
        "im_df.loc[(im_df.nbPortes < 3) | (im_df.nbPortes > 5), \"nbPortes\"]\n",
        "im_df.nbPortes.unique()"
      ]
    },
    {
      "cell_type": "code",
      "execution_count": 40,
      "metadata": {
        "colab": {
          "base_uri": "https://localhost:8080/",
          "height": 50
        },
        "id": "UbP0_2wfkhmv",
        "outputId": "c5c697d2-5c85-4b33-a745-f571af6795f9"
      },
      "outputs": [
        {
          "data": {
            "text/html": [
              "<div>\n",
              "<style scoped>\n",
              "    .dataframe tbody tr th:only-of-type {\n",
              "        vertical-align: middle;\n",
              "    }\n",
              "\n",
              "    .dataframe tbody tr th {\n",
              "        vertical-align: top;\n",
              "    }\n",
              "\n",
              "    .dataframe thead th {\n",
              "        text-align: right;\n",
              "    }\n",
              "</style>\n",
              "<table border=\"1\" class=\"dataframe\">\n",
              "  <thead>\n",
              "    <tr style=\"text-align: right;\">\n",
              "      <th></th>\n",
              "      <th>immatriculation</th>\n",
              "      <th>marque</th>\n",
              "      <th>nom</th>\n",
              "      <th>puissance</th>\n",
              "      <th>longueur</th>\n",
              "      <th>nbPlaces</th>\n",
              "      <th>nbPortes</th>\n",
              "      <th>couleur</th>\n",
              "      <th>occasion</th>\n",
              "      <th>prix</th>\n",
              "    </tr>\n",
              "  </thead>\n",
              "  <tbody>\n",
              "  </tbody>\n",
              "</table>\n",
              "</div>"
            ],
            "text/plain": [
              "Empty DataFrame\n",
              "Columns: [immatriculation, marque, nom, puissance, longueur, nbPlaces, nbPortes, couleur, occasion, prix]\n",
              "Index: []"
            ]
          },
          "execution_count": 40,
          "metadata": {},
          "output_type": "execute_result"
        }
      ],
      "source": [
        "im_df[im_df.couleur.isin(['blanc', 'bleu', 'gris', 'noir', 'rouge']) == False]"
      ]
    },
    {
      "cell_type": "code",
      "execution_count": 41,
      "metadata": {
        "colab": {
          "base_uri": "https://localhost:8080/"
        },
        "id": "IA43theWkuBT",
        "outputId": "cc2966ba-b936-467e-c906-82438d858852"
      },
      "outputs": [
        {
          "data": {
            "text/plain": [
              "array([False,  True])"
            ]
          },
          "execution_count": 41,
          "metadata": {},
          "output_type": "execute_result"
        }
      ],
      "source": [
        "im_df.occasion.unique()"
      ]
    },
    {
      "cell_type": "code",
      "execution_count": 42,
      "metadata": {
        "colab": {
          "base_uri": "https://localhost:8080/"
        },
        "id": "xtzwKSCOlHY3",
        "outputId": "b8a88235-18cf-472d-fbb7-73458d1089ab"
      },
      "outputs": [
        {
          "data": {
            "text/plain": [
              "Series([], Name: prix, dtype: int64)"
            ]
          },
          "execution_count": 42,
          "metadata": {},
          "output_type": "execute_result"
        }
      ],
      "source": [
        "im_df.loc[(im_df.prix < 7500) | (im_df.prix > 101300), \"prix\"]"
      ]
    },
    {
      "cell_type": "code",
      "execution_count": 43,
      "metadata": {
        "colab": {
          "base_uri": "https://localhost:8080/"
        },
        "id": "KPmK3It2lXnc",
        "outputId": "fc060f61-a4ee-4904-d27c-c45da6807b63"
      },
      "outputs": [
        {
          "name": "stdout",
          "output_type": "stream",
          "text": [
            "<class 'pandas.core.frame.DataFrame'>\n",
            "Int64Index: 2000000 entries, 0 to 1999999\n",
            "Data columns (total 10 columns):\n",
            " #   Column           Dtype \n",
            "---  ------           ----- \n",
            " 0   immatriculation  object\n",
            " 1   marque           object\n",
            " 2   nom              object\n",
            " 3   puissance        int64 \n",
            " 4   longueur         object\n",
            " 5   nbPlaces         int64 \n",
            " 6   nbPortes         int64 \n",
            " 7   couleur          object\n",
            " 8   occasion         bool  \n",
            " 9   prix             int64 \n",
            "dtypes: bool(1), int64(4), object(5)\n",
            "memory usage: 219.0+ MB\n"
          ]
        }
      ],
      "source": [
        "im_df.info()"
      ]
    },
    {
      "cell_type": "markdown",
      "metadata": {
        "id": "yI30k7sClh9N"
      },
      "source": [
        "# Analyse des données Véhicule"
      ]
    },
    {
      "cell_type": "code",
      "execution_count": 44,
      "metadata": {
        "colab": {
          "base_uri": "https://localhost:8080/"
        },
        "id": "veus_uuBmdhn",
        "outputId": "8b7f4e5e-b897-4aa9-968a-1aa8417953ea"
      },
      "outputs": [
        {
          "name": "stdout",
          "output_type": "stream",
          "text": [
            "<class 'pandas.core.frame.DataFrame'>\n",
            "RangeIndex: 270 entries, 0 to 269\n",
            "Data columns (total 9 columns):\n",
            " #   Column     Non-Null Count  Dtype \n",
            "---  ------     --------------  ----- \n",
            " 0   marque     270 non-null    object\n",
            " 1   nom        270 non-null    object\n",
            " 2   puissance  270 non-null    int64 \n",
            " 3   longueur   270 non-null    object\n",
            " 4   nbPlaces   270 non-null    int64 \n",
            " 5   nbPortes   270 non-null    int64 \n",
            " 6   couleur    270 non-null    object\n",
            " 7   occasion   270 non-null    bool  \n",
            " 8   prix       270 non-null    int64 \n",
            "dtypes: bool(1), int64(4), object(4)\n",
            "memory usage: 17.3+ KB\n"
          ]
        }
      ],
      "source": [
        "catalog_df.info()"
      ]
    },
    {
      "cell_type": "code",
      "execution_count": 45,
      "metadata": {
        "colab": {
          "base_uri": "https://localhost:8080/",
          "height": 599
        },
        "id": "o9rVeuFlnYNM",
        "outputId": "9cfe6a4b-f37e-4e41-d95e-cf3538692b12"
      },
      "outputs": [
        {
          "data": {
            "text/plain": [
              "<AxesSubplot:xlabel='prix', ylabel='Count'>"
            ]
          },
          "execution_count": 45,
          "metadata": {},
          "output_type": "execute_result"
        },
        {
          "data": {
            "image/png": "[encoded data removed]",
            "text/plain": [
              "<Figure size 1440x720 with 9 Axes>"
            ]
          },
          "metadata": {
            "needs_background": "light"
          },
          "output_type": "display_data"
        }
      ],
      "source": [
        "fig, axs = plt.subplots(3, 3, figsize=(20, 10))\n",
        "sns.histplot(catalog_df.marque, ax=axs[0, 1])\n",
        "sns.histplot(catalog_df.nom, ax=axs[0, 2])\n",
        "sns.histplot(catalog_df.puissance, ax=axs[1, 0])\n",
        "sns.histplot(catalog_df.longueur, ax=axs[1, 1])\n",
        "sns.histplot(catalog_df.nbPlaces, ax=axs[1, 2])\n",
        "sns.histplot(catalog_df.nbPortes, ax=axs[2, 0])\n",
        "sns.histplot(catalog_df.couleur, ax=axs[2, 1])\n",
        "# sns.histplot(catalog_df.occasion, ax=axs[2, 2])\n",
        "sns.histplot(catalog_df.prix, ax=axs[2, 2])"
      ]
    },
    {
      "cell_type": "code",
      "execution_count": 46,
      "metadata": {},
      "outputs": [
        {
          "data": {
            "text/html": [
              "<div>\n",
              "<style scoped>\n",
              "    .dataframe tbody tr th:only-of-type {\n",
              "        vertical-align: middle;\n",
              "    }\n",
              "\n",
              "    .dataframe tbody tr th {\n",
              "        vertical-align: top;\n",
              "    }\n",
              "\n",
              "    .dataframe thead th {\n",
              "        text-align: right;\n",
              "    }\n",
              "</style>\n",
              "<table border=\"1\" class=\"dataframe\">\n",
              "  <thead>\n",
              "    <tr style=\"text-align: right;\">\n",
              "      <th></th>\n",
              "      <th>marque</th>\n",
              "      <th>nom</th>\n",
              "      <th>puissance</th>\n",
              "      <th>longueur</th>\n",
              "      <th>nbPlaces</th>\n",
              "      <th>nbPortes</th>\n",
              "      <th>couleur</th>\n",
              "      <th>occasion</th>\n",
              "      <th>prix</th>\n",
              "    </tr>\n",
              "  </thead>\n",
              "  <tbody>\n",
              "  </tbody>\n",
              "</table>\n",
              "</div>"
            ],
            "text/plain": [
              "Empty DataFrame\n",
              "Columns: [marque, nom, puissance, longueur, nbPlaces, nbPortes, couleur, occasion, prix]\n",
              "Index: []"
            ]
          },
          "execution_count": 46,
          "metadata": {},
          "output_type": "execute_result"
        }
      ],
      "source": [
        "catalog_df[catalog_df.occasion.isin(['?', 'N/D', ' '])]"
      ]
    },
    {
      "cell_type": "code",
      "execution_count": 47,
      "metadata": {
        "colab": {
          "base_uri": "https://localhost:8080/"
        },
        "id": "1jAMyQA4oW5_",
        "outputId": "d7f8fe0a-ba34-43d7-8533-b9de0c980fc1"
      },
      "outputs": [
        {
          "data": {
            "text/plain": [
              "array(['Volvo', 'Volkswagen', 'Skoda', 'Seat', 'Saab', 'Renault',\n",
              "       'Peugeot', 'Nissan', 'Mini', 'Mercedes', 'Lancia', 'Kia', 'Jaguar',\n",
              "       'Hyundaï', 'Honda', 'Ford', 'Fiat', 'Daihatsu', 'Dacia', 'BMW',\n",
              "       'Audi'], dtype=object)"
            ]
          },
          "execution_count": 47,
          "metadata": {},
          "output_type": "execute_result"
        }
      ],
      "source": [
        "catalog_df.marque.unique()"
      ]
    },
    {
      "cell_type": "code",
      "execution_count": 48,
      "metadata": {
        "colab": {
          "base_uri": "https://localhost:8080/",
          "height": 50
        },
        "id": "qpvIyAiyoDDC",
        "outputId": "b18d9a3c-0fcb-4ad1-a31f-44c7a95d323c"
      },
      "outputs": [
        {
          "data": {
            "text/html": [
              "<div>\n",
              "<style scoped>\n",
              "    .dataframe tbody tr th:only-of-type {\n",
              "        vertical-align: middle;\n",
              "    }\n",
              "\n",
              "    .dataframe tbody tr th {\n",
              "        vertical-align: top;\n",
              "    }\n",
              "\n",
              "    .dataframe thead th {\n",
              "        text-align: right;\n",
              "    }\n",
              "</style>\n",
              "<table border=\"1\" class=\"dataframe\">\n",
              "  <thead>\n",
              "    <tr style=\"text-align: right;\">\n",
              "      <th></th>\n",
              "      <th>marque</th>\n",
              "      <th>nom</th>\n",
              "      <th>puissance</th>\n",
              "      <th>longueur</th>\n",
              "      <th>nbPlaces</th>\n",
              "      <th>nbPortes</th>\n",
              "      <th>couleur</th>\n",
              "      <th>occasion</th>\n",
              "      <th>prix</th>\n",
              "    </tr>\n",
              "  </thead>\n",
              "  <tbody>\n",
              "  </tbody>\n",
              "</table>\n",
              "</div>"
            ],
            "text/plain": [
              "Empty DataFrame\n",
              "Columns: [marque, nom, puissance, longueur, nbPlaces, nbPortes, couleur, occasion, prix]\n",
              "Index: []"
            ]
          },
          "execution_count": 48,
          "metadata": {},
          "output_type": "execute_result"
        }
      ],
      "source": [
        "catalog_df[catalog_df.marque.isin(marque_arr) == False]"
      ]
    },
    {
      "cell_type": "code",
      "execution_count": 49,
      "metadata": {
        "colab": {
          "base_uri": "https://localhost:8080/",
          "height": 50
        },
        "id": "BExkUkCbqV5t",
        "outputId": "bb9ab614-a11d-4121-e03f-912fd4a70085"
      },
      "outputs": [
        {
          "data": {
            "text/html": [
              "<div>\n",
              "<style scoped>\n",
              "    .dataframe tbody tr th:only-of-type {\n",
              "        vertical-align: middle;\n",
              "    }\n",
              "\n",
              "    .dataframe tbody tr th {\n",
              "        vertical-align: top;\n",
              "    }\n",
              "\n",
              "    .dataframe thead th {\n",
              "        text-align: right;\n",
              "    }\n",
              "</style>\n",
              "<table border=\"1\" class=\"dataframe\">\n",
              "  <thead>\n",
              "    <tr style=\"text-align: right;\">\n",
              "      <th></th>\n",
              "      <th>marque</th>\n",
              "      <th>nom</th>\n",
              "      <th>puissance</th>\n",
              "      <th>longueur</th>\n",
              "      <th>nbPlaces</th>\n",
              "      <th>nbPortes</th>\n",
              "      <th>couleur</th>\n",
              "      <th>occasion</th>\n",
              "      <th>prix</th>\n",
              "    </tr>\n",
              "  </thead>\n",
              "  <tbody>\n",
              "  </tbody>\n",
              "</table>\n",
              "</div>"
            ],
            "text/plain": [
              "Empty DataFrame\n",
              "Columns: [marque, nom, puissance, longueur, nbPlaces, nbPortes, couleur, occasion, prix]\n",
              "Index: []"
            ]
          },
          "execution_count": 49,
          "metadata": {},
          "output_type": "execute_result"
        }
      ],
      "source": [
        "catalog_df[catalog_df.nom.isin(nom_arr) == False]"
      ]
    },
    {
      "cell_type": "code",
      "execution_count": 50,
      "metadata": {
        "colab": {
          "base_uri": "https://localhost:8080/",
          "height": 50
        },
        "id": "madsps0Xrh4N",
        "outputId": "3fd65849-da2a-4c96-c8a3-2f4a57e0497a"
      },
      "outputs": [
        {
          "data": {
            "text/html": [
              "<div>\n",
              "<style scoped>\n",
              "    .dataframe tbody tr th:only-of-type {\n",
              "        vertical-align: middle;\n",
              "    }\n",
              "\n",
              "    .dataframe tbody tr th {\n",
              "        vertical-align: top;\n",
              "    }\n",
              "\n",
              "    .dataframe thead th {\n",
              "        text-align: right;\n",
              "    }\n",
              "</style>\n",
              "<table border=\"1\" class=\"dataframe\">\n",
              "  <thead>\n",
              "    <tr style=\"text-align: right;\">\n",
              "      <th></th>\n",
              "      <th>marque</th>\n",
              "      <th>nom</th>\n",
              "      <th>puissance</th>\n",
              "      <th>longueur</th>\n",
              "      <th>nbPlaces</th>\n",
              "      <th>nbPortes</th>\n",
              "      <th>couleur</th>\n",
              "      <th>occasion</th>\n",
              "      <th>prix</th>\n",
              "    </tr>\n",
              "  </thead>\n",
              "  <tbody>\n",
              "  </tbody>\n",
              "</table>\n",
              "</div>"
            ],
            "text/plain": [
              "Empty DataFrame\n",
              "Columns: [marque, nom, puissance, longueur, nbPlaces, nbPortes, couleur, occasion, prix]\n",
              "Index: []"
            ]
          },
          "execution_count": 50,
          "metadata": {},
          "output_type": "execute_result"
        }
      ],
      "source": [
        "catalog_df[catalog_df.longueur.isin(['courte', 'moyenne', 'longue', 'très longue']) == False]"
      ]
    },
    {
      "cell_type": "code",
      "execution_count": 51,
      "metadata": {
        "colab": {
          "base_uri": "https://localhost:8080/"
        },
        "id": "-HO6PkxFrkLx",
        "outputId": "5a855d83-5981-48aa-be9e-63422b61aecd"
      },
      "outputs": [
        {
          "data": {
            "text/plain": [
              "Series([], Name: nbPlaces, dtype: int64)"
            ]
          },
          "execution_count": 51,
          "metadata": {},
          "output_type": "execute_result"
        }
      ],
      "source": [
        "catalog_df.loc[(catalog_df.nbPlaces < 5) | (catalog_df.nbPlaces > 7), \"nbPlaces\"]"
      ]
    },
    {
      "cell_type": "code",
      "execution_count": 52,
      "metadata": {
        "colab": {
          "base_uri": "https://localhost:8080/"
        },
        "id": "62yvIMvArmBV",
        "outputId": "1c39780c-2d91-44e8-f40c-46817f904844"
      },
      "outputs": [
        {
          "data": {
            "text/plain": [
              "Series([], Name: nbPortes, dtype: int64)"
            ]
          },
          "execution_count": 52,
          "metadata": {},
          "output_type": "execute_result"
        }
      ],
      "source": [
        "catalog_df.loc[(catalog_df.nbPortes < 3) | (catalog_df.nbPortes > 5), \"nbPortes\"]"
      ]
    },
    {
      "cell_type": "code",
      "execution_count": 53,
      "metadata": {
        "colab": {
          "base_uri": "https://localhost:8080/",
          "height": 50
        },
        "id": "Y6hugZdOrwf7",
        "outputId": "60460d2d-03a4-4fbf-fcc1-0b4754bed43e"
      },
      "outputs": [
        {
          "data": {
            "text/html": [
              "<div>\n",
              "<style scoped>\n",
              "    .dataframe tbody tr th:only-of-type {\n",
              "        vertical-align: middle;\n",
              "    }\n",
              "\n",
              "    .dataframe tbody tr th {\n",
              "        vertical-align: top;\n",
              "    }\n",
              "\n",
              "    .dataframe thead th {\n",
              "        text-align: right;\n",
              "    }\n",
              "</style>\n",
              "<table border=\"1\" class=\"dataframe\">\n",
              "  <thead>\n",
              "    <tr style=\"text-align: right;\">\n",
              "      <th></th>\n",
              "      <th>marque</th>\n",
              "      <th>nom</th>\n",
              "      <th>puissance</th>\n",
              "      <th>longueur</th>\n",
              "      <th>nbPlaces</th>\n",
              "      <th>nbPortes</th>\n",
              "      <th>couleur</th>\n",
              "      <th>occasion</th>\n",
              "      <th>prix</th>\n",
              "    </tr>\n",
              "  </thead>\n",
              "  <tbody>\n",
              "  </tbody>\n",
              "</table>\n",
              "</div>"
            ],
            "text/plain": [
              "Empty DataFrame\n",
              "Columns: [marque, nom, puissance, longueur, nbPlaces, nbPortes, couleur, occasion, prix]\n",
              "Index: []"
            ]
          },
          "execution_count": 53,
          "metadata": {},
          "output_type": "execute_result"
        }
      ],
      "source": [
        "catalog_df[catalog_df.couleur.isin(['blanc', 'bleu', 'gris', 'noir', 'rouge']) == False]"
      ]
    },
    {
      "cell_type": "code",
      "execution_count": 54,
      "metadata": {
        "colab": {
          "base_uri": "https://localhost:8080/"
        },
        "id": "i9tUGKbnsIQN",
        "outputId": "184d5daf-ba01-4846-8a80-e71f0ce83bee"
      },
      "outputs": [
        {
          "data": {
            "text/plain": [
              "array([False,  True])"
            ]
          },
          "execution_count": 54,
          "metadata": {},
          "output_type": "execute_result"
        }
      ],
      "source": [
        "catalog_df.occasion.unique()"
      ]
    },
    {
      "cell_type": "code",
      "execution_count": 55,
      "metadata": {
        "colab": {
          "base_uri": "https://localhost:8080/"
        },
        "id": "bs1bVIRLsR6R",
        "outputId": "0c0d87b4-8263-4350-d244-1ac6429e82e2"
      },
      "outputs": [
        {
          "data": {
            "text/plain": [
              "Series([], Name: prix, dtype: int64)"
            ]
          },
          "execution_count": 55,
          "metadata": {},
          "output_type": "execute_result"
        }
      ],
      "source": [
        "catalog_df.loc[(catalog_df.prix < 7500) | (catalog_df.prix > 101300), \"prix\"]"
      ]
    },
    {
      "cell_type": "markdown",
      "metadata": {
        "id": "gMyPi-a0sRzd"
      },
      "source": [
        "# Analyse des données de Marketing"
      ]
    },
    {
      "cell_type": "code",
      "execution_count": 56,
      "metadata": {
        "colab": {
          "base_uri": "https://localhost:8080/"
        },
        "id": "jIv_QOLptEUU",
        "outputId": "8ff0c3c5-5bce-406a-8086-b4c03bdc3378"
      },
      "outputs": [
        {
          "name": "stdout",
          "output_type": "stream",
          "text": [
            "<class 'pandas.core.frame.DataFrame'>\n",
            "RangeIndex: 20 entries, 0 to 19\n",
            "Data columns (total 6 columns):\n",
            " #   Column              Non-Null Count  Dtype \n",
            "---  ------              --------------  ----- \n",
            " 0   age                 20 non-null     int64 \n",
            " 1   sexe                20 non-null     object\n",
            " 2   taux                20 non-null     int64 \n",
            " 3   situationFamiliale  20 non-null     object\n",
            " 4   nbEnfantsAcharge    20 non-null     int64 \n",
            " 5   2eme voiture        20 non-null     bool  \n",
            "dtypes: bool(1), int64(3), object(2)\n",
            "memory usage: 948.0+ bytes\n"
          ]
        }
      ],
      "source": [
        "marketing_df.info()"
      ]
    },
    {
      "cell_type": "code",
      "execution_count": 57,
      "metadata": {
        "colab": {
          "base_uri": "https://localhost:8080/",
          "height": 594
        },
        "id": "p6c22dnhtc_P",
        "outputId": "9af96a56-e1d9-448a-bd63-6921b479abae"
      },
      "outputs": [
        {
          "data": {
            "text/plain": [
              "<AxesSubplot:xlabel='nbEnfantsAcharge', ylabel='Count'>"
            ]
          },
          "execution_count": 57,
          "metadata": {},
          "output_type": "execute_result"
        },
        {
          "data": {
            "image/png": "[encoded data removed]",
            "text/plain": [
              "<Figure size 1440x720 with 6 Axes>"
            ]
          },
          "metadata": {
            "needs_background": "light"
          },
          "output_type": "display_data"
        }
      ],
      "source": [
        "fig, axs = plt.subplots(2, 3, figsize=(20, 10))\n",
        "sns.histplot(marketing_df.age, ax=axs[0, 0])\n",
        "sns.histplot(marketing_df.sexe, ax=axs[0, 1])\n",
        "sns.histplot(marketing_df.taux, ax=axs[0, 2])\n",
        "sns.histplot(marketing_df.situationFamiliale, ax=axs[1, 0])\n",
        "sns.histplot(marketing_df.nbEnfantsAcharge, ax=axs[1, 1])\n",
        "#sns.histplot(marketing_df[\"2eme voiture\"], ax=axs[1, 2])"
      ]
    },
    {
      "cell_type": "code",
      "execution_count": 58,
      "metadata": {
        "colab": {
          "base_uri": "https://localhost:8080/"
        },
        "id": "wLoDpQb8tt91",
        "outputId": "182335be-d53c-41fc-8022-42cab5f40296"
      },
      "outputs": [
        {
          "data": {
            "text/plain": [
              "0         522\n",
              "3         522\n",
              "5         522\n",
              "6         522\n",
              "9         522\n",
              "         ... \n",
              "199991    522\n",
              "199992    522\n",
              "199994    522\n",
              "199995    522\n",
              "199998    522\n",
              "Name: taux, Length: 110107, dtype: int32"
            ]
          },
          "execution_count": 58,
          "metadata": {},
          "output_type": "execute_result"
        }
      ],
      "source": [
        "client_df.loc[(client_df.taux < 544) | (client_df.taux > 74185), \"taux\"]"
      ]
    },
    {
      "cell_type": "markdown",
      "metadata": {
        "id": "ZMzaB82cvi-A"
      },
      "source": [
        "# Préparation des données"
      ]
    },
    {
      "cell_type": "code",
      "execution_count": 59,
      "metadata": {
        "colab": {
          "base_uri": "https://localhost:8080/",
          "height": 283
        },
        "id": "7O73D8xJJ_X4",
        "outputId": "82ba2b16-6522-45f6-f834-71d15abae143"
      },
      "outputs": [
        {
          "data": {
            "text/plain": [
              "<matplotlib.collections.PathCollection at 0x17abcfd9ac0>"
            ]
          },
          "execution_count": 59,
          "metadata": {},
          "output_type": "execute_result"
        },
        {
          "data": {
            "image/png": "[encoded data removed]",
            "text/plain": [
              "<Figure size 432x288 with 1 Axes>"
            ]
          },
          "metadata": {
            "needs_background": "light"
          },
          "output_type": "display_data"
        }
      ],
      "source": [
        "plt.scatter(catalog_df.puissance, catalog_df.prix)"
      ]
    },
    {
      "cell_type": "code",
      "execution_count": 60,
      "metadata": {
        "colab": {
          "base_uri": "https://localhost:8080/",
          "height": 990
        },
        "id": "nJOKgA2svlS9",
        "outputId": "2bf3427d-a894-401f-f019-ef7bdbc68201"
      },
      "outputs": [
        {
          "data": {
            "text/html": [
              "<div>\n",
              "<style scoped>\n",
              "    .dataframe tbody tr th:only-of-type {\n",
              "        vertical-align: middle;\n",
              "    }\n",
              "\n",
              "    .dataframe tbody tr th {\n",
              "        vertical-align: top;\n",
              "    }\n",
              "\n",
              "    .dataframe thead th {\n",
              "        text-align: right;\n",
              "    }\n",
              "</style>\n",
              "<table border=\"1\" class=\"dataframe\">\n",
              "  <thead>\n",
              "    <tr style=\"text-align: right;\">\n",
              "      <th></th>\n",
              "      <th>marque</th>\n",
              "      <th>nom</th>\n",
              "      <th>puissance</th>\n",
              "      <th>longueur</th>\n",
              "      <th>nbPlaces</th>\n",
              "      <th>nbPortes</th>\n",
              "      <th>couleur</th>\n",
              "      <th>occasion</th>\n",
              "      <th>prix</th>\n",
              "    </tr>\n",
              "  </thead>\n",
              "  <tbody>\n",
              "    <tr>\n",
              "      <th>0</th>\n",
              "      <td>Volvo</td>\n",
              "      <td>S80 T6</td>\n",
              "      <td>272</td>\n",
              "      <td>très longue</td>\n",
              "      <td>5</td>\n",
              "      <td>5</td>\n",
              "      <td>blanc</td>\n",
              "      <td>False</td>\n",
              "      <td>50500</td>\n",
              "    </tr>\n",
              "    <tr>\n",
              "      <th>1</th>\n",
              "      <td>Volvo</td>\n",
              "      <td>S80 T6</td>\n",
              "      <td>272</td>\n",
              "      <td>très longue</td>\n",
              "      <td>5</td>\n",
              "      <td>5</td>\n",
              "      <td>noir</td>\n",
              "      <td>False</td>\n",
              "      <td>50500</td>\n",
              "    </tr>\n",
              "    <tr>\n",
              "      <th>2</th>\n",
              "      <td>Volvo</td>\n",
              "      <td>S80 T6</td>\n",
              "      <td>272</td>\n",
              "      <td>très longue</td>\n",
              "      <td>5</td>\n",
              "      <td>5</td>\n",
              "      <td>rouge</td>\n",
              "      <td>False</td>\n",
              "      <td>50500</td>\n",
              "    </tr>\n",
              "    <tr>\n",
              "      <th>3</th>\n",
              "      <td>Volvo</td>\n",
              "      <td>S80 T6</td>\n",
              "      <td>272</td>\n",
              "      <td>très longue</td>\n",
              "      <td>5</td>\n",
              "      <td>5</td>\n",
              "      <td>gris</td>\n",
              "      <td>True</td>\n",
              "      <td>35350</td>\n",
              "    </tr>\n",
              "    <tr>\n",
              "      <th>4</th>\n",
              "      <td>Volvo</td>\n",
              "      <td>S80 T6</td>\n",
              "      <td>272</td>\n",
              "      <td>très longue</td>\n",
              "      <td>5</td>\n",
              "      <td>5</td>\n",
              "      <td>bleu</td>\n",
              "      <td>True</td>\n",
              "      <td>35350</td>\n",
              "    </tr>\n",
              "    <tr>\n",
              "      <th>5</th>\n",
              "      <td>Volvo</td>\n",
              "      <td>S80 T6</td>\n",
              "      <td>272</td>\n",
              "      <td>très longue</td>\n",
              "      <td>5</td>\n",
              "      <td>5</td>\n",
              "      <td>gris</td>\n",
              "      <td>False</td>\n",
              "      <td>50500</td>\n",
              "    </tr>\n",
              "    <tr>\n",
              "      <th>6</th>\n",
              "      <td>Volvo</td>\n",
              "      <td>S80 T6</td>\n",
              "      <td>272</td>\n",
              "      <td>très longue</td>\n",
              "      <td>5</td>\n",
              "      <td>5</td>\n",
              "      <td>bleu</td>\n",
              "      <td>False</td>\n",
              "      <td>50500</td>\n",
              "    </tr>\n",
              "    <tr>\n",
              "      <th>7</th>\n",
              "      <td>Volvo</td>\n",
              "      <td>S80 T6</td>\n",
              "      <td>272</td>\n",
              "      <td>très longue</td>\n",
              "      <td>5</td>\n",
              "      <td>5</td>\n",
              "      <td>rouge</td>\n",
              "      <td>True</td>\n",
              "      <td>35350</td>\n",
              "    </tr>\n",
              "    <tr>\n",
              "      <th>8</th>\n",
              "      <td>Volvo</td>\n",
              "      <td>S80 T6</td>\n",
              "      <td>272</td>\n",
              "      <td>très longue</td>\n",
              "      <td>5</td>\n",
              "      <td>5</td>\n",
              "      <td>blanc</td>\n",
              "      <td>True</td>\n",
              "      <td>35350</td>\n",
              "    </tr>\n",
              "    <tr>\n",
              "      <th>9</th>\n",
              "      <td>Volvo</td>\n",
              "      <td>S80 T6</td>\n",
              "      <td>272</td>\n",
              "      <td>très longue</td>\n",
              "      <td>5</td>\n",
              "      <td>5</td>\n",
              "      <td>noir</td>\n",
              "      <td>True</td>\n",
              "      <td>35350</td>\n",
              "    </tr>\n",
              "    <tr>\n",
              "      <th>10</th>\n",
              "      <td>Volkswagen</td>\n",
              "      <td>Touran 2.0 FSI</td>\n",
              "      <td>150</td>\n",
              "      <td>longue</td>\n",
              "      <td>7</td>\n",
              "      <td>5</td>\n",
              "      <td>rouge</td>\n",
              "      <td>False</td>\n",
              "      <td>27340</td>\n",
              "    </tr>\n",
              "    <tr>\n",
              "      <th>11</th>\n",
              "      <td>Volkswagen</td>\n",
              "      <td>Touran 2.0 FSI</td>\n",
              "      <td>150</td>\n",
              "      <td>longue</td>\n",
              "      <td>7</td>\n",
              "      <td>5</td>\n",
              "      <td>gris</td>\n",
              "      <td>True</td>\n",
              "      <td>19138</td>\n",
              "    </tr>\n",
              "    <tr>\n",
              "      <th>12</th>\n",
              "      <td>Volkswagen</td>\n",
              "      <td>Touran 2.0 FSI</td>\n",
              "      <td>150</td>\n",
              "      <td>longue</td>\n",
              "      <td>7</td>\n",
              "      <td>5</td>\n",
              "      <td>bleu</td>\n",
              "      <td>True</td>\n",
              "      <td>19138</td>\n",
              "    </tr>\n",
              "    <tr>\n",
              "      <th>13</th>\n",
              "      <td>Volkswagen</td>\n",
              "      <td>Touran 2.0 FSI</td>\n",
              "      <td>150</td>\n",
              "      <td>longue</td>\n",
              "      <td>7</td>\n",
              "      <td>5</td>\n",
              "      <td>gris</td>\n",
              "      <td>False</td>\n",
              "      <td>27340</td>\n",
              "    </tr>\n",
              "    <tr>\n",
              "      <th>14</th>\n",
              "      <td>Volkswagen</td>\n",
              "      <td>Touran 2.0 FSI</td>\n",
              "      <td>150</td>\n",
              "      <td>longue</td>\n",
              "      <td>7</td>\n",
              "      <td>5</td>\n",
              "      <td>bleu</td>\n",
              "      <td>False</td>\n",
              "      <td>27340</td>\n",
              "    </tr>\n",
              "    <tr>\n",
              "      <th>15</th>\n",
              "      <td>Volkswagen</td>\n",
              "      <td>Touran 2.0 FSI</td>\n",
              "      <td>150</td>\n",
              "      <td>longue</td>\n",
              "      <td>7</td>\n",
              "      <td>5</td>\n",
              "      <td>blanc</td>\n",
              "      <td>True</td>\n",
              "      <td>19138</td>\n",
              "    </tr>\n",
              "    <tr>\n",
              "      <th>16</th>\n",
              "      <td>Volkswagen</td>\n",
              "      <td>Touran 2.0 FSI</td>\n",
              "      <td>150</td>\n",
              "      <td>longue</td>\n",
              "      <td>7</td>\n",
              "      <td>5</td>\n",
              "      <td>noir</td>\n",
              "      <td>True</td>\n",
              "      <td>19138</td>\n",
              "    </tr>\n",
              "    <tr>\n",
              "      <th>17</th>\n",
              "      <td>Volkswagen</td>\n",
              "      <td>Touran 2.0 FSI</td>\n",
              "      <td>150</td>\n",
              "      <td>longue</td>\n",
              "      <td>7</td>\n",
              "      <td>5</td>\n",
              "      <td>rouge</td>\n",
              "      <td>True</td>\n",
              "      <td>19138</td>\n",
              "    </tr>\n",
              "    <tr>\n",
              "      <th>18</th>\n",
              "      <td>Volkswagen</td>\n",
              "      <td>Touran 2.0 FSI</td>\n",
              "      <td>150</td>\n",
              "      <td>longue</td>\n",
              "      <td>7</td>\n",
              "      <td>5</td>\n",
              "      <td>blanc</td>\n",
              "      <td>False</td>\n",
              "      <td>27340</td>\n",
              "    </tr>\n",
              "    <tr>\n",
              "      <th>19</th>\n",
              "      <td>Volkswagen</td>\n",
              "      <td>Touran 2.0 FSI</td>\n",
              "      <td>150</td>\n",
              "      <td>longue</td>\n",
              "      <td>7</td>\n",
              "      <td>5</td>\n",
              "      <td>noir</td>\n",
              "      <td>False</td>\n",
              "      <td>27340</td>\n",
              "    </tr>\n",
              "    <tr>\n",
              "      <th>20</th>\n",
              "      <td>Volkswagen</td>\n",
              "      <td>Polo 1.2 6V</td>\n",
              "      <td>55</td>\n",
              "      <td>courte</td>\n",
              "      <td>5</td>\n",
              "      <td>3</td>\n",
              "      <td>blanc</td>\n",
              "      <td>True</td>\n",
              "      <td>8540</td>\n",
              "    </tr>\n",
              "    <tr>\n",
              "      <th>21</th>\n",
              "      <td>Volkswagen</td>\n",
              "      <td>Polo 1.2 6V</td>\n",
              "      <td>55</td>\n",
              "      <td>courte</td>\n",
              "      <td>5</td>\n",
              "      <td>3</td>\n",
              "      <td>blanc</td>\n",
              "      <td>False</td>\n",
              "      <td>12200</td>\n",
              "    </tr>\n",
              "    <tr>\n",
              "      <th>22</th>\n",
              "      <td>Volkswagen</td>\n",
              "      <td>Polo 1.2 6V</td>\n",
              "      <td>55</td>\n",
              "      <td>courte</td>\n",
              "      <td>5</td>\n",
              "      <td>3</td>\n",
              "      <td>noir</td>\n",
              "      <td>False</td>\n",
              "      <td>12200</td>\n",
              "    </tr>\n",
              "    <tr>\n",
              "      <th>23</th>\n",
              "      <td>Volkswagen</td>\n",
              "      <td>Polo 1.2 6V</td>\n",
              "      <td>55</td>\n",
              "      <td>courte</td>\n",
              "      <td>5</td>\n",
              "      <td>3</td>\n",
              "      <td>noir</td>\n",
              "      <td>True</td>\n",
              "      <td>8540</td>\n",
              "    </tr>\n",
              "    <tr>\n",
              "      <th>24</th>\n",
              "      <td>Volkswagen</td>\n",
              "      <td>Polo 1.2 6V</td>\n",
              "      <td>55</td>\n",
              "      <td>courte</td>\n",
              "      <td>5</td>\n",
              "      <td>3</td>\n",
              "      <td>bleu</td>\n",
              "      <td>True</td>\n",
              "      <td>8540</td>\n",
              "    </tr>\n",
              "    <tr>\n",
              "      <th>25</th>\n",
              "      <td>Volkswagen</td>\n",
              "      <td>Polo 1.2 6V</td>\n",
              "      <td>55</td>\n",
              "      <td>courte</td>\n",
              "      <td>5</td>\n",
              "      <td>3</td>\n",
              "      <td>bleu</td>\n",
              "      <td>False</td>\n",
              "      <td>12200</td>\n",
              "    </tr>\n",
              "    <tr>\n",
              "      <th>26</th>\n",
              "      <td>Volkswagen</td>\n",
              "      <td>Polo 1.2 6V</td>\n",
              "      <td>55</td>\n",
              "      <td>courte</td>\n",
              "      <td>5</td>\n",
              "      <td>3</td>\n",
              "      <td>rouge</td>\n",
              "      <td>True</td>\n",
              "      <td>8540</td>\n",
              "    </tr>\n",
              "    <tr>\n",
              "      <th>27</th>\n",
              "      <td>Volkswagen</td>\n",
              "      <td>Polo 1.2 6V</td>\n",
              "      <td>55</td>\n",
              "      <td>courte</td>\n",
              "      <td>5</td>\n",
              "      <td>3</td>\n",
              "      <td>rouge</td>\n",
              "      <td>False</td>\n",
              "      <td>12200</td>\n",
              "    </tr>\n",
              "    <tr>\n",
              "      <th>28</th>\n",
              "      <td>Volkswagen</td>\n",
              "      <td>Polo 1.2 6V</td>\n",
              "      <td>55</td>\n",
              "      <td>courte</td>\n",
              "      <td>5</td>\n",
              "      <td>3</td>\n",
              "      <td>gris</td>\n",
              "      <td>False</td>\n",
              "      <td>12200</td>\n",
              "    </tr>\n",
              "    <tr>\n",
              "      <th>29</th>\n",
              "      <td>Volkswagen</td>\n",
              "      <td>Polo 1.2 6V</td>\n",
              "      <td>55</td>\n",
              "      <td>courte</td>\n",
              "      <td>5</td>\n",
              "      <td>3</td>\n",
              "      <td>gris</td>\n",
              "      <td>True</td>\n",
              "      <td>8540</td>\n",
              "    </tr>\n",
              "  </tbody>\n",
              "</table>\n",
              "</div>"
            ],
            "text/plain": [
              "        marque             nom  puissance     longueur  nbPlaces  nbPortes  \\\n",
              "0        Volvo          S80 T6        272  très longue         5         5   \n",
              "1        Volvo          S80 T6        272  très longue         5         5   \n",
              "2        Volvo          S80 T6        272  très longue         5         5   \n",
              "3        Volvo          S80 T6        272  très longue         5         5   \n",
              "4        Volvo          S80 T6        272  très longue         5         5   \n",
              "5        Volvo          S80 T6        272  très longue         5         5   \n",
              "6        Volvo          S80 T6        272  très longue         5         5   \n",
              "7        Volvo          S80 T6        272  très longue         5         5   \n",
              "8        Volvo          S80 T6        272  très longue         5         5   \n",
              "9        Volvo          S80 T6        272  très longue         5         5   \n",
              "10  Volkswagen  Touran 2.0 FSI        150       longue         7         5   \n",
              "11  Volkswagen  Touran 2.0 FSI        150       longue         7         5   \n",
              "12  Volkswagen  Touran 2.0 FSI        150       longue         7         5   \n",
              "13  Volkswagen  Touran 2.0 FSI        150       longue         7         5   \n",
              "14  Volkswagen  Touran 2.0 FSI        150       longue         7         5   \n",
              "15  Volkswagen  Touran 2.0 FSI        150       longue         7         5   \n",
              "16  Volkswagen  Touran 2.0 FSI        150       longue         7         5   \n",
              "17  Volkswagen  Touran 2.0 FSI        150       longue         7         5   \n",
              "18  Volkswagen  Touran 2.0 FSI        150       longue         7         5   \n",
              "19  Volkswagen  Touran 2.0 FSI        150       longue         7         5   \n",
              "20  Volkswagen     Polo 1.2 6V         55       courte         5         3   \n",
              "21  Volkswagen     Polo 1.2 6V         55       courte         5         3   \n",
              "22  Volkswagen     Polo 1.2 6V         55       courte         5         3   \n",
              "23  Volkswagen     Polo 1.2 6V         55       courte         5         3   \n",
              "24  Volkswagen     Polo 1.2 6V         55       courte         5         3   \n",
              "25  Volkswagen     Polo 1.2 6V         55       courte         5         3   \n",
              "26  Volkswagen     Polo 1.2 6V         55       courte         5         3   \n",
              "27  Volkswagen     Polo 1.2 6V         55       courte         5         3   \n",
              "28  Volkswagen     Polo 1.2 6V         55       courte         5         3   \n",
              "29  Volkswagen     Polo 1.2 6V         55       courte         5         3   \n",
              "\n",
              "   couleur  occasion   prix  \n",
              "0    blanc     False  50500  \n",
              "1     noir     False  50500  \n",
              "2    rouge     False  50500  \n",
              "3     gris      True  35350  \n",
              "4     bleu      True  35350  \n",
              "5     gris     False  50500  \n",
              "6     bleu     False  50500  \n",
              "7    rouge      True  35350  \n",
              "8    blanc      True  35350  \n",
              "9     noir      True  35350  \n",
              "10   rouge     False  27340  \n",
              "11    gris      True  19138  \n",
              "12    bleu      True  19138  \n",
              "13    gris     False  27340  \n",
              "14    bleu     False  27340  \n",
              "15   blanc      True  19138  \n",
              "16    noir      True  19138  \n",
              "17   rouge      True  19138  \n",
              "18   blanc     False  27340  \n",
              "19    noir     False  27340  \n",
              "20   blanc      True   8540  \n",
              "21   blanc     False  12200  \n",
              "22    noir     False  12200  \n",
              "23    noir      True   8540  \n",
              "24    bleu      True   8540  \n",
              "25    bleu     False  12200  \n",
              "26   rouge      True   8540  \n",
              "27   rouge     False  12200  \n",
              "28    gris     False  12200  \n",
              "29    gris      True   8540  "
            ]
          },
          "execution_count": 60,
          "metadata": {},
          "output_type": "execute_result"
        }
      ],
      "source": [
        "catalog_df.head(30)"
      ]
    },
    {
      "cell_type": "code",
      "execution_count": 61,
      "metadata": {
        "colab": {
          "base_uri": "https://localhost:8080/",
          "height": 744
        },
        "id": "naojlJCBe-9K",
        "outputId": "d8d080a7-5fa5-45cb-95a1-be39a157457f"
      },
      "outputs": [
        {
          "data": {
            "text/plain": [
              "<seaborn.axisgrid.PairGrid at 0x17abcffdb50>"
            ]
          },
          "execution_count": 61,
          "metadata": {},
          "output_type": "execute_result"
        },
        {
          "data": {
            "image/png": "[encoded data removed]",
            "text/plain": [
              "<Figure size 720x720 with 20 Axes>"
            ]
          },
          "metadata": {
            "needs_background": "light"
          },
          "output_type": "display_data"
        }
      ],
      "source": [
        "sns.pairplot(catalog_df.drop(['occasion'], axis=1))"
      ]
    },
    {
      "cell_type": "code",
      "execution_count": 62,
      "metadata": {
        "colab": {
          "base_uri": "https://localhost:8080/",
          "height": 423
        },
        "id": "8NiNQBlrk9bV",
        "outputId": "b658644a-acb4-4ae8-ca10-59869fd27607"
      },
      "outputs": [
        {
          "data": {
            "text/html": [
              "<div>\n",
              "<style scoped>\n",
              "    .dataframe tbody tr th:only-of-type {\n",
              "        vertical-align: middle;\n",
              "    }\n",
              "\n",
              "    .dataframe tbody tr th {\n",
              "        vertical-align: top;\n",
              "    }\n",
              "\n",
              "    .dataframe thead th {\n",
              "        text-align: right;\n",
              "    }\n",
              "</style>\n",
              "<table border=\"1\" class=\"dataframe\">\n",
              "  <thead>\n",
              "    <tr style=\"text-align: right;\">\n",
              "      <th></th>\n",
              "      <th>nom</th>\n",
              "      <th>puissance</th>\n",
              "      <th>longueur</th>\n",
              "      <th>nbPlaces</th>\n",
              "      <th>prix</th>\n",
              "    </tr>\n",
              "  </thead>\n",
              "  <tbody>\n",
              "    <tr>\n",
              "      <th>0</th>\n",
              "      <td>S80 T6</td>\n",
              "      <td>272</td>\n",
              "      <td>très longue</td>\n",
              "      <td>5</td>\n",
              "      <td>50500</td>\n",
              "    </tr>\n",
              "    <tr>\n",
              "      <th>1</th>\n",
              "      <td>S80 T6</td>\n",
              "      <td>272</td>\n",
              "      <td>très longue</td>\n",
              "      <td>5</td>\n",
              "      <td>50500</td>\n",
              "    </tr>\n",
              "    <tr>\n",
              "      <th>2</th>\n",
              "      <td>S80 T6</td>\n",
              "      <td>272</td>\n",
              "      <td>très longue</td>\n",
              "      <td>5</td>\n",
              "      <td>50500</td>\n",
              "    </tr>\n",
              "    <tr>\n",
              "      <th>3</th>\n",
              "      <td>S80 T6</td>\n",
              "      <td>272</td>\n",
              "      <td>très longue</td>\n",
              "      <td>5</td>\n",
              "      <td>35350</td>\n",
              "    </tr>\n",
              "    <tr>\n",
              "      <th>4</th>\n",
              "      <td>S80 T6</td>\n",
              "      <td>272</td>\n",
              "      <td>très longue</td>\n",
              "      <td>5</td>\n",
              "      <td>35350</td>\n",
              "    </tr>\n",
              "    <tr>\n",
              "      <th>...</th>\n",
              "      <td>...</td>\n",
              "      <td>...</td>\n",
              "      <td>...</td>\n",
              "      <td>...</td>\n",
              "      <td>...</td>\n",
              "    </tr>\n",
              "    <tr>\n",
              "      <th>265</th>\n",
              "      <td>A2 1.4</td>\n",
              "      <td>75</td>\n",
              "      <td>courte</td>\n",
              "      <td>5</td>\n",
              "      <td>18310</td>\n",
              "    </tr>\n",
              "    <tr>\n",
              "      <th>266</th>\n",
              "      <td>A2 1.4</td>\n",
              "      <td>75</td>\n",
              "      <td>courte</td>\n",
              "      <td>5</td>\n",
              "      <td>18310</td>\n",
              "    </tr>\n",
              "    <tr>\n",
              "      <th>267</th>\n",
              "      <td>A2 1.4</td>\n",
              "      <td>75</td>\n",
              "      <td>courte</td>\n",
              "      <td>5</td>\n",
              "      <td>12817</td>\n",
              "    </tr>\n",
              "    <tr>\n",
              "      <th>268</th>\n",
              "      <td>A2 1.4</td>\n",
              "      <td>75</td>\n",
              "      <td>courte</td>\n",
              "      <td>5</td>\n",
              "      <td>12817</td>\n",
              "    </tr>\n",
              "    <tr>\n",
              "      <th>269</th>\n",
              "      <td>A2 1.4</td>\n",
              "      <td>75</td>\n",
              "      <td>courte</td>\n",
              "      <td>5</td>\n",
              "      <td>18310</td>\n",
              "    </tr>\n",
              "  </tbody>\n",
              "</table>\n",
              "<p>270 rows × 5 columns</p>\n",
              "</div>"
            ],
            "text/plain": [
              "        nom  puissance     longueur  nbPlaces   prix\n",
              "0    S80 T6        272  très longue         5  50500\n",
              "1    S80 T6        272  très longue         5  50500\n",
              "2    S80 T6        272  très longue         5  50500\n",
              "3    S80 T6        272  très longue         5  35350\n",
              "4    S80 T6        272  très longue         5  35350\n",
              "..      ...        ...          ...       ...    ...\n",
              "265  A2 1.4         75       courte         5  18310\n",
              "266  A2 1.4         75       courte         5  18310\n",
              "267  A2 1.4         75       courte         5  12817\n",
              "268  A2 1.4         75       courte         5  12817\n",
              "269  A2 1.4         75       courte         5  18310\n",
              "\n",
              "[270 rows x 5 columns]"
            ]
          },
          "execution_count": 62,
          "metadata": {},
          "output_type": "execute_result"
        }
      ],
      "source": [
        "X_cat = catalog_df.drop(['marque', 'couleur', 'occasion', 'nbPortes'], axis=1)\n",
        "X_cat"
      ]
    },
    {
      "cell_type": "code",
      "execution_count": 63,
      "metadata": {
        "colab": {
          "base_uri": "https://localhost:8080/",
          "height": 423
        },
        "id": "3yQXhjo9nt3a",
        "outputId": "712c0928-9413-4d95-f2cf-d4a5ceeee08f"
      },
      "outputs": [
        {
          "data": {
            "text/html": [
              "<div>\n",
              "<style scoped>\n",
              "    .dataframe tbody tr th:only-of-type {\n",
              "        vertical-align: middle;\n",
              "    }\n",
              "\n",
              "    .dataframe tbody tr th {\n",
              "        vertical-align: top;\n",
              "    }\n",
              "\n",
              "    .dataframe thead th {\n",
              "        text-align: right;\n",
              "    }\n",
              "</style>\n",
              "<table border=\"1\" class=\"dataframe\">\n",
              "  <thead>\n",
              "    <tr style=\"text-align: right;\">\n",
              "      <th></th>\n",
              "      <th>nom</th>\n",
              "      <th>puissance</th>\n",
              "      <th>longueur</th>\n",
              "      <th>nbPlaces</th>\n",
              "      <th>prix</th>\n",
              "    </tr>\n",
              "  </thead>\n",
              "  <tbody>\n",
              "    <tr>\n",
              "      <th>0</th>\n",
              "      <td>25</td>\n",
              "      <td>272</td>\n",
              "      <td>3</td>\n",
              "      <td>5</td>\n",
              "      <td>50500</td>\n",
              "    </tr>\n",
              "    <tr>\n",
              "      <th>1</th>\n",
              "      <td>25</td>\n",
              "      <td>272</td>\n",
              "      <td>3</td>\n",
              "      <td>5</td>\n",
              "      <td>50500</td>\n",
              "    </tr>\n",
              "    <tr>\n",
              "      <th>2</th>\n",
              "      <td>25</td>\n",
              "      <td>272</td>\n",
              "      <td>3</td>\n",
              "      <td>5</td>\n",
              "      <td>50500</td>\n",
              "    </tr>\n",
              "    <tr>\n",
              "      <th>3</th>\n",
              "      <td>25</td>\n",
              "      <td>272</td>\n",
              "      <td>3</td>\n",
              "      <td>5</td>\n",
              "      <td>35350</td>\n",
              "    </tr>\n",
              "    <tr>\n",
              "      <th>4</th>\n",
              "      <td>25</td>\n",
              "      <td>272</td>\n",
              "      <td>3</td>\n",
              "      <td>5</td>\n",
              "      <td>35350</td>\n",
              "    </tr>\n",
              "    <tr>\n",
              "      <th>...</th>\n",
              "      <td>...</td>\n",
              "      <td>...</td>\n",
              "      <td>...</td>\n",
              "      <td>...</td>\n",
              "      <td>...</td>\n",
              "    </tr>\n",
              "    <tr>\n",
              "      <th>265</th>\n",
              "      <td>3</td>\n",
              "      <td>75</td>\n",
              "      <td>0</td>\n",
              "      <td>5</td>\n",
              "      <td>18310</td>\n",
              "    </tr>\n",
              "    <tr>\n",
              "      <th>266</th>\n",
              "      <td>3</td>\n",
              "      <td>75</td>\n",
              "      <td>0</td>\n",
              "      <td>5</td>\n",
              "      <td>18310</td>\n",
              "    </tr>\n",
              "    <tr>\n",
              "      <th>267</th>\n",
              "      <td>3</td>\n",
              "      <td>75</td>\n",
              "      <td>0</td>\n",
              "      <td>5</td>\n",
              "      <td>12817</td>\n",
              "    </tr>\n",
              "    <tr>\n",
              "      <th>268</th>\n",
              "      <td>3</td>\n",
              "      <td>75</td>\n",
              "      <td>0</td>\n",
              "      <td>5</td>\n",
              "      <td>12817</td>\n",
              "    </tr>\n",
              "    <tr>\n",
              "      <th>269</th>\n",
              "      <td>3</td>\n",
              "      <td>75</td>\n",
              "      <td>0</td>\n",
              "      <td>5</td>\n",
              "      <td>18310</td>\n",
              "    </tr>\n",
              "  </tbody>\n",
              "</table>\n",
              "<p>270 rows × 5 columns</p>\n",
              "</div>"
            ],
            "text/plain": [
              "     nom  puissance  longueur  nbPlaces   prix\n",
              "0     25        272         3         5  50500\n",
              "1     25        272         3         5  50500\n",
              "2     25        272         3         5  50500\n",
              "3     25        272         3         5  35350\n",
              "4     25        272         3         5  35350\n",
              "..   ...        ...       ...       ...    ...\n",
              "265    3         75         0         5  18310\n",
              "266    3         75         0         5  18310\n",
              "267    3         75         0         5  12817\n",
              "268    3         75         0         5  12817\n",
              "269    3         75         0         5  18310\n",
              "\n",
              "[270 rows x 5 columns]"
            ]
          },
          "execution_count": 63,
          "metadata": {},
          "output_type": "execute_result"
        }
      ],
      "source": [
        "from sklearn.preprocessing import LabelEncoder\n",
        "\n",
        "lb = LabelEncoder()\n",
        "X_cat.longueur = lb.fit_transform(X_cat.longueur)\n",
        "X_cat.nom = lb.fit_transform(X_cat.nom)\n",
        "X_cat"
      ]
    },
    {
      "cell_type": "code",
      "execution_count": 64,
      "metadata": {
        "id": "qvkbZGa-fs9o"
      },
      "outputs": [],
      "source": [
        "# from sklearn.cluster import AgglomerativeClustering\n",
        "\n",
        "# cluster = AgglomerativeClustering(n_clusters=8, affinity='euclidean', linkage='ward')\n",
        "# cluster.fit_predict(X_cat)"
      ]
    },
    {
      "cell_type": "code",
      "execution_count": 65,
      "metadata": {
        "id": "ZCORufMRf2oZ"
      },
      "outputs": [],
      "source": [
        "# print(cluster.labels_)"
      ]
    },
    {
      "cell_type": "code",
      "execution_count": 66,
      "metadata": {
        "id": "hWzr6WIagM0t"
      },
      "outputs": [],
      "source": [
        "# catalog_df['categorie'] = cluster.labels_"
      ]
    },
    {
      "cell_type": "code",
      "execution_count": 67,
      "metadata": {
        "id": "MtktJsZfuapa"
      },
      "outputs": [],
      "source": [
        "# from sklearn.preprocessing import MinMaxScaler\n",
        "\n",
        "# m_scaler = MinMaxScaler()\n",
        "# X_cat = m_scaler.fit_transform(X_cat)"
      ]
    },
    {
      "cell_type": "code",
      "execution_count": 68,
      "metadata": {
        "colab": {
          "base_uri": "https://localhost:8080/"
        },
        "id": "6G1u4ub1p097",
        "outputId": "502c9b61-4ddf-45a7-eda1-472743cafb66"
      },
      "outputs": [
        {
          "name": "stdout",
          "output_type": "stream",
          "text": [
            "[97624244657.87036, 27720392073.958324, 12745959922.249575, 6502647479.107142, 4276114497.964617, 2488742992.886002, 1125419081.9149475, 838268407.4880953, 596739220.2056278, 464923949.2916666]\n"
          ]
        }
      ],
      "source": [
        "from sklearn.cluster import KMeans\n",
        "\n",
        "inertias = []\n",
        "for i in range(1, 11):\n",
        "    k_means = KMeans(n_clusters=i, init='k-means++', random_state=0)\n",
        "    k_means.fit(X_cat)\n",
        "    inertias.append(k_means.inertia_)\n",
        "\n",
        "print(inertias)"
      ]
    },
    {
      "cell_type": "code",
      "execution_count": 69,
      "metadata": {
        "colab": {
          "base_uri": "https://localhost:8080/",
          "height": 478
        },
        "id": "8rMmt6tCqQGP",
        "outputId": "62de80a0-1271-40d0-9a94-17e1423a6b72"
      },
      "outputs": [
        {
          "data": {
            "image/png": "[encoded data removed]",
            "text/plain": [
              "<Figure size 1440x576 with 1 Axes>"
            ]
          },
          "metadata": {
            "needs_background": "light"
          },
          "output_type": "display_data"
        }
      ],
      "source": [
        "plt.figure(figsize=(20, 8))\n",
        "plt.plot([i  for i in range(1, 11)] ,inertias);"
      ]
    },
    {
      "cell_type": "markdown",
      "metadata": {},
      "source": [
        "Kmeans"
      ]
    },
    {
      "cell_type": "code",
      "execution_count": 70,
      "metadata": {
        "id": "vPP8-2NcqY_z"
      },
      "outputs": [],
      "source": [
        "k_means = KMeans(n_clusters=4, init='k-means++', random_state=0)\n",
        "y = k_means.fit_predict(X_cat)\n",
        "catalog_df['categorie'] = y"
      ]
    },
    {
      "cell_type": "code",
      "execution_count": 71,
      "metadata": {
        "colab": {
          "base_uri": "https://localhost:8080/",
          "height": 297
        },
        "id": "MZUQ2Tj8YH__",
        "outputId": "ba0e8e43-da7a-4763-a103-a0bc3b02f417"
      },
      "outputs": [
        {
          "data": {
            "text/plain": [
              "<AxesSubplot:xlabel='puissance', ylabel='Count'>"
            ]
          },
          "execution_count": 71,
          "metadata": {},
          "output_type": "execute_result"
        },
        {
          "data": {
            "image/png": "[encoded data removed]",
            "text/plain": [
              "<Figure size 432x288 with 1 Axes>"
            ]
          },
          "metadata": {
            "needs_background": "light"
          },
          "output_type": "display_data"
        }
      ],
      "source": [
        "sns.histplot(data=catalog_df, x='puissance', hue='categorie')"
      ]
    },
    {
      "cell_type": "markdown",
      "metadata": {
        "id": "EGynTwUqleHa"
      },
      "source": [
        "On remarque que les véhicules de catégories 0 ont moins de puissances que les autres, les véhicules de catégorie 1 ont plus de puissances que les autres. Et les véhicules de catégorie 2 ont une puissance moyenne 180 - 280"
      ]
    },
    {
      "cell_type": "code",
      "execution_count": 72,
      "metadata": {},
      "outputs": [
        {
          "data": {
            "text/plain": [
              "<AxesSubplot:xlabel='puissance', ylabel='Count'>"
            ]
          },
          "execution_count": 72,
          "metadata": {},
          "output_type": "execute_result"
        },
        {
          "data": {
            "image/png": "[encoded data removed]",
            "text/plain": [
              "<Figure size 432x288 with 1 Axes>"
            ]
          },
          "metadata": {
            "needs_background": "light"
          },
          "output_type": "display_data"
        }
      ],
      "source": [
        "sns.histplot(data=catalog_df, x='puissance', hue='longueur', multiple='dodge')"
      ]
    },
    {
      "cell_type": "code",
      "execution_count": 73,
      "metadata": {
        "colab": {
          "base_uri": "https://localhost:8080/",
          "height": 298
        },
        "id": "YoMox6kVQmgF",
        "outputId": "291b7bf1-5182-406c-e08d-d742b0883a4b"
      },
      "outputs": [
        {
          "data": {
            "text/plain": [
              "<AxesSubplot:xlabel='longueur', ylabel='Count'>"
            ]
          },
          "execution_count": 73,
          "metadata": {},
          "output_type": "execute_result"
        },
        {
          "data": {
            "image/png": "[encoded data removed]",
            "text/plain": [
              "<Figure size 432x288 with 1 Axes>"
            ]
          },
          "metadata": {
            "needs_background": "light"
          },
          "output_type": "display_data"
        }
      ],
      "source": [
        "sns.histplot(data=catalog_df, x='longueur', hue='categorie', multiple='dodge')"
      ]
    },
    {
      "cell_type": "code",
      "execution_count": 74,
      "metadata": {
        "colab": {
          "base_uri": "https://localhost:8080/",
          "height": 297
        },
        "id": "zVM1EQJibrcq",
        "outputId": "75d8c5dc-df33-48d0-ac26-c69db062068d"
      },
      "outputs": [
        {
          "data": {
            "text/plain": [
              "<AxesSubplot:xlabel='prix', ylabel='Count'>"
            ]
          },
          "execution_count": 74,
          "metadata": {},
          "output_type": "execute_result"
        },
        {
          "data": {
            "image/png": "[encoded data removed]",
            "text/plain": [
              "<Figure size 432x288 with 1 Axes>"
            ]
          },
          "metadata": {
            "needs_background": "light"
          },
          "output_type": "display_data"
        }
      ],
      "source": [
        "sns.histplot(data=catalog_df, x='prix', hue='categorie')"
      ]
    },
    {
      "cell_type": "code",
      "execution_count": 75,
      "metadata": {
        "colab": {
          "base_uri": "https://localhost:8080/",
          "height": 299
        },
        "id": "CmExOUBLppVL",
        "outputId": "f33aab4c-6c74-490f-9d27-b18710fc0fff"
      },
      "outputs": [
        {
          "data": {
            "text/plain": [
              "<AxesSubplot:xlabel='nbPortes', ylabel='Count'>"
            ]
          },
          "execution_count": 75,
          "metadata": {},
          "output_type": "execute_result"
        },
        {
          "data": {
            "image/png": "[encoded data removed]",
            "text/plain": [
              "<Figure size 432x288 with 1 Axes>"
            ]
          },
          "metadata": {
            "needs_background": "light"
          },
          "output_type": "display_data"
        }
      ],
      "source": [
        "sns.histplot(data=catalog_df, x='nbPortes', hue='categorie', multiple='dodge')"
      ]
    },
    {
      "cell_type": "code",
      "execution_count": 76,
      "metadata": {
        "colab": {
          "base_uri": "https://localhost:8080/",
          "height": 921
        },
        "id": "-yFM3YY7YTlI",
        "outputId": "997975f2-8e96-4430-b4d9-1e926e6d437c"
      },
      "outputs": [
        {
          "data": {
            "text/plain": [
              "<seaborn.axisgrid.PairGrid at 0x17ac39c3910>"
            ]
          },
          "execution_count": 76,
          "metadata": {},
          "output_type": "execute_result"
        },
        {
          "data": {
            "image/png": "[encoded data removed]",
            "text/plain": [
              "<Figure size 900x900 with 30 Axes>"
            ]
          },
          "metadata": {
            "needs_background": "light"
          },
          "output_type": "display_data"
        }
      ],
      "source": [
        "sns.pairplot(catalog_df.drop(['occasion'], axis=1))"
      ]
    },
    {
      "cell_type": "code",
      "execution_count": 77,
      "metadata": {
        "colab": {
          "base_uri": "https://localhost:8080/",
          "height": 1000
        },
        "id": "riUWKo9pjTHp",
        "outputId": "4a3f4cd7-61ae-437a-c5a7-e0a053e6933e"
      },
      "outputs": [
        {
          "data": {
            "text/html": [
              "<div>\n",
              "<style scoped>\n",
              "    .dataframe tbody tr th:only-of-type {\n",
              "        vertical-align: middle;\n",
              "    }\n",
              "\n",
              "    .dataframe tbody tr th {\n",
              "        vertical-align: top;\n",
              "    }\n",
              "\n",
              "    .dataframe thead th {\n",
              "        text-align: right;\n",
              "    }\n",
              "</style>\n",
              "<table border=\"1\" class=\"dataframe\">\n",
              "  <thead>\n",
              "    <tr style=\"text-align: right;\">\n",
              "      <th></th>\n",
              "      <th>marque</th>\n",
              "      <th>nom</th>\n",
              "      <th>puissance</th>\n",
              "      <th>longueur</th>\n",
              "      <th>nbPlaces</th>\n",
              "      <th>nbPortes</th>\n",
              "      <th>couleur</th>\n",
              "      <th>occasion</th>\n",
              "      <th>prix</th>\n",
              "      <th>categorie</th>\n",
              "    </tr>\n",
              "  </thead>\n",
              "  <tbody>\n",
              "    <tr>\n",
              "      <th>11</th>\n",
              "      <td>Volkswagen</td>\n",
              "      <td>Touran 2.0 FSI</td>\n",
              "      <td>150</td>\n",
              "      <td>longue</td>\n",
              "      <td>7</td>\n",
              "      <td>5</td>\n",
              "      <td>gris</td>\n",
              "      <td>True</td>\n",
              "      <td>19138</td>\n",
              "      <td>0</td>\n",
              "    </tr>\n",
              "    <tr>\n",
              "      <th>12</th>\n",
              "      <td>Volkswagen</td>\n",
              "      <td>Touran 2.0 FSI</td>\n",
              "      <td>150</td>\n",
              "      <td>longue</td>\n",
              "      <td>7</td>\n",
              "      <td>5</td>\n",
              "      <td>bleu</td>\n",
              "      <td>True</td>\n",
              "      <td>19138</td>\n",
              "      <td>0</td>\n",
              "    </tr>\n",
              "    <tr>\n",
              "      <th>15</th>\n",
              "      <td>Volkswagen</td>\n",
              "      <td>Touran 2.0 FSI</td>\n",
              "      <td>150</td>\n",
              "      <td>longue</td>\n",
              "      <td>7</td>\n",
              "      <td>5</td>\n",
              "      <td>blanc</td>\n",
              "      <td>True</td>\n",
              "      <td>19138</td>\n",
              "      <td>0</td>\n",
              "    </tr>\n",
              "    <tr>\n",
              "      <th>16</th>\n",
              "      <td>Volkswagen</td>\n",
              "      <td>Touran 2.0 FSI</td>\n",
              "      <td>150</td>\n",
              "      <td>longue</td>\n",
              "      <td>7</td>\n",
              "      <td>5</td>\n",
              "      <td>noir</td>\n",
              "      <td>True</td>\n",
              "      <td>19138</td>\n",
              "      <td>0</td>\n",
              "    </tr>\n",
              "    <tr>\n",
              "      <th>17</th>\n",
              "      <td>Volkswagen</td>\n",
              "      <td>Touran 2.0 FSI</td>\n",
              "      <td>150</td>\n",
              "      <td>longue</td>\n",
              "      <td>7</td>\n",
              "      <td>5</td>\n",
              "      <td>rouge</td>\n",
              "      <td>True</td>\n",
              "      <td>19138</td>\n",
              "      <td>0</td>\n",
              "    </tr>\n",
              "    <tr>\n",
              "      <th>...</th>\n",
              "      <td>...</td>\n",
              "      <td>...</td>\n",
              "      <td>...</td>\n",
              "      <td>...</td>\n",
              "      <td>...</td>\n",
              "      <td>...</td>\n",
              "      <td>...</td>\n",
              "      <td>...</td>\n",
              "      <td>...</td>\n",
              "      <td>...</td>\n",
              "    </tr>\n",
              "    <tr>\n",
              "      <th>265</th>\n",
              "      <td>Audi</td>\n",
              "      <td>A2 1.4</td>\n",
              "      <td>75</td>\n",
              "      <td>courte</td>\n",
              "      <td>5</td>\n",
              "      <td>5</td>\n",
              "      <td>noir</td>\n",
              "      <td>False</td>\n",
              "      <td>18310</td>\n",
              "      <td>0</td>\n",
              "    </tr>\n",
              "    <tr>\n",
              "      <th>266</th>\n",
              "      <td>Audi</td>\n",
              "      <td>A2 1.4</td>\n",
              "      <td>75</td>\n",
              "      <td>courte</td>\n",
              "      <td>5</td>\n",
              "      <td>5</td>\n",
              "      <td>rouge</td>\n",
              "      <td>False</td>\n",
              "      <td>18310</td>\n",
              "      <td>0</td>\n",
              "    </tr>\n",
              "    <tr>\n",
              "      <th>267</th>\n",
              "      <td>Audi</td>\n",
              "      <td>A2 1.4</td>\n",
              "      <td>75</td>\n",
              "      <td>courte</td>\n",
              "      <td>5</td>\n",
              "      <td>5</td>\n",
              "      <td>blanc</td>\n",
              "      <td>True</td>\n",
              "      <td>12817</td>\n",
              "      <td>0</td>\n",
              "    </tr>\n",
              "    <tr>\n",
              "      <th>268</th>\n",
              "      <td>Audi</td>\n",
              "      <td>A2 1.4</td>\n",
              "      <td>75</td>\n",
              "      <td>courte</td>\n",
              "      <td>5</td>\n",
              "      <td>5</td>\n",
              "      <td>rouge</td>\n",
              "      <td>True</td>\n",
              "      <td>12817</td>\n",
              "      <td>0</td>\n",
              "    </tr>\n",
              "    <tr>\n",
              "      <th>269</th>\n",
              "      <td>Audi</td>\n",
              "      <td>A2 1.4</td>\n",
              "      <td>75</td>\n",
              "      <td>courte</td>\n",
              "      <td>5</td>\n",
              "      <td>5</td>\n",
              "      <td>blanc</td>\n",
              "      <td>False</td>\n",
              "      <td>18310</td>\n",
              "      <td>0</td>\n",
              "    </tr>\n",
              "  </tbody>\n",
              "</table>\n",
              "<p>140 rows × 10 columns</p>\n",
              "</div>"
            ],
            "text/plain": [
              "         marque             nom  puissance longueur  nbPlaces  nbPortes  \\\n",
              "11   Volkswagen  Touran 2.0 FSI        150   longue         7         5   \n",
              "12   Volkswagen  Touran 2.0 FSI        150   longue         7         5   \n",
              "15   Volkswagen  Touran 2.0 FSI        150   longue         7         5   \n",
              "16   Volkswagen  Touran 2.0 FSI        150   longue         7         5   \n",
              "17   Volkswagen  Touran 2.0 FSI        150   longue         7         5   \n",
              "..          ...             ...        ...      ...       ...       ...   \n",
              "265        Audi          A2 1.4         75   courte         5         5   \n",
              "266        Audi          A2 1.4         75   courte         5         5   \n",
              "267        Audi          A2 1.4         75   courte         5         5   \n",
              "268        Audi          A2 1.4         75   courte         5         5   \n",
              "269        Audi          A2 1.4         75   courte         5         5   \n",
              "\n",
              "    couleur  occasion   prix  categorie  \n",
              "11     gris      True  19138          0  \n",
              "12     bleu      True  19138          0  \n",
              "15    blanc      True  19138          0  \n",
              "16     noir      True  19138          0  \n",
              "17    rouge      True  19138          0  \n",
              "..      ...       ...    ...        ...  \n",
              "265    noir     False  18310          0  \n",
              "266   rouge     False  18310          0  \n",
              "267   blanc      True  12817          0  \n",
              "268   rouge      True  12817          0  \n",
              "269   blanc     False  18310          0  \n",
              "\n",
              "[140 rows x 10 columns]"
            ]
          },
          "execution_count": 77,
          "metadata": {},
          "output_type": "execute_result"
        }
      ],
      "source": [
        "catalog_df[catalog_df.categorie==0]"
      ]
    },
    {
      "cell_type": "code",
      "execution_count": 78,
      "metadata": {},
      "outputs": [
        {
          "data": {
            "text/html": [
              "<div>\n",
              "<style scoped>\n",
              "    .dataframe tbody tr th:only-of-type {\n",
              "        vertical-align: middle;\n",
              "    }\n",
              "\n",
              "    .dataframe tbody tr th {\n",
              "        vertical-align: top;\n",
              "    }\n",
              "\n",
              "    .dataframe thead th {\n",
              "        text-align: right;\n",
              "    }\n",
              "</style>\n",
              "<table border=\"1\" class=\"dataframe\">\n",
              "  <thead>\n",
              "    <tr style=\"text-align: right;\">\n",
              "      <th></th>\n",
              "      <th>marque</th>\n",
              "      <th>nom</th>\n",
              "      <th>puissance</th>\n",
              "      <th>longueur</th>\n",
              "      <th>nbPlaces</th>\n",
              "      <th>nbPortes</th>\n",
              "      <th>couleur</th>\n",
              "      <th>occasion</th>\n",
              "      <th>prix</th>\n",
              "      <th>categorie</th>\n",
              "    </tr>\n",
              "  </thead>\n",
              "  <tbody>\n",
              "    <tr>\n",
              "      <th>149</th>\n",
              "      <td>Mercedes</td>\n",
              "      <td>S500</td>\n",
              "      <td>306</td>\n",
              "      <td>très longue</td>\n",
              "      <td>5</td>\n",
              "      <td>5</td>\n",
              "      <td>bleu</td>\n",
              "      <td>False</td>\n",
              "      <td>101300</td>\n",
              "      <td>1</td>\n",
              "    </tr>\n",
              "    <tr>\n",
              "      <th>151</th>\n",
              "      <td>Mercedes</td>\n",
              "      <td>S500</td>\n",
              "      <td>306</td>\n",
              "      <td>très longue</td>\n",
              "      <td>5</td>\n",
              "      <td>5</td>\n",
              "      <td>noir</td>\n",
              "      <td>False</td>\n",
              "      <td>101300</td>\n",
              "      <td>1</td>\n",
              "    </tr>\n",
              "    <tr>\n",
              "      <th>152</th>\n",
              "      <td>Mercedes</td>\n",
              "      <td>S500</td>\n",
              "      <td>306</td>\n",
              "      <td>très longue</td>\n",
              "      <td>5</td>\n",
              "      <td>5</td>\n",
              "      <td>blanc</td>\n",
              "      <td>False</td>\n",
              "      <td>101300</td>\n",
              "      <td>1</td>\n",
              "    </tr>\n",
              "    <tr>\n",
              "      <th>153</th>\n",
              "      <td>Mercedes</td>\n",
              "      <td>S500</td>\n",
              "      <td>306</td>\n",
              "      <td>très longue</td>\n",
              "      <td>5</td>\n",
              "      <td>5</td>\n",
              "      <td>rouge</td>\n",
              "      <td>False</td>\n",
              "      <td>101300</td>\n",
              "      <td>1</td>\n",
              "    </tr>\n",
              "    <tr>\n",
              "      <th>154</th>\n",
              "      <td>Mercedes</td>\n",
              "      <td>S500</td>\n",
              "      <td>306</td>\n",
              "      <td>très longue</td>\n",
              "      <td>5</td>\n",
              "      <td>5</td>\n",
              "      <td>gris</td>\n",
              "      <td>False</td>\n",
              "      <td>101300</td>\n",
              "      <td>1</td>\n",
              "    </tr>\n",
              "    <tr>\n",
              "      <th>231</th>\n",
              "      <td>BMW</td>\n",
              "      <td>M5</td>\n",
              "      <td>507</td>\n",
              "      <td>très longue</td>\n",
              "      <td>5</td>\n",
              "      <td>5</td>\n",
              "      <td>gris</td>\n",
              "      <td>False</td>\n",
              "      <td>94800</td>\n",
              "      <td>1</td>\n",
              "    </tr>\n",
              "    <tr>\n",
              "      <th>232</th>\n",
              "      <td>BMW</td>\n",
              "      <td>M5</td>\n",
              "      <td>507</td>\n",
              "      <td>très longue</td>\n",
              "      <td>5</td>\n",
              "      <td>5</td>\n",
              "      <td>blanc</td>\n",
              "      <td>False</td>\n",
              "      <td>94800</td>\n",
              "      <td>1</td>\n",
              "    </tr>\n",
              "    <tr>\n",
              "      <th>233</th>\n",
              "      <td>BMW</td>\n",
              "      <td>M5</td>\n",
              "      <td>507</td>\n",
              "      <td>très longue</td>\n",
              "      <td>5</td>\n",
              "      <td>5</td>\n",
              "      <td>noir</td>\n",
              "      <td>False</td>\n",
              "      <td>94800</td>\n",
              "      <td>1</td>\n",
              "    </tr>\n",
              "    <tr>\n",
              "      <th>236</th>\n",
              "      <td>BMW</td>\n",
              "      <td>M5</td>\n",
              "      <td>507</td>\n",
              "      <td>très longue</td>\n",
              "      <td>5</td>\n",
              "      <td>5</td>\n",
              "      <td>bleu</td>\n",
              "      <td>False</td>\n",
              "      <td>94800</td>\n",
              "      <td>1</td>\n",
              "    </tr>\n",
              "    <tr>\n",
              "      <th>238</th>\n",
              "      <td>BMW</td>\n",
              "      <td>M5</td>\n",
              "      <td>507</td>\n",
              "      <td>très longue</td>\n",
              "      <td>5</td>\n",
              "      <td>5</td>\n",
              "      <td>rouge</td>\n",
              "      <td>False</td>\n",
              "      <td>94800</td>\n",
              "      <td>1</td>\n",
              "    </tr>\n",
              "  </tbody>\n",
              "</table>\n",
              "</div>"
            ],
            "text/plain": [
              "       marque   nom  puissance     longueur  nbPlaces  nbPortes couleur  \\\n",
              "149  Mercedes  S500        306  très longue         5         5    bleu   \n",
              "151  Mercedes  S500        306  très longue         5         5    noir   \n",
              "152  Mercedes  S500        306  très longue         5         5   blanc   \n",
              "153  Mercedes  S500        306  très longue         5         5   rouge   \n",
              "154  Mercedes  S500        306  très longue         5         5    gris   \n",
              "231       BMW    M5        507  très longue         5         5    gris   \n",
              "232       BMW    M5        507  très longue         5         5   blanc   \n",
              "233       BMW    M5        507  très longue         5         5    noir   \n",
              "236       BMW    M5        507  très longue         5         5    bleu   \n",
              "238       BMW    M5        507  très longue         5         5   rouge   \n",
              "\n",
              "     occasion    prix  categorie  \n",
              "149     False  101300          1  \n",
              "151     False  101300          1  \n",
              "152     False  101300          1  \n",
              "153     False  101300          1  \n",
              "154     False  101300          1  \n",
              "231     False   94800          1  \n",
              "232     False   94800          1  \n",
              "233     False   94800          1  \n",
              "236     False   94800          1  \n",
              "238     False   94800          1  "
            ]
          },
          "execution_count": 78,
          "metadata": {},
          "output_type": "execute_result"
        }
      ],
      "source": [
        "catalog_df[catalog_df.categorie==1]"
      ]
    },
    {
      "cell_type": "code",
      "execution_count": 79,
      "metadata": {},
      "outputs": [
        {
          "data": {
            "text/html": [
              "<div>\n",
              "<style scoped>\n",
              "    .dataframe tbody tr th:only-of-type {\n",
              "        vertical-align: middle;\n",
              "    }\n",
              "\n",
              "    .dataframe tbody tr th {\n",
              "        vertical-align: top;\n",
              "    }\n",
              "\n",
              "    .dataframe thead th {\n",
              "        text-align: right;\n",
              "    }\n",
              "</style>\n",
              "<table border=\"1\" class=\"dataframe\">\n",
              "  <thead>\n",
              "    <tr style=\"text-align: right;\">\n",
              "      <th></th>\n",
              "      <th>marque</th>\n",
              "      <th>nom</th>\n",
              "      <th>puissance</th>\n",
              "      <th>longueur</th>\n",
              "      <th>nbPlaces</th>\n",
              "      <th>nbPortes</th>\n",
              "      <th>couleur</th>\n",
              "      <th>occasion</th>\n",
              "      <th>prix</th>\n",
              "      <th>categorie</th>\n",
              "    </tr>\n",
              "  </thead>\n",
              "  <tbody>\n",
              "    <tr>\n",
              "      <th>3</th>\n",
              "      <td>Volvo</td>\n",
              "      <td>S80 T6</td>\n",
              "      <td>272</td>\n",
              "      <td>très longue</td>\n",
              "      <td>5</td>\n",
              "      <td>5</td>\n",
              "      <td>gris</td>\n",
              "      <td>True</td>\n",
              "      <td>35350</td>\n",
              "      <td>2</td>\n",
              "    </tr>\n",
              "    <tr>\n",
              "      <th>4</th>\n",
              "      <td>Volvo</td>\n",
              "      <td>S80 T6</td>\n",
              "      <td>272</td>\n",
              "      <td>très longue</td>\n",
              "      <td>5</td>\n",
              "      <td>5</td>\n",
              "      <td>bleu</td>\n",
              "      <td>True</td>\n",
              "      <td>35350</td>\n",
              "      <td>2</td>\n",
              "    </tr>\n",
              "    <tr>\n",
              "      <th>7</th>\n",
              "      <td>Volvo</td>\n",
              "      <td>S80 T6</td>\n",
              "      <td>272</td>\n",
              "      <td>très longue</td>\n",
              "      <td>5</td>\n",
              "      <td>5</td>\n",
              "      <td>rouge</td>\n",
              "      <td>True</td>\n",
              "      <td>35350</td>\n",
              "      <td>2</td>\n",
              "    </tr>\n",
              "    <tr>\n",
              "      <th>8</th>\n",
              "      <td>Volvo</td>\n",
              "      <td>S80 T6</td>\n",
              "      <td>272</td>\n",
              "      <td>très longue</td>\n",
              "      <td>5</td>\n",
              "      <td>5</td>\n",
              "      <td>blanc</td>\n",
              "      <td>True</td>\n",
              "      <td>35350</td>\n",
              "      <td>2</td>\n",
              "    </tr>\n",
              "    <tr>\n",
              "      <th>9</th>\n",
              "      <td>Volvo</td>\n",
              "      <td>S80 T6</td>\n",
              "      <td>272</td>\n",
              "      <td>très longue</td>\n",
              "      <td>5</td>\n",
              "      <td>5</td>\n",
              "      <td>noir</td>\n",
              "      <td>True</td>\n",
              "      <td>35350</td>\n",
              "      <td>2</td>\n",
              "    </tr>\n",
              "    <tr>\n",
              "      <th>...</th>\n",
              "      <td>...</td>\n",
              "      <td>...</td>\n",
              "      <td>...</td>\n",
              "      <td>...</td>\n",
              "      <td>...</td>\n",
              "      <td>...</td>\n",
              "      <td>...</td>\n",
              "      <td>...</td>\n",
              "      <td>...</td>\n",
              "      <td>...</td>\n",
              "    </tr>\n",
              "    <tr>\n",
              "      <th>251</th>\n",
              "      <td>Audi</td>\n",
              "      <td>A3 2.0 FSI</td>\n",
              "      <td>150</td>\n",
              "      <td>moyenne</td>\n",
              "      <td>5</td>\n",
              "      <td>5</td>\n",
              "      <td>noir</td>\n",
              "      <td>False</td>\n",
              "      <td>28500</td>\n",
              "      <td>2</td>\n",
              "    </tr>\n",
              "    <tr>\n",
              "      <th>252</th>\n",
              "      <td>Audi</td>\n",
              "      <td>A3 2.0 FSI</td>\n",
              "      <td>150</td>\n",
              "      <td>moyenne</td>\n",
              "      <td>5</td>\n",
              "      <td>5</td>\n",
              "      <td>rouge</td>\n",
              "      <td>False</td>\n",
              "      <td>28500</td>\n",
              "      <td>2</td>\n",
              "    </tr>\n",
              "    <tr>\n",
              "      <th>254</th>\n",
              "      <td>Audi</td>\n",
              "      <td>A3 2.0 FSI</td>\n",
              "      <td>150</td>\n",
              "      <td>moyenne</td>\n",
              "      <td>5</td>\n",
              "      <td>5</td>\n",
              "      <td>blanc</td>\n",
              "      <td>False</td>\n",
              "      <td>28500</td>\n",
              "      <td>2</td>\n",
              "    </tr>\n",
              "    <tr>\n",
              "      <th>257</th>\n",
              "      <td>Audi</td>\n",
              "      <td>A3 2.0 FSI</td>\n",
              "      <td>150</td>\n",
              "      <td>moyenne</td>\n",
              "      <td>5</td>\n",
              "      <td>5</td>\n",
              "      <td>bleu</td>\n",
              "      <td>False</td>\n",
              "      <td>28500</td>\n",
              "      <td>2</td>\n",
              "    </tr>\n",
              "    <tr>\n",
              "      <th>258</th>\n",
              "      <td>Audi</td>\n",
              "      <td>A3 2.0 FSI</td>\n",
              "      <td>150</td>\n",
              "      <td>moyenne</td>\n",
              "      <td>5</td>\n",
              "      <td>5</td>\n",
              "      <td>gris</td>\n",
              "      <td>False</td>\n",
              "      <td>28500</td>\n",
              "      <td>2</td>\n",
              "    </tr>\n",
              "  </tbody>\n",
              "</table>\n",
              "<p>100 rows × 10 columns</p>\n",
              "</div>"
            ],
            "text/plain": [
              "    marque         nom  puissance     longueur  nbPlaces  nbPortes couleur  \\\n",
              "3    Volvo      S80 T6        272  très longue         5         5    gris   \n",
              "4    Volvo      S80 T6        272  très longue         5         5    bleu   \n",
              "7    Volvo      S80 T6        272  très longue         5         5   rouge   \n",
              "8    Volvo      S80 T6        272  très longue         5         5   blanc   \n",
              "9    Volvo      S80 T6        272  très longue         5         5    noir   \n",
              "..     ...         ...        ...          ...       ...       ...     ...   \n",
              "251   Audi  A3 2.0 FSI        150      moyenne         5         5    noir   \n",
              "252   Audi  A3 2.0 FSI        150      moyenne         5         5   rouge   \n",
              "254   Audi  A3 2.0 FSI        150      moyenne         5         5   blanc   \n",
              "257   Audi  A3 2.0 FSI        150      moyenne         5         5    bleu   \n",
              "258   Audi  A3 2.0 FSI        150      moyenne         5         5    gris   \n",
              "\n",
              "     occasion   prix  categorie  \n",
              "3        True  35350          2  \n",
              "4        True  35350          2  \n",
              "7        True  35350          2  \n",
              "8        True  35350          2  \n",
              "9        True  35350          2  \n",
              "..        ...    ...        ...  \n",
              "251     False  28500          2  \n",
              "252     False  28500          2  \n",
              "254     False  28500          2  \n",
              "257     False  28500          2  \n",
              "258     False  28500          2  \n",
              "\n",
              "[100 rows x 10 columns]"
            ]
          },
          "execution_count": 79,
          "metadata": {},
          "output_type": "execute_result"
        }
      ],
      "source": [
        "catalog_df[catalog_df.categorie==2]"
      ]
    },
    {
      "cell_type": "code",
      "execution_count": 80,
      "metadata": {},
      "outputs": [
        {
          "data": {
            "text/html": [
              "<div>\n",
              "<style scoped>\n",
              "    .dataframe tbody tr th:only-of-type {\n",
              "        vertical-align: middle;\n",
              "    }\n",
              "\n",
              "    .dataframe tbody tr th {\n",
              "        vertical-align: top;\n",
              "    }\n",
              "\n",
              "    .dataframe thead th {\n",
              "        text-align: right;\n",
              "    }\n",
              "</style>\n",
              "<table border=\"1\" class=\"dataframe\">\n",
              "  <thead>\n",
              "    <tr style=\"text-align: right;\">\n",
              "      <th></th>\n",
              "      <th>marque</th>\n",
              "      <th>nom</th>\n",
              "      <th>puissance</th>\n",
              "      <th>longueur</th>\n",
              "      <th>nbPlaces</th>\n",
              "      <th>nbPortes</th>\n",
              "      <th>couleur</th>\n",
              "      <th>occasion</th>\n",
              "      <th>prix</th>\n",
              "      <th>categorie</th>\n",
              "    </tr>\n",
              "  </thead>\n",
              "  <tbody>\n",
              "    <tr>\n",
              "      <th>0</th>\n",
              "      <td>Volvo</td>\n",
              "      <td>S80 T6</td>\n",
              "      <td>272</td>\n",
              "      <td>très longue</td>\n",
              "      <td>5</td>\n",
              "      <td>5</td>\n",
              "      <td>blanc</td>\n",
              "      <td>False</td>\n",
              "      <td>50500</td>\n",
              "      <td>3</td>\n",
              "    </tr>\n",
              "    <tr>\n",
              "      <th>1</th>\n",
              "      <td>Volvo</td>\n",
              "      <td>S80 T6</td>\n",
              "      <td>272</td>\n",
              "      <td>très longue</td>\n",
              "      <td>5</td>\n",
              "      <td>5</td>\n",
              "      <td>noir</td>\n",
              "      <td>False</td>\n",
              "      <td>50500</td>\n",
              "      <td>3</td>\n",
              "    </tr>\n",
              "    <tr>\n",
              "      <th>2</th>\n",
              "      <td>Volvo</td>\n",
              "      <td>S80 T6</td>\n",
              "      <td>272</td>\n",
              "      <td>très longue</td>\n",
              "      <td>5</td>\n",
              "      <td>5</td>\n",
              "      <td>rouge</td>\n",
              "      <td>False</td>\n",
              "      <td>50500</td>\n",
              "      <td>3</td>\n",
              "    </tr>\n",
              "    <tr>\n",
              "      <th>5</th>\n",
              "      <td>Volvo</td>\n",
              "      <td>S80 T6</td>\n",
              "      <td>272</td>\n",
              "      <td>très longue</td>\n",
              "      <td>5</td>\n",
              "      <td>5</td>\n",
              "      <td>gris</td>\n",
              "      <td>False</td>\n",
              "      <td>50500</td>\n",
              "      <td>3</td>\n",
              "    </tr>\n",
              "    <tr>\n",
              "      <th>6</th>\n",
              "      <td>Volvo</td>\n",
              "      <td>S80 T6</td>\n",
              "      <td>272</td>\n",
              "      <td>très longue</td>\n",
              "      <td>5</td>\n",
              "      <td>5</td>\n",
              "      <td>bleu</td>\n",
              "      <td>False</td>\n",
              "      <td>50500</td>\n",
              "      <td>3</td>\n",
              "    </tr>\n",
              "    <tr>\n",
              "      <th>75</th>\n",
              "      <td>Renault</td>\n",
              "      <td>Vel Satis 3.5 V6</td>\n",
              "      <td>245</td>\n",
              "      <td>très longue</td>\n",
              "      <td>5</td>\n",
              "      <td>5</td>\n",
              "      <td>gris</td>\n",
              "      <td>False</td>\n",
              "      <td>49200</td>\n",
              "      <td>3</td>\n",
              "    </tr>\n",
              "    <tr>\n",
              "      <th>76</th>\n",
              "      <td>Renault</td>\n",
              "      <td>Vel Satis 3.5 V6</td>\n",
              "      <td>245</td>\n",
              "      <td>très longue</td>\n",
              "      <td>5</td>\n",
              "      <td>5</td>\n",
              "      <td>bleu</td>\n",
              "      <td>False</td>\n",
              "      <td>49200</td>\n",
              "      <td>3</td>\n",
              "    </tr>\n",
              "    <tr>\n",
              "      <th>77</th>\n",
              "      <td>Renault</td>\n",
              "      <td>Vel Satis 3.5 V6</td>\n",
              "      <td>245</td>\n",
              "      <td>très longue</td>\n",
              "      <td>5</td>\n",
              "      <td>5</td>\n",
              "      <td>blanc</td>\n",
              "      <td>False</td>\n",
              "      <td>49200</td>\n",
              "      <td>3</td>\n",
              "    </tr>\n",
              "    <tr>\n",
              "      <th>78</th>\n",
              "      <td>Renault</td>\n",
              "      <td>Vel Satis 3.5 V6</td>\n",
              "      <td>245</td>\n",
              "      <td>très longue</td>\n",
              "      <td>5</td>\n",
              "      <td>5</td>\n",
              "      <td>noir</td>\n",
              "      <td>False</td>\n",
              "      <td>49200</td>\n",
              "      <td>3</td>\n",
              "    </tr>\n",
              "    <tr>\n",
              "      <th>79</th>\n",
              "      <td>Renault</td>\n",
              "      <td>Vel Satis 3.5 V6</td>\n",
              "      <td>245</td>\n",
              "      <td>très longue</td>\n",
              "      <td>5</td>\n",
              "      <td>5</td>\n",
              "      <td>rouge</td>\n",
              "      <td>False</td>\n",
              "      <td>49200</td>\n",
              "      <td>3</td>\n",
              "    </tr>\n",
              "    <tr>\n",
              "      <th>145</th>\n",
              "      <td>Mercedes</td>\n",
              "      <td>S500</td>\n",
              "      <td>306</td>\n",
              "      <td>très longue</td>\n",
              "      <td>5</td>\n",
              "      <td>5</td>\n",
              "      <td>noir</td>\n",
              "      <td>True</td>\n",
              "      <td>70910</td>\n",
              "      <td>3</td>\n",
              "    </tr>\n",
              "    <tr>\n",
              "      <th>146</th>\n",
              "      <td>Mercedes</td>\n",
              "      <td>S500</td>\n",
              "      <td>306</td>\n",
              "      <td>très longue</td>\n",
              "      <td>5</td>\n",
              "      <td>5</td>\n",
              "      <td>bleu</td>\n",
              "      <td>True</td>\n",
              "      <td>70910</td>\n",
              "      <td>3</td>\n",
              "    </tr>\n",
              "    <tr>\n",
              "      <th>147</th>\n",
              "      <td>Mercedes</td>\n",
              "      <td>S500</td>\n",
              "      <td>306</td>\n",
              "      <td>très longue</td>\n",
              "      <td>5</td>\n",
              "      <td>5</td>\n",
              "      <td>rouge</td>\n",
              "      <td>True</td>\n",
              "      <td>70910</td>\n",
              "      <td>3</td>\n",
              "    </tr>\n",
              "    <tr>\n",
              "      <th>148</th>\n",
              "      <td>Mercedes</td>\n",
              "      <td>S500</td>\n",
              "      <td>306</td>\n",
              "      <td>très longue</td>\n",
              "      <td>5</td>\n",
              "      <td>5</td>\n",
              "      <td>blanc</td>\n",
              "      <td>True</td>\n",
              "      <td>70910</td>\n",
              "      <td>3</td>\n",
              "    </tr>\n",
              "    <tr>\n",
              "      <th>150</th>\n",
              "      <td>Mercedes</td>\n",
              "      <td>S500</td>\n",
              "      <td>306</td>\n",
              "      <td>très longue</td>\n",
              "      <td>5</td>\n",
              "      <td>5</td>\n",
              "      <td>gris</td>\n",
              "      <td>True</td>\n",
              "      <td>70910</td>\n",
              "      <td>3</td>\n",
              "    </tr>\n",
              "    <tr>\n",
              "      <th>230</th>\n",
              "      <td>BMW</td>\n",
              "      <td>M5</td>\n",
              "      <td>507</td>\n",
              "      <td>très longue</td>\n",
              "      <td>5</td>\n",
              "      <td>5</td>\n",
              "      <td>bleu</td>\n",
              "      <td>True</td>\n",
              "      <td>66360</td>\n",
              "      <td>3</td>\n",
              "    </tr>\n",
              "    <tr>\n",
              "      <th>234</th>\n",
              "      <td>BMW</td>\n",
              "      <td>M5</td>\n",
              "      <td>507</td>\n",
              "      <td>très longue</td>\n",
              "      <td>5</td>\n",
              "      <td>5</td>\n",
              "      <td>rouge</td>\n",
              "      <td>True</td>\n",
              "      <td>66360</td>\n",
              "      <td>3</td>\n",
              "    </tr>\n",
              "    <tr>\n",
              "      <th>235</th>\n",
              "      <td>BMW</td>\n",
              "      <td>M5</td>\n",
              "      <td>507</td>\n",
              "      <td>très longue</td>\n",
              "      <td>5</td>\n",
              "      <td>5</td>\n",
              "      <td>blanc</td>\n",
              "      <td>True</td>\n",
              "      <td>66360</td>\n",
              "      <td>3</td>\n",
              "    </tr>\n",
              "    <tr>\n",
              "      <th>237</th>\n",
              "      <td>BMW</td>\n",
              "      <td>M5</td>\n",
              "      <td>507</td>\n",
              "      <td>très longue</td>\n",
              "      <td>5</td>\n",
              "      <td>5</td>\n",
              "      <td>gris</td>\n",
              "      <td>True</td>\n",
              "      <td>66360</td>\n",
              "      <td>3</td>\n",
              "    </tr>\n",
              "    <tr>\n",
              "      <th>239</th>\n",
              "      <td>BMW</td>\n",
              "      <td>M5</td>\n",
              "      <td>507</td>\n",
              "      <td>très longue</td>\n",
              "      <td>5</td>\n",
              "      <td>5</td>\n",
              "      <td>noir</td>\n",
              "      <td>True</td>\n",
              "      <td>66360</td>\n",
              "      <td>3</td>\n",
              "    </tr>\n",
              "  </tbody>\n",
              "</table>\n",
              "</div>"
            ],
            "text/plain": [
              "       marque               nom  puissance     longueur  nbPlaces  nbPortes  \\\n",
              "0       Volvo            S80 T6        272  très longue         5         5   \n",
              "1       Volvo            S80 T6        272  très longue         5         5   \n",
              "2       Volvo            S80 T6        272  très longue         5         5   \n",
              "5       Volvo            S80 T6        272  très longue         5         5   \n",
              "6       Volvo            S80 T6        272  très longue         5         5   \n",
              "75    Renault  Vel Satis 3.5 V6        245  très longue         5         5   \n",
              "76    Renault  Vel Satis 3.5 V6        245  très longue         5         5   \n",
              "77    Renault  Vel Satis 3.5 V6        245  très longue         5         5   \n",
              "78    Renault  Vel Satis 3.5 V6        245  très longue         5         5   \n",
              "79    Renault  Vel Satis 3.5 V6        245  très longue         5         5   \n",
              "145  Mercedes              S500        306  très longue         5         5   \n",
              "146  Mercedes              S500        306  très longue         5         5   \n",
              "147  Mercedes              S500        306  très longue         5         5   \n",
              "148  Mercedes              S500        306  très longue         5         5   \n",
              "150  Mercedes              S500        306  très longue         5         5   \n",
              "230       BMW                M5        507  très longue         5         5   \n",
              "234       BMW                M5        507  très longue         5         5   \n",
              "235       BMW                M5        507  très longue         5         5   \n",
              "237       BMW                M5        507  très longue         5         5   \n",
              "239       BMW                M5        507  très longue         5         5   \n",
              "\n",
              "    couleur  occasion   prix  categorie  \n",
              "0     blanc     False  50500          3  \n",
              "1      noir     False  50500          3  \n",
              "2     rouge     False  50500          3  \n",
              "5      gris     False  50500          3  \n",
              "6      bleu     False  50500          3  \n",
              "75     gris     False  49200          3  \n",
              "76     bleu     False  49200          3  \n",
              "77    blanc     False  49200          3  \n",
              "78     noir     False  49200          3  \n",
              "79    rouge     False  49200          3  \n",
              "145    noir      True  70910          3  \n",
              "146    bleu      True  70910          3  \n",
              "147   rouge      True  70910          3  \n",
              "148   blanc      True  70910          3  \n",
              "150    gris      True  70910          3  \n",
              "230    bleu      True  66360          3  \n",
              "234   rouge      True  66360          3  \n",
              "235   blanc      True  66360          3  \n",
              "237    gris      True  66360          3  \n",
              "239    noir      True  66360          3  "
            ]
          },
          "execution_count": 80,
          "metadata": {},
          "output_type": "execute_result"
        }
      ],
      "source": [
        "catalog_df[catalog_df.categorie==3]"
      ]
    },
    {
      "cell_type": "code",
      "execution_count": 81,
      "metadata": {},
      "outputs": [],
      "source": [
        "catalog_df.loc[catalog_df.categorie==0, \"categorie\"] = 'citadine'\n",
        "catalog_df.loc[catalog_df.categorie==1, \"categorie\"] = 'sport'\n",
        "catalog_df.loc[catalog_df.categorie==2, \"categorie\"] = 'routière'\n",
        "catalog_df.loc[catalog_df.categorie==3, \"categorie\"] = 'familiale'"
      ]
    },
    {
      "cell_type": "code",
      "execution_count": 82,
      "metadata": {},
      "outputs": [
        {
          "data": {
            "text/html": [
              "<div>\n",
              "<style scoped>\n",
              "    .dataframe tbody tr th:only-of-type {\n",
              "        vertical-align: middle;\n",
              "    }\n",
              "\n",
              "    .dataframe tbody tr th {\n",
              "        vertical-align: top;\n",
              "    }\n",
              "\n",
              "    .dataframe thead th {\n",
              "        text-align: right;\n",
              "    }\n",
              "</style>\n",
              "<table border=\"1\" class=\"dataframe\">\n",
              "  <thead>\n",
              "    <tr style=\"text-align: right;\">\n",
              "      <th></th>\n",
              "      <th>marque</th>\n",
              "      <th>nom</th>\n",
              "      <th>puissance</th>\n",
              "      <th>longueur</th>\n",
              "      <th>nbPlaces</th>\n",
              "      <th>nbPortes</th>\n",
              "      <th>couleur</th>\n",
              "      <th>occasion</th>\n",
              "      <th>prix</th>\n",
              "      <th>categorie</th>\n",
              "    </tr>\n",
              "  </thead>\n",
              "  <tbody>\n",
              "    <tr>\n",
              "      <th>0</th>\n",
              "      <td>Volvo</td>\n",
              "      <td>S80 T6</td>\n",
              "      <td>272</td>\n",
              "      <td>très longue</td>\n",
              "      <td>5</td>\n",
              "      <td>5</td>\n",
              "      <td>blanc</td>\n",
              "      <td>False</td>\n",
              "      <td>50500</td>\n",
              "      <td>familiale</td>\n",
              "    </tr>\n",
              "    <tr>\n",
              "      <th>1</th>\n",
              "      <td>Volvo</td>\n",
              "      <td>S80 T6</td>\n",
              "      <td>272</td>\n",
              "      <td>très longue</td>\n",
              "      <td>5</td>\n",
              "      <td>5</td>\n",
              "      <td>noir</td>\n",
              "      <td>False</td>\n",
              "      <td>50500</td>\n",
              "      <td>familiale</td>\n",
              "    </tr>\n",
              "    <tr>\n",
              "      <th>2</th>\n",
              "      <td>Volvo</td>\n",
              "      <td>S80 T6</td>\n",
              "      <td>272</td>\n",
              "      <td>très longue</td>\n",
              "      <td>5</td>\n",
              "      <td>5</td>\n",
              "      <td>rouge</td>\n",
              "      <td>False</td>\n",
              "      <td>50500</td>\n",
              "      <td>familiale</td>\n",
              "    </tr>\n",
              "    <tr>\n",
              "      <th>3</th>\n",
              "      <td>Volvo</td>\n",
              "      <td>S80 T6</td>\n",
              "      <td>272</td>\n",
              "      <td>très longue</td>\n",
              "      <td>5</td>\n",
              "      <td>5</td>\n",
              "      <td>gris</td>\n",
              "      <td>True</td>\n",
              "      <td>35350</td>\n",
              "      <td>routière</td>\n",
              "    </tr>\n",
              "    <tr>\n",
              "      <th>4</th>\n",
              "      <td>Volvo</td>\n",
              "      <td>S80 T6</td>\n",
              "      <td>272</td>\n",
              "      <td>très longue</td>\n",
              "      <td>5</td>\n",
              "      <td>5</td>\n",
              "      <td>bleu</td>\n",
              "      <td>True</td>\n",
              "      <td>35350</td>\n",
              "      <td>routière</td>\n",
              "    </tr>\n",
              "    <tr>\n",
              "      <th>...</th>\n",
              "      <td>...</td>\n",
              "      <td>...</td>\n",
              "      <td>...</td>\n",
              "      <td>...</td>\n",
              "      <td>...</td>\n",
              "      <td>...</td>\n",
              "      <td>...</td>\n",
              "      <td>...</td>\n",
              "      <td>...</td>\n",
              "      <td>...</td>\n",
              "    </tr>\n",
              "    <tr>\n",
              "      <th>265</th>\n",
              "      <td>Audi</td>\n",
              "      <td>A2 1.4</td>\n",
              "      <td>75</td>\n",
              "      <td>courte</td>\n",
              "      <td>5</td>\n",
              "      <td>5</td>\n",
              "      <td>noir</td>\n",
              "      <td>False</td>\n",
              "      <td>18310</td>\n",
              "      <td>citadine</td>\n",
              "    </tr>\n",
              "    <tr>\n",
              "      <th>266</th>\n",
              "      <td>Audi</td>\n",
              "      <td>A2 1.4</td>\n",
              "      <td>75</td>\n",
              "      <td>courte</td>\n",
              "      <td>5</td>\n",
              "      <td>5</td>\n",
              "      <td>rouge</td>\n",
              "      <td>False</td>\n",
              "      <td>18310</td>\n",
              "      <td>citadine</td>\n",
              "    </tr>\n",
              "    <tr>\n",
              "      <th>267</th>\n",
              "      <td>Audi</td>\n",
              "      <td>A2 1.4</td>\n",
              "      <td>75</td>\n",
              "      <td>courte</td>\n",
              "      <td>5</td>\n",
              "      <td>5</td>\n",
              "      <td>blanc</td>\n",
              "      <td>True</td>\n",
              "      <td>12817</td>\n",
              "      <td>citadine</td>\n",
              "    </tr>\n",
              "    <tr>\n",
              "      <th>268</th>\n",
              "      <td>Audi</td>\n",
              "      <td>A2 1.4</td>\n",
              "      <td>75</td>\n",
              "      <td>courte</td>\n",
              "      <td>5</td>\n",
              "      <td>5</td>\n",
              "      <td>rouge</td>\n",
              "      <td>True</td>\n",
              "      <td>12817</td>\n",
              "      <td>citadine</td>\n",
              "    </tr>\n",
              "    <tr>\n",
              "      <th>269</th>\n",
              "      <td>Audi</td>\n",
              "      <td>A2 1.4</td>\n",
              "      <td>75</td>\n",
              "      <td>courte</td>\n",
              "      <td>5</td>\n",
              "      <td>5</td>\n",
              "      <td>blanc</td>\n",
              "      <td>False</td>\n",
              "      <td>18310</td>\n",
              "      <td>citadine</td>\n",
              "    </tr>\n",
              "  </tbody>\n",
              "</table>\n",
              "<p>270 rows × 10 columns</p>\n",
              "</div>"
            ],
            "text/plain": [
              "    marque     nom  puissance     longueur  nbPlaces  nbPortes couleur  \\\n",
              "0    Volvo  S80 T6        272  très longue         5         5   blanc   \n",
              "1    Volvo  S80 T6        272  très longue         5         5    noir   \n",
              "2    Volvo  S80 T6        272  très longue         5         5   rouge   \n",
              "3    Volvo  S80 T6        272  très longue         5         5    gris   \n",
              "4    Volvo  S80 T6        272  très longue         5         5    bleu   \n",
              "..     ...     ...        ...          ...       ...       ...     ...   \n",
              "265   Audi  A2 1.4         75       courte         5         5    noir   \n",
              "266   Audi  A2 1.4         75       courte         5         5   rouge   \n",
              "267   Audi  A2 1.4         75       courte         5         5   blanc   \n",
              "268   Audi  A2 1.4         75       courte         5         5   rouge   \n",
              "269   Audi  A2 1.4         75       courte         5         5   blanc   \n",
              "\n",
              "     occasion   prix  categorie  \n",
              "0       False  50500  familiale  \n",
              "1       False  50500  familiale  \n",
              "2       False  50500  familiale  \n",
              "3        True  35350   routière  \n",
              "4        True  35350   routière  \n",
              "..        ...    ...        ...  \n",
              "265     False  18310   citadine  \n",
              "266     False  18310   citadine  \n",
              "267      True  12817   citadine  \n",
              "268      True  12817   citadine  \n",
              "269     False  18310   citadine  \n",
              "\n",
              "[270 rows x 10 columns]"
            ]
          },
          "execution_count": 82,
          "metadata": {},
          "output_type": "execute_result"
        }
      ],
      "source": [
        "catalog_df"
      ]
    },
    {
      "cell_type": "markdown",
      "metadata": {},
      "source": [
        "# Fusion des données clients et immatriculations"
      ]
    },
    {
      "cell_type": "markdown",
      "metadata": {},
      "source": [
        "On va d'abord 'set' les catégories de véhicules de catalog aux véhicules d'immatriculation"
      ]
    },
    {
      "cell_type": "code",
      "execution_count": 83,
      "metadata": {},
      "outputs": [],
      "source": [
        "cars_df = pd.merge(catalog_df, im_df, how='inner', on=['nom', 'marque', 'puissance', 'longueur', 'nbPlaces', 'nbPortes','couleur', 'occasion', 'prix'])"
      ]
    },
    {
      "cell_type": "code",
      "execution_count": 84,
      "metadata": {},
      "outputs": [
        {
          "data": {
            "text/plain": [
              "marque             False\n",
              "nom                False\n",
              "puissance          False\n",
              "longueur           False\n",
              "nbPlaces           False\n",
              "nbPortes           False\n",
              "couleur            False\n",
              "occasion           False\n",
              "prix               False\n",
              "categorie          False\n",
              "immatriculation    False\n",
              "dtype: bool"
            ]
          },
          "execution_count": 84,
          "metadata": {},
          "output_type": "execute_result"
        }
      ],
      "source": [
        "cars_df.isna().any()"
      ]
    },
    {
      "cell_type": "markdown",
      "metadata": {},
      "source": [
        "Vu que les données d'immatriculations de véhicules sont unique, on fera un *inner join* en fonction de l'immatriculation"
      ]
    },
    {
      "cell_type": "code",
      "execution_count": 85,
      "metadata": {},
      "outputs": [],
      "source": [
        "data = pd.merge(client_df, cars_df, on='immatriculation', how='left')"
      ]
    },
    {
      "cell_type": "code",
      "execution_count": 86,
      "metadata": {},
      "outputs": [
        {
          "data": {
            "text/plain": [
              "age                   False\n",
              "sexe                  False\n",
              "taux                  False\n",
              "situationFamiliale    False\n",
              "nbEnfantsAcharge      False\n",
              "2eme voiture          False\n",
              "immatriculation       False\n",
              "marque                False\n",
              "nom                   False\n",
              "puissance             False\n",
              "longueur              False\n",
              "nbPlaces              False\n",
              "nbPortes              False\n",
              "couleur               False\n",
              "occasion              False\n",
              "prix                  False\n",
              "categorie             False\n",
              "dtype: bool"
            ]
          },
          "execution_count": 86,
          "metadata": {},
          "output_type": "execute_result"
        }
      ],
      "source": [
        "data.isna().any()"
      ]
    },
    {
      "cell_type": "code",
      "execution_count": 87,
      "metadata": {},
      "outputs": [
        {
          "data": {
            "text/html": [
              "<div>\n",
              "<style scoped>\n",
              "    .dataframe tbody tr th:only-of-type {\n",
              "        vertical-align: middle;\n",
              "    }\n",
              "\n",
              "    .dataframe tbody tr th {\n",
              "        vertical-align: top;\n",
              "    }\n",
              "\n",
              "    .dataframe thead th {\n",
              "        text-align: right;\n",
              "    }\n",
              "</style>\n",
              "<table border=\"1\" class=\"dataframe\">\n",
              "  <thead>\n",
              "    <tr style=\"text-align: right;\">\n",
              "      <th></th>\n",
              "      <th>age</th>\n",
              "      <th>sexe</th>\n",
              "      <th>taux</th>\n",
              "      <th>situationFamiliale</th>\n",
              "      <th>nbEnfantsAcharge</th>\n",
              "      <th>2eme voiture</th>\n",
              "      <th>immatriculation</th>\n",
              "      <th>marque</th>\n",
              "      <th>nom</th>\n",
              "      <th>puissance</th>\n",
              "      <th>longueur</th>\n",
              "      <th>nbPlaces</th>\n",
              "      <th>nbPortes</th>\n",
              "      <th>couleur</th>\n",
              "      <th>occasion</th>\n",
              "      <th>prix</th>\n",
              "      <th>categorie</th>\n",
              "    </tr>\n",
              "  </thead>\n",
              "  <tbody>\n",
              "    <tr>\n",
              "      <th>0</th>\n",
              "      <td>38</td>\n",
              "      <td>M</td>\n",
              "      <td>522</td>\n",
              "      <td>En Couple</td>\n",
              "      <td>3</td>\n",
              "      <td>True</td>\n",
              "      <td>2951 II 77</td>\n",
              "      <td>Volvo</td>\n",
              "      <td>S80 T6</td>\n",
              "      <td>272</td>\n",
              "      <td>très longue</td>\n",
              "      <td>5</td>\n",
              "      <td>5</td>\n",
              "      <td>gris</td>\n",
              "      <td>False</td>\n",
              "      <td>50500</td>\n",
              "      <td>familiale</td>\n",
              "    </tr>\n",
              "    <tr>\n",
              "      <th>1</th>\n",
              "      <td>50</td>\n",
              "      <td>M</td>\n",
              "      <td>590</td>\n",
              "      <td>En Couple</td>\n",
              "      <td>1</td>\n",
              "      <td>True</td>\n",
              "      <td>1453 CD 31</td>\n",
              "      <td>Jaguar</td>\n",
              "      <td>X-Type 2.5 V6</td>\n",
              "      <td>197</td>\n",
              "      <td>longue</td>\n",
              "      <td>5</td>\n",
              "      <td>5</td>\n",
              "      <td>blanc</td>\n",
              "      <td>True</td>\n",
              "      <td>25970</td>\n",
              "      <td>routière</td>\n",
              "    </tr>\n",
              "    <tr>\n",
              "      <th>2</th>\n",
              "      <td>54</td>\n",
              "      <td>F</td>\n",
              "      <td>558</td>\n",
              "      <td>En Couple</td>\n",
              "      <td>0</td>\n",
              "      <td>True</td>\n",
              "      <td>6099 TQ 49</td>\n",
              "      <td>BMW</td>\n",
              "      <td>M5</td>\n",
              "      <td>507</td>\n",
              "      <td>très longue</td>\n",
              "      <td>5</td>\n",
              "      <td>5</td>\n",
              "      <td>gris</td>\n",
              "      <td>True</td>\n",
              "      <td>66360</td>\n",
              "      <td>familiale</td>\n",
              "    </tr>\n",
              "    <tr>\n",
              "      <th>3</th>\n",
              "      <td>35</td>\n",
              "      <td>M</td>\n",
              "      <td>522</td>\n",
              "      <td>En Couple</td>\n",
              "      <td>0</td>\n",
              "      <td>True</td>\n",
              "      <td>3352 BH 16</td>\n",
              "      <td>BMW</td>\n",
              "      <td>M5</td>\n",
              "      <td>507</td>\n",
              "      <td>très longue</td>\n",
              "      <td>5</td>\n",
              "      <td>5</td>\n",
              "      <td>noir</td>\n",
              "      <td>True</td>\n",
              "      <td>66360</td>\n",
              "      <td>familiale</td>\n",
              "    </tr>\n",
              "    <tr>\n",
              "      <th>4</th>\n",
              "      <td>43</td>\n",
              "      <td>M</td>\n",
              "      <td>904</td>\n",
              "      <td>En Couple</td>\n",
              "      <td>4</td>\n",
              "      <td>True</td>\n",
              "      <td>8550 VG 50</td>\n",
              "      <td>BMW</td>\n",
              "      <td>M5</td>\n",
              "      <td>507</td>\n",
              "      <td>très longue</td>\n",
              "      <td>5</td>\n",
              "      <td>5</td>\n",
              "      <td>blanc</td>\n",
              "      <td>False</td>\n",
              "      <td>94800</td>\n",
              "      <td>sport</td>\n",
              "    </tr>\n",
              "    <tr>\n",
              "      <th>...</th>\n",
              "      <td>...</td>\n",
              "      <td>...</td>\n",
              "      <td>...</td>\n",
              "      <td>...</td>\n",
              "      <td>...</td>\n",
              "      <td>...</td>\n",
              "      <td>...</td>\n",
              "      <td>...</td>\n",
              "      <td>...</td>\n",
              "      <td>...</td>\n",
              "      <td>...</td>\n",
              "      <td>...</td>\n",
              "      <td>...</td>\n",
              "      <td>...</td>\n",
              "      <td>...</td>\n",
              "      <td>...</td>\n",
              "      <td>...</td>\n",
              "    </tr>\n",
              "    <tr>\n",
              "      <th>198985</th>\n",
              "      <td>57</td>\n",
              "      <td>M</td>\n",
              "      <td>522</td>\n",
              "      <td>En Couple</td>\n",
              "      <td>2</td>\n",
              "      <td>True</td>\n",
              "      <td>3152 DW 28</td>\n",
              "      <td>Fiat</td>\n",
              "      <td>Croma 2.2</td>\n",
              "      <td>147</td>\n",
              "      <td>longue</td>\n",
              "      <td>5</td>\n",
              "      <td>5</td>\n",
              "      <td>blanc</td>\n",
              "      <td>True</td>\n",
              "      <td>17346</td>\n",
              "      <td>citadine</td>\n",
              "    </tr>\n",
              "    <tr>\n",
              "      <th>198986</th>\n",
              "      <td>64</td>\n",
              "      <td>M</td>\n",
              "      <td>572</td>\n",
              "      <td>Célibataire</td>\n",
              "      <td>2</td>\n",
              "      <td>True</td>\n",
              "      <td>3938 CV 41</td>\n",
              "      <td>Mercedes</td>\n",
              "      <td>S500</td>\n",
              "      <td>306</td>\n",
              "      <td>très longue</td>\n",
              "      <td>5</td>\n",
              "      <td>5</td>\n",
              "      <td>gris</td>\n",
              "      <td>True</td>\n",
              "      <td>70910</td>\n",
              "      <td>familiale</td>\n",
              "    </tr>\n",
              "    <tr>\n",
              "      <th>198987</th>\n",
              "      <td>22</td>\n",
              "      <td>M</td>\n",
              "      <td>567</td>\n",
              "      <td>En Couple</td>\n",
              "      <td>0</td>\n",
              "      <td>True</td>\n",
              "      <td>7911 ZQ 15</td>\n",
              "      <td>Jaguar</td>\n",
              "      <td>X-Type 2.5 V6</td>\n",
              "      <td>197</td>\n",
              "      <td>longue</td>\n",
              "      <td>5</td>\n",
              "      <td>5</td>\n",
              "      <td>bleu</td>\n",
              "      <td>True</td>\n",
              "      <td>25970</td>\n",
              "      <td>routière</td>\n",
              "    </tr>\n",
              "    <tr>\n",
              "      <th>198988</th>\n",
              "      <td>55</td>\n",
              "      <td>M</td>\n",
              "      <td>522</td>\n",
              "      <td>En Couple</td>\n",
              "      <td>3</td>\n",
              "      <td>True</td>\n",
              "      <td>3817 TC 79</td>\n",
              "      <td>Volvo</td>\n",
              "      <td>S80 T6</td>\n",
              "      <td>272</td>\n",
              "      <td>très longue</td>\n",
              "      <td>5</td>\n",
              "      <td>5</td>\n",
              "      <td>bleu</td>\n",
              "      <td>True</td>\n",
              "      <td>35350</td>\n",
              "      <td>routière</td>\n",
              "    </tr>\n",
              "    <tr>\n",
              "      <th>198989</th>\n",
              "      <td>73</td>\n",
              "      <td>F</td>\n",
              "      <td>750</td>\n",
              "      <td>En Couple</td>\n",
              "      <td>1</td>\n",
              "      <td>True</td>\n",
              "      <td>3571 SA 87</td>\n",
              "      <td>Mercedes</td>\n",
              "      <td>S500</td>\n",
              "      <td>306</td>\n",
              "      <td>très longue</td>\n",
              "      <td>5</td>\n",
              "      <td>5</td>\n",
              "      <td>rouge</td>\n",
              "      <td>False</td>\n",
              "      <td>101300</td>\n",
              "      <td>sport</td>\n",
              "    </tr>\n",
              "  </tbody>\n",
              "</table>\n",
              "<p>198985 rows × 17 columns</p>\n",
              "</div>"
            ],
            "text/plain": [
              "        age sexe  taux situationFamiliale  nbEnfantsAcharge  2eme voiture  \\\n",
              "0        38    M   522          En Couple                 3          True   \n",
              "1        50    M   590          En Couple                 1          True   \n",
              "2        54    F   558          En Couple                 0          True   \n",
              "3        35    M   522          En Couple                 0          True   \n",
              "4        43    M   904          En Couple                 4          True   \n",
              "...     ...  ...   ...                ...               ...           ...   \n",
              "198985   57    M   522          En Couple                 2          True   \n",
              "198986   64    M   572        Célibataire                 2          True   \n",
              "198987   22    M   567          En Couple                 0          True   \n",
              "198988   55    M   522          En Couple                 3          True   \n",
              "198989   73    F   750          En Couple                 1          True   \n",
              "\n",
              "       immatriculation    marque            nom  puissance     longueur  \\\n",
              "0           2951 II 77     Volvo         S80 T6        272  très longue   \n",
              "1           1453 CD 31    Jaguar  X-Type 2.5 V6        197       longue   \n",
              "2           6099 TQ 49       BMW             M5        507  très longue   \n",
              "3           3352 BH 16       BMW             M5        507  très longue   \n",
              "4           8550 VG 50       BMW             M5        507  très longue   \n",
              "...                ...       ...            ...        ...          ...   \n",
              "198985      3152 DW 28      Fiat      Croma 2.2        147       longue   \n",
              "198986      3938 CV 41  Mercedes           S500        306  très longue   \n",
              "198987      7911 ZQ 15    Jaguar  X-Type 2.5 V6        197       longue   \n",
              "198988      3817 TC 79     Volvo         S80 T6        272  très longue   \n",
              "198989      3571 SA 87  Mercedes           S500        306  très longue   \n",
              "\n",
              "        nbPlaces  nbPortes couleur  occasion    prix  categorie  \n",
              "0              5         5    gris     False   50500  familiale  \n",
              "1              5         5   blanc      True   25970   routière  \n",
              "2              5         5    gris      True   66360  familiale  \n",
              "3              5         5    noir      True   66360  familiale  \n",
              "4              5         5   blanc     False   94800      sport  \n",
              "...          ...       ...     ...       ...     ...        ...  \n",
              "198985         5         5   blanc      True   17346   citadine  \n",
              "198986         5         5    gris      True   70910  familiale  \n",
              "198987         5         5    bleu      True   25970   routière  \n",
              "198988         5         5    bleu      True   35350   routière  \n",
              "198989         5         5   rouge     False  101300      sport  \n",
              "\n",
              "[198985 rows x 17 columns]"
            ]
          },
          "execution_count": 87,
          "metadata": {},
          "output_type": "execute_result"
        }
      ],
      "source": [
        "data.drop_duplicates()"
      ]
    },
    {
      "cell_type": "markdown",
      "metadata": {},
      "source": [
        "# Création d'un modèle de classification"
      ]
    },
    {
      "cell_type": "markdown",
      "metadata": {},
      "source": [
        "On selectionne le même nombre de valeurs de la target variable de tel sorte à avoir la même probabilité pour chaque valeur"
      ]
    },
    {
      "cell_type": "code",
      "execution_count": 88,
      "metadata": {},
      "outputs": [
        {
          "data": {
            "text/plain": [
              "citadine     74565\n",
              "routière     70567\n",
              "familiale    33181\n",
              "sport        20677\n",
              "Name: categorie, dtype: int64"
            ]
          },
          "execution_count": 88,
          "metadata": {},
          "output_type": "execute_result"
        }
      ],
      "source": [
        "data.categorie.value_counts()"
      ]
    },
    {
      "cell_type": "code",
      "execution_count": 89,
      "metadata": {},
      "outputs": [],
      "source": [
        "c_df = data[data.categorie == 'citadine'].sample(20677).reset_index(drop=True)\n",
        "r_df = data[data.categorie == 'routière'].sample(20677).reset_index(drop=True)\n",
        "s_df = data[data.categorie == 'sport'].sample(20677).reset_index(drop=True)\n",
        "f_df = data[data.categorie == 'familiale'].sample(20677).reset_index(drop=True)"
      ]
    },
    {
      "cell_type": "markdown",
      "metadata": {},
      "source": [
        "On régroupe les données et on les shuffle"
      ]
    },
    {
      "cell_type": "code",
      "execution_count": 90,
      "metadata": {},
      "outputs": [],
      "source": [
        "df = pd.concat([c_df, r_df, s_df, f_df]).reset_index(drop=True)\n",
        "df = df.sample(frac=1).reset_index(drop=True)"
      ]
    },
    {
      "cell_type": "code",
      "execution_count": 91,
      "metadata": {},
      "outputs": [
        {
          "name": "stdout",
          "output_type": "stream",
          "text": [
            "<class 'pandas.core.frame.DataFrame'>\n",
            "RangeIndex: 82708 entries, 0 to 82707\n",
            "Data columns (total 17 columns):\n",
            " #   Column              Non-Null Count  Dtype \n",
            "---  ------              --------------  ----- \n",
            " 0   age                 82708 non-null  int32 \n",
            " 1   sexe                82708 non-null  object\n",
            " 2   taux                82708 non-null  int32 \n",
            " 3   situationFamiliale  82708 non-null  object\n",
            " 4   nbEnfantsAcharge    82708 non-null  int32 \n",
            " 5   2eme voiture        82708 non-null  bool  \n",
            " 6   immatriculation     82708 non-null  object\n",
            " 7   marque              82708 non-null  object\n",
            " 8   nom                 82708 non-null  object\n",
            " 9   puissance           82708 non-null  int64 \n",
            " 10  longueur            82708 non-null  object\n",
            " 11  nbPlaces            82708 non-null  int64 \n",
            " 12  nbPortes            82708 non-null  int64 \n",
            " 13  couleur             82708 non-null  object\n",
            " 14  occasion            82708 non-null  bool  \n",
            " 15  prix                82708 non-null  int64 \n",
            " 16  categorie           82708 non-null  object\n",
            "dtypes: bool(2), int32(3), int64(4), object(8)\n",
            "memory usage: 8.7+ MB\n"
          ]
        }
      ],
      "source": [
        "df.info()"
      ]
    },
    {
      "cell_type": "code",
      "execution_count": 92,
      "metadata": {},
      "outputs": [
        {
          "data": {
            "text/plain": [
              "0         citadine\n",
              "1         citadine\n",
              "2        familiale\n",
              "3         routière\n",
              "4            sport\n",
              "           ...    \n",
              "82703     citadine\n",
              "82704    familiale\n",
              "82705     citadine\n",
              "82706        sport\n",
              "82707     citadine\n",
              "Name: categorie, Length: 82708, dtype: object"
            ]
          },
          "execution_count": 92,
          "metadata": {},
          "output_type": "execute_result"
        }
      ],
      "source": [
        "y = df.loc[:, 'categorie']\n",
        "y"
      ]
    },
    {
      "cell_type": "markdown",
      "metadata": {},
      "source": [
        "On sélectionne ces variables d'entrées car ce sont les variables de notre jeu de test"
      ]
    },
    {
      "cell_type": "code",
      "execution_count": 93,
      "metadata": {},
      "outputs": [
        {
          "data": {
            "text/html": [
              "<div>\n",
              "<style scoped>\n",
              "    .dataframe tbody tr th:only-of-type {\n",
              "        vertical-align: middle;\n",
              "    }\n",
              "\n",
              "    .dataframe tbody tr th {\n",
              "        vertical-align: top;\n",
              "    }\n",
              "\n",
              "    .dataframe thead th {\n",
              "        text-align: right;\n",
              "    }\n",
              "</style>\n",
              "<table border=\"1\" class=\"dataframe\">\n",
              "  <thead>\n",
              "    <tr style=\"text-align: right;\">\n",
              "      <th></th>\n",
              "      <th>age</th>\n",
              "      <th>sexe</th>\n",
              "      <th>taux</th>\n",
              "      <th>situationFamiliale</th>\n",
              "      <th>nbEnfantsAcharge</th>\n",
              "      <th>2eme voiture</th>\n",
              "    </tr>\n",
              "  </thead>\n",
              "  <tbody>\n",
              "    <tr>\n",
              "      <th>0</th>\n",
              "      <td>26</td>\n",
              "      <td>M</td>\n",
              "      <td>1334</td>\n",
              "      <td>Célibataire</td>\n",
              "      <td>0</td>\n",
              "      <td>True</td>\n",
              "    </tr>\n",
              "    <tr>\n",
              "      <th>1</th>\n",
              "      <td>57</td>\n",
              "      <td>M</td>\n",
              "      <td>893</td>\n",
              "      <td>Célibataire</td>\n",
              "      <td>0</td>\n",
              "      <td>True</td>\n",
              "    </tr>\n",
              "    <tr>\n",
              "      <th>2</th>\n",
              "      <td>75</td>\n",
              "      <td>M</td>\n",
              "      <td>522</td>\n",
              "      <td>En Couple</td>\n",
              "      <td>4</td>\n",
              "      <td>True</td>\n",
              "    </tr>\n",
              "    <tr>\n",
              "      <th>3</th>\n",
              "      <td>49</td>\n",
              "      <td>M</td>\n",
              "      <td>587</td>\n",
              "      <td>En Couple</td>\n",
              "      <td>2</td>\n",
              "      <td>True</td>\n",
              "    </tr>\n",
              "    <tr>\n",
              "      <th>4</th>\n",
              "      <td>61</td>\n",
              "      <td>M</td>\n",
              "      <td>820</td>\n",
              "      <td>En Couple</td>\n",
              "      <td>3</td>\n",
              "      <td>True</td>\n",
              "    </tr>\n",
              "    <tr>\n",
              "      <th>...</th>\n",
              "      <td>...</td>\n",
              "      <td>...</td>\n",
              "      <td>...</td>\n",
              "      <td>...</td>\n",
              "      <td>...</td>\n",
              "      <td>...</td>\n",
              "    </tr>\n",
              "    <tr>\n",
              "      <th>82703</th>\n",
              "      <td>74</td>\n",
              "      <td>M</td>\n",
              "      <td>1052</td>\n",
              "      <td>En Couple</td>\n",
              "      <td>0</td>\n",
              "      <td>True</td>\n",
              "    </tr>\n",
              "    <tr>\n",
              "      <th>82704</th>\n",
              "      <td>25</td>\n",
              "      <td>F</td>\n",
              "      <td>522</td>\n",
              "      <td>En Couple</td>\n",
              "      <td>0</td>\n",
              "      <td>True</td>\n",
              "    </tr>\n",
              "    <tr>\n",
              "      <th>82705</th>\n",
              "      <td>41</td>\n",
              "      <td>M</td>\n",
              "      <td>1224</td>\n",
              "      <td>Célibataire</td>\n",
              "      <td>0</td>\n",
              "      <td>True</td>\n",
              "    </tr>\n",
              "    <tr>\n",
              "      <th>82706</th>\n",
              "      <td>32</td>\n",
              "      <td>M</td>\n",
              "      <td>753</td>\n",
              "      <td>En Couple</td>\n",
              "      <td>0</td>\n",
              "      <td>True</td>\n",
              "    </tr>\n",
              "    <tr>\n",
              "      <th>82707</th>\n",
              "      <td>31</td>\n",
              "      <td>F</td>\n",
              "      <td>522</td>\n",
              "      <td>En Couple</td>\n",
              "      <td>2</td>\n",
              "      <td>True</td>\n",
              "    </tr>\n",
              "  </tbody>\n",
              "</table>\n",
              "<p>82708 rows × 6 columns</p>\n",
              "</div>"
            ],
            "text/plain": [
              "       age sexe  taux situationFamiliale  nbEnfantsAcharge  2eme voiture\n",
              "0       26    M  1334        Célibataire                 0          True\n",
              "1       57    M   893        Célibataire                 0          True\n",
              "2       75    M   522          En Couple                 4          True\n",
              "3       49    M   587          En Couple                 2          True\n",
              "4       61    M   820          En Couple                 3          True\n",
              "...    ...  ...   ...                ...               ...           ...\n",
              "82703   74    M  1052          En Couple                 0          True\n",
              "82704   25    F   522          En Couple                 0          True\n",
              "82705   41    M  1224        Célibataire                 0          True\n",
              "82706   32    M   753          En Couple                 0          True\n",
              "82707   31    F   522          En Couple                 2          True\n",
              "\n",
              "[82708 rows x 6 columns]"
            ]
          },
          "execution_count": 93,
          "metadata": {},
          "output_type": "execute_result"
        }
      ],
      "source": [
        "X = df.loc[:, ['age', 'sexe', 'taux', 'situationFamiliale', 'nbEnfantsAcharge', '2eme voiture']]\n",
        "X"
      ]
    },
    {
      "cell_type": "markdown",
      "metadata": {},
      "source": [
        "Import de modules scikit-learn"
      ]
    },
    {
      "cell_type": "code",
      "execution_count": 94,
      "metadata": {},
      "outputs": [],
      "source": [
        "from sklearn.preprocessing import LabelEncoder\n",
        "from sklearn.preprocessing import StandardScaler, MinMaxScaler\n",
        "from sklearn.svm import SVC\n",
        "from sklearn.ensemble import RandomForestClassifier\n",
        "from sklearn.tree import DecisionTreeClassifier\n",
        "from sklearn.neighbors import KNeighborsClassifier\n",
        "from sklearn.model_selection import train_test_split\n",
        "from sklearn.metrics import confusion_matrix\n",
        "from sklearn.metrics import classification_report\n",
        "from sklearn.linear_model import LogisticRegression"
      ]
    },
    {
      "cell_type": "markdown",
      "metadata": {},
      "source": [
        "On encode les variables catégorielle et on normalise l'ensemble des données"
      ]
    },
    {
      "cell_type": "code",
      "execution_count": 95,
      "metadata": {},
      "outputs": [],
      "source": [
        "lb = LabelEncoder()\n",
        "mm = MinMaxScaler()\n",
        "\n",
        "for col in X.select_dtypes('object').columns:\n",
        "    X.loc[:, col] = lb.fit_transform(X.loc[:, col])\n",
        "    \n",
        "for col in X.select_dtypes('bool').columns:\n",
        "    X.loc[:, col] = lb.fit_transform(X.loc[:, col])\n",
        "\n",
        "# X = mm.fit_transform(X)\n",
        "# y = lb.fit_transform(y)"
      ]
    },
    {
      "cell_type": "markdown",
      "metadata": {},
      "source": [
        "Split des données en train et test"
      ]
    },
    {
      "cell_type": "code",
      "execution_count": 96,
      "metadata": {},
      "outputs": [],
      "source": [
        "X_train, X_test, y_train, y_test = train_test_split(X, y, test_size=0.3, random_state=14)"
      ]
    },
    {
      "cell_type": "code",
      "execution_count": 97,
      "metadata": {},
      "outputs": [],
      "source": [
        "# cv = KFold(n_splits=10)\n",
        "\n",
        "# models = (\n",
        "#         ('SVC', SVC(random_state=0)),\n",
        "#         ('RandomForest', RandomForestClassifier(n_estimators=5, random_state=0)),\n",
        "#         ('DecisionTree', DecisionTreeClassifier(random_state=0)),\n",
        "#         ('KNN', KNeighborsClassifier(n_neighbors=3))\n",
        "# )"
      ]
    },
    {
      "cell_type": "code",
      "execution_count": 98,
      "metadata": {},
      "outputs": [],
      "source": [
        "# for name, clf in models:\n",
        "#     pipeline = Pipeline([('estimator', clf)])\n",
        "#     scores = cross_val_score(pipeline, X_train, y_train, cv=cv)\n",
        "#     print(f\"Estimator: {name}, Mean ROC AUC: {round(scores.mean(), 2)}, Std: {round(scores.std(), 2)}\")"
      ]
    },
    {
      "cell_type": "markdown",
      "metadata": {},
      "source": [
        "### Logistic Regression"
      ]
    },
    {
      "cell_type": "code",
      "execution_count": 99,
      "metadata": {},
      "outputs": [
        {
          "name": "stderr",
          "output_type": "stream",
          "text": [
            "C:\\Users\\Akach\\AppData\\Local\\Programs\\Python\\Python39\\lib\\site-packages\\sklearn\\linear_model\\_logistic.py:814: ConvergenceWarning: lbfgs failed to converge (status=1):\n",
            "STOP: TOTAL NO. of ITERATIONS REACHED LIMIT.\n",
            "\n",
            "Increase the number of iterations (max_iter) or scale the data as shown in:\n",
            "    https://scikit-learn.org/stable/modules/preprocessing.html\n",
            "Please also refer to the documentation for alternative solver options:\n",
            "    https://scikit-learn.org/stable/modules/linear_model.html#logistic-regression\n",
            "  n_iter_i = _check_optimize_result(\n"
          ]
        }
      ],
      "source": [
        "logreg = LogisticRegression(random_state=0).fit(X_train, y_train)\n",
        "y_logreg = logreg.predict(X_test)\n"
      ]
    },
    {
      "cell_type": "markdown",
      "metadata": {},
      "source": [
        "Matrice de confusion"
      ]
    },
    {
      "cell_type": "code",
      "execution_count": 100,
      "metadata": {},
      "outputs": [
        {
          "data": {
            "text/html": [
              "<div>\n",
              "<style scoped>\n",
              "    .dataframe tbody tr th:only-of-type {\n",
              "        vertical-align: middle;\n",
              "    }\n",
              "\n",
              "    .dataframe tbody tr th {\n",
              "        vertical-align: top;\n",
              "    }\n",
              "\n",
              "    .dataframe thead th {\n",
              "        text-align: right;\n",
              "    }\n",
              "</style>\n",
              "<table border=\"1\" class=\"dataframe\">\n",
              "  <thead>\n",
              "    <tr style=\"text-align: right;\">\n",
              "      <th></th>\n",
              "      <th>0</th>\n",
              "      <th>1</th>\n",
              "      <th>2</th>\n",
              "      <th>3</th>\n",
              "    </tr>\n",
              "  </thead>\n",
              "  <tbody>\n",
              "    <tr>\n",
              "      <th>0</th>\n",
              "      <td>4565</td>\n",
              "      <td>511</td>\n",
              "      <td>594</td>\n",
              "      <td>553</td>\n",
              "    </tr>\n",
              "    <tr>\n",
              "      <th>1</th>\n",
              "      <td>780</td>\n",
              "      <td>4317</td>\n",
              "      <td>672</td>\n",
              "      <td>505</td>\n",
              "    </tr>\n",
              "    <tr>\n",
              "      <th>2</th>\n",
              "      <td>2540</td>\n",
              "      <td>1444</td>\n",
              "      <td>928</td>\n",
              "      <td>1308</td>\n",
              "    </tr>\n",
              "    <tr>\n",
              "      <th>3</th>\n",
              "      <td>787</td>\n",
              "      <td>421</td>\n",
              "      <td>250</td>\n",
              "      <td>4638</td>\n",
              "    </tr>\n",
              "  </tbody>\n",
              "</table>\n",
              "</div>"
            ],
            "text/plain": [
              "      0     1    2     3\n",
              "0  4565   511  594   553\n",
              "1   780  4317  672   505\n",
              "2  2540  1444  928  1308\n",
              "3   787   421  250  4638"
            ]
          },
          "execution_count": 100,
          "metadata": {},
          "output_type": "execute_result"
        }
      ],
      "source": [
        "pd.DataFrame(confusion_matrix(y_test, y_logreg))"
      ]
    },
    {
      "cell_type": "markdown",
      "metadata": {},
      "source": [
        "Rapport de classification"
      ]
    },
    {
      "cell_type": "code",
      "execution_count": 101,
      "metadata": {},
      "outputs": [
        {
          "name": "stdout",
          "output_type": "stream",
          "text": [
            "              precision    recall  f1-score   support\n",
            "\n",
            "    citadine       0.53      0.73      0.61      6223\n",
            "   familiale       0.65      0.69      0.67      6274\n",
            "    routière       0.38      0.15      0.21      6220\n",
            "       sport       0.66      0.76      0.71      6096\n",
            "\n",
            "    accuracy                           0.58     24813\n",
            "   macro avg       0.55      0.58      0.55     24813\n",
            "weighted avg       0.55      0.58      0.55     24813\n",
            "\n"
          ]
        }
      ],
      "source": [
        "print(classification_report(y_test, y_logreg))"
      ]
    },
    {
      "cell_type": "markdown",
      "metadata": {},
      "source": [
        "### SVC"
      ]
    },
    {
      "cell_type": "code",
      "execution_count": 102,
      "metadata": {},
      "outputs": [],
      "source": [
        "svc = SVC(gamma='auto').fit(X_train, y_train)\n",
        "y_svc = svc.predict(X_test)"
      ]
    },
    {
      "cell_type": "markdown",
      "metadata": {},
      "source": [
        "Matrice de confusion"
      ]
    },
    {
      "cell_type": "code",
      "execution_count": 103,
      "metadata": {},
      "outputs": [
        {
          "data": {
            "text/html": [
              "<div>\n",
              "<style scoped>\n",
              "    .dataframe tbody tr th:only-of-type {\n",
              "        vertical-align: middle;\n",
              "    }\n",
              "\n",
              "    .dataframe tbody tr th {\n",
              "        vertical-align: top;\n",
              "    }\n",
              "\n",
              "    .dataframe thead th {\n",
              "        text-align: right;\n",
              "    }\n",
              "</style>\n",
              "<table border=\"1\" class=\"dataframe\">\n",
              "  <thead>\n",
              "    <tr style=\"text-align: right;\">\n",
              "      <th></th>\n",
              "      <th>0</th>\n",
              "      <th>1</th>\n",
              "      <th>2</th>\n",
              "      <th>3</th>\n",
              "    </tr>\n",
              "  </thead>\n",
              "  <tbody>\n",
              "    <tr>\n",
              "      <th>0</th>\n",
              "      <td>3100</td>\n",
              "      <td>398</td>\n",
              "      <td>1751</td>\n",
              "      <td>974</td>\n",
              "    </tr>\n",
              "    <tr>\n",
              "      <th>1</th>\n",
              "      <td>201</td>\n",
              "      <td>4352</td>\n",
              "      <td>1715</td>\n",
              "      <td>6</td>\n",
              "    </tr>\n",
              "    <tr>\n",
              "      <th>2</th>\n",
              "      <td>1288</td>\n",
              "      <td>1341</td>\n",
              "      <td>2300</td>\n",
              "      <td>1291</td>\n",
              "    </tr>\n",
              "    <tr>\n",
              "      <th>3</th>\n",
              "      <td>277</td>\n",
              "      <td>15</td>\n",
              "      <td>223</td>\n",
              "      <td>5581</td>\n",
              "    </tr>\n",
              "  </tbody>\n",
              "</table>\n",
              "</div>"
            ],
            "text/plain": [
              "      0     1     2     3\n",
              "0  3100   398  1751   974\n",
              "1   201  4352  1715     6\n",
              "2  1288  1341  2300  1291\n",
              "3   277    15   223  5581"
            ]
          },
          "execution_count": 103,
          "metadata": {},
          "output_type": "execute_result"
        }
      ],
      "source": [
        "pd.DataFrame(confusion_matrix(y_test, y_svc))"
      ]
    },
    {
      "cell_type": "markdown",
      "metadata": {},
      "source": [
        "Rapport de classification"
      ]
    },
    {
      "cell_type": "code",
      "execution_count": 104,
      "metadata": {},
      "outputs": [
        {
          "name": "stdout",
          "output_type": "stream",
          "text": [
            "              precision    recall  f1-score   support\n",
            "\n",
            "    citadine       0.64      0.50      0.56      6223\n",
            "   familiale       0.71      0.69      0.70      6274\n",
            "    routière       0.38      0.37      0.38      6220\n",
            "       sport       0.71      0.92      0.80      6096\n",
            "\n",
            "    accuracy                           0.62     24813\n",
            "   macro avg       0.61      0.62      0.61     24813\n",
            "weighted avg       0.61      0.62      0.61     24813\n",
            "\n"
          ]
        }
      ],
      "source": [
        "print(classification_report(y_test, y_svc))"
      ]
    },
    {
      "cell_type": "markdown",
      "metadata": {},
      "source": [
        "### RandomForestClassifier"
      ]
    },
    {
      "cell_type": "code",
      "execution_count": 105,
      "metadata": {},
      "outputs": [],
      "source": [
        "rfc = RandomForestClassifier(max_depth=5, random_state=0, criterion='entropy').fit(X_train, y_train)\n",
        "y_rfc = rfc.predict(X_test)"
      ]
    },
    {
      "cell_type": "markdown",
      "metadata": {},
      "source": [
        "Matrice de confusion"
      ]
    },
    {
      "cell_type": "code",
      "execution_count": 106,
      "metadata": {},
      "outputs": [
        {
          "data": {
            "text/html": [
              "<div>\n",
              "<style scoped>\n",
              "    .dataframe tbody tr th:only-of-type {\n",
              "        vertical-align: middle;\n",
              "    }\n",
              "\n",
              "    .dataframe tbody tr th {\n",
              "        vertical-align: top;\n",
              "    }\n",
              "\n",
              "    .dataframe thead th {\n",
              "        text-align: right;\n",
              "    }\n",
              "</style>\n",
              "<table border=\"1\" class=\"dataframe\">\n",
              "  <thead>\n",
              "    <tr style=\"text-align: right;\">\n",
              "      <th></th>\n",
              "      <th>0</th>\n",
              "      <th>1</th>\n",
              "      <th>2</th>\n",
              "      <th>3</th>\n",
              "    </tr>\n",
              "  </thead>\n",
              "  <tbody>\n",
              "    <tr>\n",
              "      <th>0</th>\n",
              "      <td>3833</td>\n",
              "      <td>211</td>\n",
              "      <td>1715</td>\n",
              "      <td>464</td>\n",
              "    </tr>\n",
              "    <tr>\n",
              "      <th>1</th>\n",
              "      <td>22</td>\n",
              "      <td>4249</td>\n",
              "      <td>1998</td>\n",
              "      <td>5</td>\n",
              "    </tr>\n",
              "    <tr>\n",
              "      <th>2</th>\n",
              "      <td>1241</td>\n",
              "      <td>1198</td>\n",
              "      <td>2340</td>\n",
              "      <td>1441</td>\n",
              "    </tr>\n",
              "    <tr>\n",
              "      <th>3</th>\n",
              "      <td>3</td>\n",
              "      <td>13</td>\n",
              "      <td>17</td>\n",
              "      <td>6063</td>\n",
              "    </tr>\n",
              "  </tbody>\n",
              "</table>\n",
              "</div>"
            ],
            "text/plain": [
              "      0     1     2     3\n",
              "0  3833   211  1715   464\n",
              "1    22  4249  1998     5\n",
              "2  1241  1198  2340  1441\n",
              "3     3    13    17  6063"
            ]
          },
          "execution_count": 106,
          "metadata": {},
          "output_type": "execute_result"
        }
      ],
      "source": [
        "pd.DataFrame(confusion_matrix(y_test, y_rfc))"
      ]
    },
    {
      "cell_type": "markdown",
      "metadata": {},
      "source": [
        "Rapport de classification"
      ]
    },
    {
      "cell_type": "code",
      "execution_count": 107,
      "metadata": {},
      "outputs": [
        {
          "name": "stdout",
          "output_type": "stream",
          "text": [
            "              precision    recall  f1-score   support\n",
            "\n",
            "    citadine       0.75      0.62      0.68      6223\n",
            "   familiale       0.75      0.68      0.71      6274\n",
            "    routière       0.39      0.38      0.38      6220\n",
            "       sport       0.76      0.99      0.86      6096\n",
            "\n",
            "    accuracy                           0.66     24813\n",
            "   macro avg       0.66      0.67      0.66     24813\n",
            "weighted avg       0.66      0.66      0.66     24813\n",
            "\n"
          ]
        }
      ],
      "source": [
        "print(classification_report(y_test, y_rfc))"
      ]
    },
    {
      "cell_type": "markdown",
      "metadata": {},
      "source": [
        "### DecisionTree"
      ]
    },
    {
      "cell_type": "code",
      "execution_count": 108,
      "metadata": {},
      "outputs": [],
      "source": [
        "dtc = DecisionTreeClassifier(max_depth=5, random_state=0).fit(X_train, y_train)\n",
        "lb.fit_transform(y_test)\n",
        "y_dt = dtc.predict(X_test)"
      ]
    },
    {
      "cell_type": "markdown",
      "metadata": {},
      "source": [
        "Matrice de confusion"
      ]
    },
    {
      "cell_type": "code",
      "execution_count": 109,
      "metadata": {},
      "outputs": [
        {
          "data": {
            "text/html": [
              "<div>\n",
              "<style scoped>\n",
              "    .dataframe tbody tr th:only-of-type {\n",
              "        vertical-align: middle;\n",
              "    }\n",
              "\n",
              "    .dataframe tbody tr th {\n",
              "        vertical-align: top;\n",
              "    }\n",
              "\n",
              "    .dataframe thead th {\n",
              "        text-align: right;\n",
              "    }\n",
              "</style>\n",
              "<table border=\"1\" class=\"dataframe\">\n",
              "  <thead>\n",
              "    <tr style=\"text-align: right;\">\n",
              "      <th></th>\n",
              "      <th>0</th>\n",
              "      <th>1</th>\n",
              "      <th>2</th>\n",
              "      <th>3</th>\n",
              "    </tr>\n",
              "  </thead>\n",
              "  <tbody>\n",
              "    <tr>\n",
              "      <th>0</th>\n",
              "      <td>3780</td>\n",
              "      <td>304</td>\n",
              "      <td>1675</td>\n",
              "      <td>464</td>\n",
              "    </tr>\n",
              "    <tr>\n",
              "      <th>1</th>\n",
              "      <td>7</td>\n",
              "      <td>4419</td>\n",
              "      <td>1843</td>\n",
              "      <td>5</td>\n",
              "    </tr>\n",
              "    <tr>\n",
              "      <th>2</th>\n",
              "      <td>1197</td>\n",
              "      <td>1380</td>\n",
              "      <td>2202</td>\n",
              "      <td>1441</td>\n",
              "    </tr>\n",
              "    <tr>\n",
              "      <th>3</th>\n",
              "      <td>3</td>\n",
              "      <td>13</td>\n",
              "      <td>18</td>\n",
              "      <td>6062</td>\n",
              "    </tr>\n",
              "  </tbody>\n",
              "</table>\n",
              "</div>"
            ],
            "text/plain": [
              "      0     1     2     3\n",
              "0  3780   304  1675   464\n",
              "1     7  4419  1843     5\n",
              "2  1197  1380  2202  1441\n",
              "3     3    13    18  6062"
            ]
          },
          "execution_count": 109,
          "metadata": {},
          "output_type": "execute_result"
        }
      ],
      "source": [
        "pd.DataFrame(confusion_matrix(y_test, y_dt))"
      ]
    },
    {
      "cell_type": "markdown",
      "metadata": {},
      "source": [
        "Rapport de classification"
      ]
    },
    {
      "cell_type": "code",
      "execution_count": 110,
      "metadata": {},
      "outputs": [
        {
          "name": "stdout",
          "output_type": "stream",
          "text": [
            "              precision    recall  f1-score   support\n",
            "\n",
            "    citadine       0.76      0.61      0.67      6223\n",
            "   familiale       0.72      0.70      0.71      6274\n",
            "    routière       0.38      0.35      0.37      6220\n",
            "       sport       0.76      0.99      0.86      6096\n",
            "\n",
            "    accuracy                           0.66     24813\n",
            "   macro avg       0.66      0.67      0.65     24813\n",
            "weighted avg       0.66      0.66      0.65     24813\n",
            "\n"
          ]
        }
      ],
      "source": [
        "print(classification_report(y_test, y_dt))"
      ]
    },
    {
      "cell_type": "markdown",
      "metadata": {},
      "source": [
        "### KNN"
      ]
    },
    {
      "cell_type": "code",
      "execution_count": 111,
      "metadata": {},
      "outputs": [],
      "source": [
        "knn = KNeighborsClassifier(n_neighbors=3).fit(X_train, y_train)\n",
        "y_knn = knn.predict(X_test)"
      ]
    },
    {
      "cell_type": "markdown",
      "metadata": {},
      "source": [
        "Matrice de confustion"
      ]
    },
    {
      "cell_type": "code",
      "execution_count": 112,
      "metadata": {},
      "outputs": [
        {
          "data": {
            "text/html": [
              "<div>\n",
              "<style scoped>\n",
              "    .dataframe tbody tr th:only-of-type {\n",
              "        vertical-align: middle;\n",
              "    }\n",
              "\n",
              "    .dataframe tbody tr th {\n",
              "        vertical-align: top;\n",
              "    }\n",
              "\n",
              "    .dataframe thead th {\n",
              "        text-align: right;\n",
              "    }\n",
              "</style>\n",
              "<table border=\"1\" class=\"dataframe\">\n",
              "  <thead>\n",
              "    <tr style=\"text-align: right;\">\n",
              "      <th></th>\n",
              "      <th>0</th>\n",
              "      <th>1</th>\n",
              "      <th>2</th>\n",
              "      <th>3</th>\n",
              "    </tr>\n",
              "  </thead>\n",
              "  <tbody>\n",
              "    <tr>\n",
              "      <th>0</th>\n",
              "      <td>3658</td>\n",
              "      <td>569</td>\n",
              "      <td>1407</td>\n",
              "      <td>589</td>\n",
              "    </tr>\n",
              "    <tr>\n",
              "      <th>1</th>\n",
              "      <td>928</td>\n",
              "      <td>4134</td>\n",
              "      <td>1202</td>\n",
              "      <td>10</td>\n",
              "    </tr>\n",
              "    <tr>\n",
              "      <th>2</th>\n",
              "      <td>2239</td>\n",
              "      <td>1501</td>\n",
              "      <td>1593</td>\n",
              "      <td>887</td>\n",
              "    </tr>\n",
              "    <tr>\n",
              "      <th>3</th>\n",
              "      <td>743</td>\n",
              "      <td>12</td>\n",
              "      <td>428</td>\n",
              "      <td>4913</td>\n",
              "    </tr>\n",
              "  </tbody>\n",
              "</table>\n",
              "</div>"
            ],
            "text/plain": [
              "      0     1     2     3\n",
              "0  3658   569  1407   589\n",
              "1   928  4134  1202    10\n",
              "2  2239  1501  1593   887\n",
              "3   743    12   428  4913"
            ]
          },
          "execution_count": 112,
          "metadata": {},
          "output_type": "execute_result"
        }
      ],
      "source": [
        "pd.DataFrame(confusion_matrix(y_test, y_knn))"
      ]
    },
    {
      "cell_type": "markdown",
      "metadata": {},
      "source": [
        "Rapport de classification"
      ]
    },
    {
      "cell_type": "code",
      "execution_count": 113,
      "metadata": {},
      "outputs": [
        {
          "name": "stdout",
          "output_type": "stream",
          "text": [
            "              precision    recall  f1-score   support\n",
            "\n",
            "    citadine       0.48      0.59      0.53      6223\n",
            "   familiale       0.67      0.66      0.66      6274\n",
            "    routière       0.34      0.26      0.29      6220\n",
            "       sport       0.77      0.81      0.79      6096\n",
            "\n",
            "    accuracy                           0.58     24813\n",
            "   macro avg       0.57      0.58      0.57     24813\n",
            "weighted avg       0.56      0.58      0.57     24813\n",
            "\n"
          ]
        }
      ],
      "source": [
        "print(classification_report(y_test, y_knn))"
      ]
    },
    {
      "cell_type": "code",
      "execution_count": 114,
      "metadata": {},
      "outputs": [],
      "source": [
        "# for name, clf in models:\n",
        "#     pipeline = Pipeline([('estimator', clf)])\n",
        "#     scores = cross_val_score(pipeline, X_train, y_train, scoring=\"roc_auc\")\n",
        "#     print(f\"Estimator: {name}, Mean ROC AUC: {round(scores.mean(), 2)}, Std: {round(scores.std(), 2)}\")"
      ]
    },
    {
      "cell_type": "markdown",
      "metadata": {},
      "source": [
        "### Reseaux de neurones"
      ]
    },
    {
      "cell_type": "code",
      "execution_count": 115,
      "metadata": {},
      "outputs": [],
      "source": [
        "import tensorflow.keras\n",
        "from keras.models import Sequential\n",
        "from keras.layers import Dense"
      ]
    },
    {
      "cell_type": "markdown",
      "metadata": {},
      "source": [
        "### on encode la variable cible en numerique"
      ]
    },
    {
      "cell_type": "code",
      "execution_count": 116,
      "metadata": {},
      "outputs": [
        {
          "data": {
            "text/plain": [
              "0         citadine\n",
              "1         citadine\n",
              "2        familiale\n",
              "3         routière\n",
              "4            sport\n",
              "           ...    \n",
              "82703     citadine\n",
              "82704    familiale\n",
              "82705     citadine\n",
              "82706        sport\n",
              "82707     citadine\n",
              "Name: categorie, Length: 82708, dtype: object"
            ]
          },
          "execution_count": 116,
          "metadata": {},
          "output_type": "execute_result"
        }
      ],
      "source": [
        "y"
      ]
    },
    {
      "cell_type": "code",
      "execution_count": 117,
      "metadata": {},
      "outputs": [],
      "source": [
        "y_nn = lb.fit_transform(y)"
      ]
    },
    {
      "cell_type": "markdown",
      "metadata": {},
      "source": [
        "0 -> citadine\n",
        "1 -> routière\n",
        "2 -> sport"
      ]
    },
    {
      "cell_type": "markdown",
      "metadata": {},
      "source": [
        "Data split"
      ]
    },
    {
      "cell_type": "code",
      "execution_count": 118,
      "metadata": {},
      "outputs": [],
      "source": [
        "Xnn_train, Xnn_test, ynn_train, ynn_test = train_test_split(X, y_nn,test_size = 0.3, random_state = 0)"
      ]
    },
    {
      "cell_type": "markdown",
      "metadata": {},
      "source": [
        "input/ hidden layers"
      ]
    },
    {
      "cell_type": "code",
      "execution_count": 119,
      "metadata": {},
      "outputs": [],
      "source": [
        "ann = Sequential()\n",
        "ann.add(Dense(10, input_dim=6, activation=\"relu\"))\n",
        "ann.add(Dense(1 , activation=\"linear\"))"
      ]
    },
    {
      "cell_type": "markdown",
      "metadata": {},
      "source": [
        "output layer"
      ]
    },
    {
      "cell_type": "code",
      "execution_count": 120,
      "metadata": {},
      "outputs": [],
      "source": [
        "ann.add(Dense(1, activation = 'softmax'))"
      ]
    },
    {
      "cell_type": "code",
      "execution_count": 121,
      "metadata": {},
      "outputs": [],
      "source": [
        "ann.compile(optimizer = 'Adam', loss ='binary_crossentropy', metrics = ['accuracy'])"
      ]
    },
    {
      "cell_type": "code",
      "execution_count": 122,
      "metadata": {},
      "outputs": [
        {
          "name": "stdout",
          "output_type": "stream",
          "text": [
            "Epoch 1/50\n",
            "5790/5790 [==============================] - 9s 1ms/step - loss: -139985.6875 - accuracy: 0.2499\n",
            "Epoch 2/50\n",
            "5790/5790 [==============================] - 8s 1ms/step - loss: -1393191.8750 - accuracy: 0.2499\n",
            "Epoch 3/50\n",
            "5790/5790 [==============================] - 8s 1ms/step - loss: -4720197.0000 - accuracy: 0.2499\n",
            "Epoch 4/50\n",
            "5790/5790 [==============================] - 8s 1ms/step - loss: -10971549.0000 - accuracy: 0.2499\n",
            "Epoch 5/50\n",
            "5790/5790 [==============================] - 8s 1ms/step - loss: -20951466.0000 - accuracy: 0.2499\n",
            "Epoch 6/50\n",
            "5790/5790 [==============================] - 8s 1ms/step - loss: -35468196.0000 - accuracy: 0.2499\n",
            "Epoch 7/50\n",
            "5790/5790 [==============================] - 8s 1ms/step - loss: -55275200.0000 - accuracy: 0.2499\n",
            "Epoch 8/50\n",
            "5790/5790 [==============================] - 8s 1ms/step - loss: -81251480.0000 - accuracy: 0.2499\n",
            "Epoch 9/50\n",
            "5790/5790 [==============================] - 9s 2ms/step - loss: -114201576.0000 - accuracy: 0.2499\n",
            "Epoch 10/50\n",
            "5790/5790 [==============================] - 9s 2ms/step - loss: -154612752.0000 - accuracy: 0.2499\n",
            "Epoch 11/50\n",
            "5790/5790 [==============================] - 8s 1ms/step - loss: -203547120.0000 - accuracy: 0.2499\n",
            "Epoch 12/50\n",
            "5790/5790 [==============================] - 8s 1ms/step - loss: -261635280.0000 - accuracy: 0.2499\n",
            "Epoch 13/50\n",
            "5790/5790 [==============================] - 8s 1ms/step - loss: -329496288.0000 - accuracy: 0.2499\n",
            "Epoch 14/50\n",
            "5790/5790 [==============================] - 8s 1ms/step - loss: -408264704.0000 - accuracy: 0.2499\n",
            "Epoch 15/50\n",
            "5790/5790 [==============================] - 9s 2ms/step - loss: -498393792.0000 - accuracy: 0.2499\n",
            "Epoch 16/50\n",
            "5790/5790 [==============================] - 8s 1ms/step - loss: -600813376.0000 - accuracy: 0.2499\n",
            "Epoch 17/50\n",
            "5790/5790 [==============================] - 8s 1ms/step - loss: -716181760.0000 - accuracy: 0.2499\n",
            "Epoch 18/50\n",
            "5790/5790 [==============================] - 8s 1ms/step - loss: -846125888.0000 - accuracy: 0.2499\n",
            "Epoch 19/50\n",
            "5790/5790 [==============================] - 8s 1ms/step - loss: -989990336.0000 - accuracy: 0.2499\n",
            "Epoch 20/50\n",
            "5790/5790 [==============================] - 8s 1ms/step - loss: -1148291968.0000 - accuracy: 0.2499\n",
            "Epoch 21/50\n",
            "5790/5790 [==============================] - 8s 1ms/step - loss: -1323696640.0000 - accuracy: 0.2499\n",
            "Epoch 22/50\n",
            "5790/5790 [==============================] - 8s 1ms/step - loss: -1515757824.0000 - accuracy: 0.2499\n",
            "Epoch 23/50\n",
            "5790/5790 [==============================] - 8s 1ms/step - loss: -1723792128.0000 - accuracy: 0.2499\n",
            "Epoch 24/50\n",
            "5790/5790 [==============================] - 11s 2ms/step - loss: -1950498816.0000 - accuracy: 0.2499\n",
            "Epoch 25/50\n",
            "5790/5790 [==============================] - 10s 2ms/step - loss: -2197322752.0000 - accuracy: 0.2499\n",
            "Epoch 26/50\n",
            "5790/5790 [==============================] - 8s 1ms/step - loss: -2463364864.0000 - accuracy: 0.2499\n",
            "Epoch 27/50\n",
            "5790/5790 [==============================] - 8s 1ms/step - loss: -2750359552.0000 - accuracy: 0.2499\n",
            "Epoch 28/50\n",
            "5790/5790 [==============================] - 8s 1ms/step - loss: -3057794560.0000 - accuracy: 0.2499\n",
            "Epoch 29/50\n",
            "5790/5790 [==============================] - 8s 1ms/step - loss: -3389373952.0000 - accuracy: 0.2499\n",
            "Epoch 30/50\n",
            "5790/5790 [==============================] - 8s 1ms/step - loss: -3741891584.0000 - accuracy: 0.2499\n",
            "Epoch 31/50\n",
            "5790/5790 [==============================] - 8s 1ms/step - loss: -4117922304.0000 - accuracy: 0.2499\n",
            "Epoch 32/50\n",
            "5790/5790 [==============================] - 9s 2ms/step - loss: -4520184832.0000 - accuracy: 0.2499\n",
            "Epoch 33/50\n",
            "5790/5790 [==============================] - 8s 1ms/step - loss: -4945905152.0000 - accuracy: 0.2499\n",
            "Epoch 34/50\n",
            "5790/5790 [==============================] - 8s 1ms/step - loss: -5397784576.0000 - accuracy: 0.2499\n",
            "Epoch 35/50\n",
            "5790/5790 [==============================] - 10s 2ms/step - loss: -5875732992.0000 - accuracy: 0.2499\n",
            "Epoch 36/50\n",
            "5790/5790 [==============================] - 11s 2ms/step - loss: -6382652928.0000 - accuracy: 0.2499\n",
            "Epoch 37/50\n",
            "5790/5790 [==============================] - 9s 2ms/step - loss: -6915176448.0000 - accuracy: 0.2499\n",
            "Epoch 38/50\n",
            "5790/5790 [==============================] - 9s 2ms/step - loss: -7478843392.0000 - accuracy: 0.2499\n",
            "Epoch 39/50\n",
            "5790/5790 [==============================] - 8s 1ms/step - loss: -8071995904.0000 - accuracy: 0.2499\n",
            "Epoch 40/50\n",
            "5790/5790 [==============================] - 8s 1ms/step - loss: -8700377088.0000 - accuracy: 0.2499\n",
            "Epoch 41/50\n",
            "5790/5790 [==============================] - 8s 1ms/step - loss: -9355165696.0000 - accuracy: 0.2499\n",
            "Epoch 42/50\n",
            "5790/5790 [==============================] - 8s 1ms/step - loss: -10040045568.0000 - accuracy: 0.2499\n",
            "Epoch 43/50\n",
            "5790/5790 [==============================] - 8s 1ms/step - loss: -10757760000.0000 - accuracy: 0.2499\n",
            "Epoch 44/50\n",
            "5790/5790 [==============================] - 9s 2ms/step - loss: -11511995392.0000 - accuracy: 0.2499\n",
            "Epoch 45/50\n",
            "5790/5790 [==============================] - 8s 1ms/step - loss: -12294879232.0000 - accuracy: 0.2499\n",
            "Epoch 46/50\n",
            "5790/5790 [==============================] - 8s 1ms/step - loss: -13115653120.0000 - accuracy: 0.2499\n",
            "Epoch 47/50\n",
            "5790/5790 [==============================] - 8s 1ms/step - loss: -13971217408.0000 - accuracy: 0.2499\n",
            "Epoch 48/50\n",
            "5790/5790 [==============================] - 8s 1ms/step - loss: -14866801664.0000 - accuracy: 0.2499\n",
            "Epoch 49/50\n",
            "5790/5790 [==============================] - 8s 1ms/step - loss: -15800168448.0000 - accuracy: 0.2499\n",
            "Epoch 50/50\n",
            "5790/5790 [==============================] - 8s 1ms/step - loss: -16769896448.0000 - accuracy: 0.2499\n"
          ]
        },
        {
          "data": {
            "text/plain": [
              "<keras.callbacks.History at 0x17af07239d0>"
            ]
          },
          "execution_count": 122,
          "metadata": {},
          "output_type": "execute_result"
        }
      ],
      "source": [
        "ann.fit(Xnn_train, ynn_train, batch_size = 10, epochs = 50)"
      ]
    },
    {
      "cell_type": "code",
      "execution_count": 123,
      "metadata": {},
      "outputs": [],
      "source": [
        "ynn_pred = ann.predict(X_test)"
      ]
    },
    {
      "cell_type": "markdown",
      "metadata": {},
      "source": [
        "Matrice de confusion"
      ]
    },
    {
      "cell_type": "code",
      "execution_count": 124,
      "metadata": {},
      "outputs": [
        {
          "data": {
            "text/html": [
              "<div>\n",
              "<style scoped>\n",
              "    .dataframe tbody tr th:only-of-type {\n",
              "        vertical-align: middle;\n",
              "    }\n",
              "\n",
              "    .dataframe tbody tr th {\n",
              "        vertical-align: top;\n",
              "    }\n",
              "\n",
              "    .dataframe thead th {\n",
              "        text-align: right;\n",
              "    }\n",
              "</style>\n",
              "<table border=\"1\" class=\"dataframe\">\n",
              "  <thead>\n",
              "    <tr style=\"text-align: right;\">\n",
              "      <th></th>\n",
              "      <th>0</th>\n",
              "      <th>1</th>\n",
              "      <th>2</th>\n",
              "      <th>3</th>\n",
              "    </tr>\n",
              "  </thead>\n",
              "  <tbody>\n",
              "    <tr>\n",
              "      <th>0</th>\n",
              "      <td>0</td>\n",
              "      <td>6189</td>\n",
              "      <td>0</td>\n",
              "      <td>0</td>\n",
              "    </tr>\n",
              "    <tr>\n",
              "      <th>1</th>\n",
              "      <td>0</td>\n",
              "      <td>6207</td>\n",
              "      <td>0</td>\n",
              "      <td>0</td>\n",
              "    </tr>\n",
              "    <tr>\n",
              "      <th>2</th>\n",
              "      <td>0</td>\n",
              "      <td>6156</td>\n",
              "      <td>0</td>\n",
              "      <td>0</td>\n",
              "    </tr>\n",
              "    <tr>\n",
              "      <th>3</th>\n",
              "      <td>0</td>\n",
              "      <td>6261</td>\n",
              "      <td>0</td>\n",
              "      <td>0</td>\n",
              "    </tr>\n",
              "  </tbody>\n",
              "</table>\n",
              "</div>"
            ],
            "text/plain": [
              "   0     1  2  3\n",
              "0  0  6189  0  0\n",
              "1  0  6207  0  0\n",
              "2  0  6156  0  0\n",
              "3  0  6261  0  0"
            ]
          },
          "execution_count": 124,
          "metadata": {},
          "output_type": "execute_result"
        }
      ],
      "source": [
        "pd.DataFrame(confusion_matrix(ynn_test, ynn_pred))"
      ]
    },
    {
      "cell_type": "markdown",
      "metadata": {},
      "source": [
        "Rapport de classification"
      ]
    },
    {
      "cell_type": "code",
      "execution_count": 125,
      "metadata": {},
      "outputs": [
        {
          "name": "stdout",
          "output_type": "stream",
          "text": [
            "              precision    recall  f1-score   support\n",
            "\n",
            "           0       0.00      0.00      0.00      6189\n",
            "           1       0.25      1.00      0.40      6207\n",
            "           2       0.00      0.00      0.00      6156\n",
            "           3       0.00      0.00      0.00      6261\n",
            "\n",
            "    accuracy                           0.25     24813\n",
            "   macro avg       0.06      0.25      0.10     24813\n",
            "weighted avg       0.06      0.25      0.10     24813\n",
            "\n"
          ]
        },
        {
          "name": "stderr",
          "output_type": "stream",
          "text": [
            "C:\\Users\\Akach\\AppData\\Local\\Programs\\Python\\Python39\\lib\\site-packages\\sklearn\\metrics\\_classification.py:1318: UndefinedMetricWarning: Precision and F-score are ill-defined and being set to 0.0 in labels with no predicted samples. Use `zero_division` parameter to control this behavior.\n",
            "  _warn_prf(average, modifier, msg_start, len(result))\n",
            "C:\\Users\\Akach\\AppData\\Local\\Programs\\Python\\Python39\\lib\\site-packages\\sklearn\\metrics\\_classification.py:1318: UndefinedMetricWarning: Precision and F-score are ill-defined and being set to 0.0 in labels with no predicted samples. Use `zero_division` parameter to control this behavior.\n",
            "  _warn_prf(average, modifier, msg_start, len(result))\n",
            "C:\\Users\\Akach\\AppData\\Local\\Programs\\Python\\Python39\\lib\\site-packages\\sklearn\\metrics\\_classification.py:1318: UndefinedMetricWarning: Precision and F-score are ill-defined and being set to 0.0 in labels with no predicted samples. Use `zero_division` parameter to control this behavior.\n",
            "  _warn_prf(average, modifier, msg_start, len(result))\n"
          ]
        }
      ],
      "source": [
        "print(classification_report(ynn_test, ynn_pred))"
      ]
    },
    {
      "cell_type": "markdown",
      "metadata": {},
      "source": [
        "### Choix du meilleur algorithme"
      ]
    },
    {
      "cell_type": "markdown",
      "metadata": {},
      "source": [
        "Le modèle retenu est le random forest car il a eu l'une des meilleure précision en plus d'être rapide"
      ]
    },
    {
      "cell_type": "code",
      "execution_count": 126,
      "metadata": {},
      "outputs": [
        {
          "data": {
            "text/html": [
              "<div>\n",
              "<style scoped>\n",
              "    .dataframe tbody tr th:only-of-type {\n",
              "        vertical-align: middle;\n",
              "    }\n",
              "\n",
              "    .dataframe tbody tr th {\n",
              "        vertical-align: top;\n",
              "    }\n",
              "\n",
              "    .dataframe thead th {\n",
              "        text-align: right;\n",
              "    }\n",
              "</style>\n",
              "<table border=\"1\" class=\"dataframe\">\n",
              "  <thead>\n",
              "    <tr style=\"text-align: right;\">\n",
              "      <th></th>\n",
              "      <th>age</th>\n",
              "      <th>sexe</th>\n",
              "      <th>taux</th>\n",
              "      <th>situationFamiliale</th>\n",
              "      <th>nbEnfantsAcharge</th>\n",
              "      <th>2eme voiture</th>\n",
              "    </tr>\n",
              "  </thead>\n",
              "  <tbody>\n",
              "    <tr>\n",
              "      <th>0</th>\n",
              "      <td>21</td>\n",
              "      <td>F</td>\n",
              "      <td>1396</td>\n",
              "      <td>Célibataire</td>\n",
              "      <td>0</td>\n",
              "      <td>False</td>\n",
              "    </tr>\n",
              "    <tr>\n",
              "      <th>1</th>\n",
              "      <td>35</td>\n",
              "      <td>M</td>\n",
              "      <td>223</td>\n",
              "      <td>Célibataire</td>\n",
              "      <td>0</td>\n",
              "      <td>False</td>\n",
              "    </tr>\n",
              "    <tr>\n",
              "      <th>2</th>\n",
              "      <td>48</td>\n",
              "      <td>M</td>\n",
              "      <td>401</td>\n",
              "      <td>Célibataire</td>\n",
              "      <td>0</td>\n",
              "      <td>False</td>\n",
              "    </tr>\n",
              "    <tr>\n",
              "      <th>3</th>\n",
              "      <td>26</td>\n",
              "      <td>F</td>\n",
              "      <td>420</td>\n",
              "      <td>En Couple</td>\n",
              "      <td>3</td>\n",
              "      <td>True</td>\n",
              "    </tr>\n",
              "    <tr>\n",
              "      <th>4</th>\n",
              "      <td>80</td>\n",
              "      <td>M</td>\n",
              "      <td>530</td>\n",
              "      <td>En Couple</td>\n",
              "      <td>3</td>\n",
              "      <td>False</td>\n",
              "    </tr>\n",
              "    <tr>\n",
              "      <th>5</th>\n",
              "      <td>27</td>\n",
              "      <td>F</td>\n",
              "      <td>153</td>\n",
              "      <td>En Couple</td>\n",
              "      <td>2</td>\n",
              "      <td>False</td>\n",
              "    </tr>\n",
              "    <tr>\n",
              "      <th>6</th>\n",
              "      <td>59</td>\n",
              "      <td>F</td>\n",
              "      <td>572</td>\n",
              "      <td>En Couple</td>\n",
              "      <td>2</td>\n",
              "      <td>False</td>\n",
              "    </tr>\n",
              "    <tr>\n",
              "      <th>7</th>\n",
              "      <td>43</td>\n",
              "      <td>F</td>\n",
              "      <td>431</td>\n",
              "      <td>Célibataire</td>\n",
              "      <td>0</td>\n",
              "      <td>False</td>\n",
              "    </tr>\n",
              "    <tr>\n",
              "      <th>8</th>\n",
              "      <td>64</td>\n",
              "      <td>M</td>\n",
              "      <td>559</td>\n",
              "      <td>Célibataire</td>\n",
              "      <td>0</td>\n",
              "      <td>False</td>\n",
              "    </tr>\n",
              "    <tr>\n",
              "      <th>9</th>\n",
              "      <td>22</td>\n",
              "      <td>M</td>\n",
              "      <td>154</td>\n",
              "      <td>En Couple</td>\n",
              "      <td>1</td>\n",
              "      <td>False</td>\n",
              "    </tr>\n",
              "    <tr>\n",
              "      <th>10</th>\n",
              "      <td>79</td>\n",
              "      <td>F</td>\n",
              "      <td>981</td>\n",
              "      <td>En Couple</td>\n",
              "      <td>2</td>\n",
              "      <td>False</td>\n",
              "    </tr>\n",
              "    <tr>\n",
              "      <th>11</th>\n",
              "      <td>55</td>\n",
              "      <td>M</td>\n",
              "      <td>588</td>\n",
              "      <td>Célibataire</td>\n",
              "      <td>0</td>\n",
              "      <td>False</td>\n",
              "    </tr>\n",
              "    <tr>\n",
              "      <th>12</th>\n",
              "      <td>19</td>\n",
              "      <td>F</td>\n",
              "      <td>212</td>\n",
              "      <td>Célibataire</td>\n",
              "      <td>0</td>\n",
              "      <td>False</td>\n",
              "    </tr>\n",
              "    <tr>\n",
              "      <th>13</th>\n",
              "      <td>34</td>\n",
              "      <td>F</td>\n",
              "      <td>1112</td>\n",
              "      <td>En Couple</td>\n",
              "      <td>0</td>\n",
              "      <td>False</td>\n",
              "    </tr>\n",
              "    <tr>\n",
              "      <th>14</th>\n",
              "      <td>60</td>\n",
              "      <td>M</td>\n",
              "      <td>524</td>\n",
              "      <td>En Couple</td>\n",
              "      <td>0</td>\n",
              "      <td>True</td>\n",
              "    </tr>\n",
              "    <tr>\n",
              "      <th>15</th>\n",
              "      <td>22</td>\n",
              "      <td>M</td>\n",
              "      <td>411</td>\n",
              "      <td>En Couple</td>\n",
              "      <td>3</td>\n",
              "      <td>True</td>\n",
              "    </tr>\n",
              "    <tr>\n",
              "      <th>16</th>\n",
              "      <td>58</td>\n",
              "      <td>M</td>\n",
              "      <td>1192</td>\n",
              "      <td>En Couple</td>\n",
              "      <td>0</td>\n",
              "      <td>False</td>\n",
              "    </tr>\n",
              "    <tr>\n",
              "      <th>17</th>\n",
              "      <td>54</td>\n",
              "      <td>F</td>\n",
              "      <td>452</td>\n",
              "      <td>En Couple</td>\n",
              "      <td>3</td>\n",
              "      <td>True</td>\n",
              "    </tr>\n",
              "    <tr>\n",
              "      <th>18</th>\n",
              "      <td>35</td>\n",
              "      <td>M</td>\n",
              "      <td>589</td>\n",
              "      <td>Célibataire</td>\n",
              "      <td>0</td>\n",
              "      <td>False</td>\n",
              "    </tr>\n",
              "    <tr>\n",
              "      <th>19</th>\n",
              "      <td>59</td>\n",
              "      <td>M</td>\n",
              "      <td>748</td>\n",
              "      <td>En Couple</td>\n",
              "      <td>0</td>\n",
              "      <td>True</td>\n",
              "    </tr>\n",
              "  </tbody>\n",
              "</table>\n",
              "</div>"
            ],
            "text/plain": [
              "    age sexe  taux situationFamiliale  nbEnfantsAcharge  2eme voiture\n",
              "0    21    F  1396        Célibataire                 0         False\n",
              "1    35    M   223        Célibataire                 0         False\n",
              "2    48    M   401        Célibataire                 0         False\n",
              "3    26    F   420          En Couple                 3          True\n",
              "4    80    M   530          En Couple                 3         False\n",
              "5    27    F   153          En Couple                 2         False\n",
              "6    59    F   572          En Couple                 2         False\n",
              "7    43    F   431        Célibataire                 0         False\n",
              "8    64    M   559        Célibataire                 0         False\n",
              "9    22    M   154          En Couple                 1         False\n",
              "10   79    F   981          En Couple                 2         False\n",
              "11   55    M   588        Célibataire                 0         False\n",
              "12   19    F   212        Célibataire                 0         False\n",
              "13   34    F  1112          En Couple                 0         False\n",
              "14   60    M   524          En Couple                 0          True\n",
              "15   22    M   411          En Couple                 3          True\n",
              "16   58    M  1192          En Couple                 0         False\n",
              "17   54    F   452          En Couple                 3          True\n",
              "18   35    M   589        Célibataire                 0         False\n",
              "19   59    M   748          En Couple                 0          True"
            ]
          },
          "execution_count": 126,
          "metadata": {},
          "output_type": "execute_result"
        }
      ],
      "source": [
        "marketing_df"
      ]
    },
    {
      "cell_type": "code",
      "execution_count": 127,
      "metadata": {},
      "outputs": [],
      "source": [
        "# mX = marketing_df.values\n",
        "for col in marketing_df.select_dtypes('object').columns:\n",
        "    marketing_df.loc[:, col] = lb.fit_transform(marketing_df.loc[:, col])\n",
        "\n",
        "for col in marketing_df.select_dtypes('bool').columns:\n",
        "    marketing_df.loc[:, col] = lb.fit_transform(marketing_df.loc[:, col])"
      ]
    },
    {
      "cell_type": "code",
      "execution_count": 128,
      "metadata": {},
      "outputs": [
        {
          "data": {
            "text/html": [
              "<div>\n",
              "<style scoped>\n",
              "    .dataframe tbody tr th:only-of-type {\n",
              "        vertical-align: middle;\n",
              "    }\n",
              "\n",
              "    .dataframe tbody tr th {\n",
              "        vertical-align: top;\n",
              "    }\n",
              "\n",
              "    .dataframe thead th {\n",
              "        text-align: right;\n",
              "    }\n",
              "</style>\n",
              "<table border=\"1\" class=\"dataframe\">\n",
              "  <thead>\n",
              "    <tr style=\"text-align: right;\">\n",
              "      <th></th>\n",
              "      <th>age</th>\n",
              "      <th>sexe</th>\n",
              "      <th>taux</th>\n",
              "      <th>situationFamiliale</th>\n",
              "      <th>nbEnfantsAcharge</th>\n",
              "      <th>2eme voiture</th>\n",
              "    </tr>\n",
              "  </thead>\n",
              "  <tbody>\n",
              "    <tr>\n",
              "      <th>0</th>\n",
              "      <td>21</td>\n",
              "      <td>0</td>\n",
              "      <td>1396</td>\n",
              "      <td>0</td>\n",
              "      <td>0</td>\n",
              "      <td>0</td>\n",
              "    </tr>\n",
              "    <tr>\n",
              "      <th>1</th>\n",
              "      <td>35</td>\n",
              "      <td>1</td>\n",
              "      <td>223</td>\n",
              "      <td>0</td>\n",
              "      <td>0</td>\n",
              "      <td>0</td>\n",
              "    </tr>\n",
              "    <tr>\n",
              "      <th>2</th>\n",
              "      <td>48</td>\n",
              "      <td>1</td>\n",
              "      <td>401</td>\n",
              "      <td>0</td>\n",
              "      <td>0</td>\n",
              "      <td>0</td>\n",
              "    </tr>\n",
              "    <tr>\n",
              "      <th>3</th>\n",
              "      <td>26</td>\n",
              "      <td>0</td>\n",
              "      <td>420</td>\n",
              "      <td>1</td>\n",
              "      <td>3</td>\n",
              "      <td>1</td>\n",
              "    </tr>\n",
              "    <tr>\n",
              "      <th>4</th>\n",
              "      <td>80</td>\n",
              "      <td>1</td>\n",
              "      <td>530</td>\n",
              "      <td>1</td>\n",
              "      <td>3</td>\n",
              "      <td>0</td>\n",
              "    </tr>\n",
              "    <tr>\n",
              "      <th>5</th>\n",
              "      <td>27</td>\n",
              "      <td>0</td>\n",
              "      <td>153</td>\n",
              "      <td>1</td>\n",
              "      <td>2</td>\n",
              "      <td>0</td>\n",
              "    </tr>\n",
              "    <tr>\n",
              "      <th>6</th>\n",
              "      <td>59</td>\n",
              "      <td>0</td>\n",
              "      <td>572</td>\n",
              "      <td>1</td>\n",
              "      <td>2</td>\n",
              "      <td>0</td>\n",
              "    </tr>\n",
              "    <tr>\n",
              "      <th>7</th>\n",
              "      <td>43</td>\n",
              "      <td>0</td>\n",
              "      <td>431</td>\n",
              "      <td>0</td>\n",
              "      <td>0</td>\n",
              "      <td>0</td>\n",
              "    </tr>\n",
              "    <tr>\n",
              "      <th>8</th>\n",
              "      <td>64</td>\n",
              "      <td>1</td>\n",
              "      <td>559</td>\n",
              "      <td>0</td>\n",
              "      <td>0</td>\n",
              "      <td>0</td>\n",
              "    </tr>\n",
              "    <tr>\n",
              "      <th>9</th>\n",
              "      <td>22</td>\n",
              "      <td>1</td>\n",
              "      <td>154</td>\n",
              "      <td>1</td>\n",
              "      <td>1</td>\n",
              "      <td>0</td>\n",
              "    </tr>\n",
              "    <tr>\n",
              "      <th>10</th>\n",
              "      <td>79</td>\n",
              "      <td>0</td>\n",
              "      <td>981</td>\n",
              "      <td>1</td>\n",
              "      <td>2</td>\n",
              "      <td>0</td>\n",
              "    </tr>\n",
              "    <tr>\n",
              "      <th>11</th>\n",
              "      <td>55</td>\n",
              "      <td>1</td>\n",
              "      <td>588</td>\n",
              "      <td>0</td>\n",
              "      <td>0</td>\n",
              "      <td>0</td>\n",
              "    </tr>\n",
              "    <tr>\n",
              "      <th>12</th>\n",
              "      <td>19</td>\n",
              "      <td>0</td>\n",
              "      <td>212</td>\n",
              "      <td>0</td>\n",
              "      <td>0</td>\n",
              "      <td>0</td>\n",
              "    </tr>\n",
              "    <tr>\n",
              "      <th>13</th>\n",
              "      <td>34</td>\n",
              "      <td>0</td>\n",
              "      <td>1112</td>\n",
              "      <td>1</td>\n",
              "      <td>0</td>\n",
              "      <td>0</td>\n",
              "    </tr>\n",
              "    <tr>\n",
              "      <th>14</th>\n",
              "      <td>60</td>\n",
              "      <td>1</td>\n",
              "      <td>524</td>\n",
              "      <td>1</td>\n",
              "      <td>0</td>\n",
              "      <td>1</td>\n",
              "    </tr>\n",
              "    <tr>\n",
              "      <th>15</th>\n",
              "      <td>22</td>\n",
              "      <td>1</td>\n",
              "      <td>411</td>\n",
              "      <td>1</td>\n",
              "      <td>3</td>\n",
              "      <td>1</td>\n",
              "    </tr>\n",
              "    <tr>\n",
              "      <th>16</th>\n",
              "      <td>58</td>\n",
              "      <td>1</td>\n",
              "      <td>1192</td>\n",
              "      <td>1</td>\n",
              "      <td>0</td>\n",
              "      <td>0</td>\n",
              "    </tr>\n",
              "    <tr>\n",
              "      <th>17</th>\n",
              "      <td>54</td>\n",
              "      <td>0</td>\n",
              "      <td>452</td>\n",
              "      <td>1</td>\n",
              "      <td>3</td>\n",
              "      <td>1</td>\n",
              "    </tr>\n",
              "    <tr>\n",
              "      <th>18</th>\n",
              "      <td>35</td>\n",
              "      <td>1</td>\n",
              "      <td>589</td>\n",
              "      <td>0</td>\n",
              "      <td>0</td>\n",
              "      <td>0</td>\n",
              "    </tr>\n",
              "    <tr>\n",
              "      <th>19</th>\n",
              "      <td>59</td>\n",
              "      <td>1</td>\n",
              "      <td>748</td>\n",
              "      <td>1</td>\n",
              "      <td>0</td>\n",
              "      <td>1</td>\n",
              "    </tr>\n",
              "  </tbody>\n",
              "</table>\n",
              "</div>"
            ],
            "text/plain": [
              "    age  sexe  taux  situationFamiliale  nbEnfantsAcharge  2eme voiture\n",
              "0    21     0  1396                   0                 0             0\n",
              "1    35     1   223                   0                 0             0\n",
              "2    48     1   401                   0                 0             0\n",
              "3    26     0   420                   1                 3             1\n",
              "4    80     1   530                   1                 3             0\n",
              "5    27     0   153                   1                 2             0\n",
              "6    59     0   572                   1                 2             0\n",
              "7    43     0   431                   0                 0             0\n",
              "8    64     1   559                   0                 0             0\n",
              "9    22     1   154                   1                 1             0\n",
              "10   79     0   981                   1                 2             0\n",
              "11   55     1   588                   0                 0             0\n",
              "12   19     0   212                   0                 0             0\n",
              "13   34     0  1112                   1                 0             0\n",
              "14   60     1   524                   1                 0             1\n",
              "15   22     1   411                   1                 3             1\n",
              "16   58     1  1192                   1                 0             0\n",
              "17   54     0   452                   1                 3             1\n",
              "18   35     1   589                   0                 0             0\n",
              "19   59     1   748                   1                 0             1"
            ]
          },
          "execution_count": 128,
          "metadata": {},
          "output_type": "execute_result"
        }
      ],
      "source": [
        "marketing_df"
      ]
    },
    {
      "cell_type": "code",
      "execution_count": 129,
      "metadata": {},
      "outputs": [],
      "source": [
        "mX = marketing_df.values"
      ]
    },
    {
      "cell_type": "code",
      "execution_count": 130,
      "metadata": {},
      "outputs": [],
      "source": [
        "mX = mm.fit_transform(mX)"
      ]
    },
    {
      "cell_type": "code",
      "execution_count": 131,
      "metadata": {},
      "outputs": [
        {
          "name": "stderr",
          "output_type": "stream",
          "text": [
            "C:\\Users\\Akach\\AppData\\Local\\Programs\\Python\\Python39\\lib\\site-packages\\sklearn\\base.py:450: UserWarning: X does not have valid feature names, but RandomForestClassifier was fitted with feature names\n",
            "  warnings.warn(\n"
          ]
        }
      ],
      "source": [
        "mY_pred = rfc.predict(mX)"
      ]
    },
    {
      "cell_type": "code",
      "execution_count": 135,
      "metadata": {},
      "outputs": [
        {
          "data": {
            "text/html": [
              "<div>\n",
              "<style scoped>\n",
              "    .dataframe tbody tr th:only-of-type {\n",
              "        vertical-align: middle;\n",
              "    }\n",
              "\n",
              "    .dataframe tbody tr th {\n",
              "        vertical-align: top;\n",
              "    }\n",
              "\n",
              "    .dataframe thead th {\n",
              "        text-align: right;\n",
              "    }\n",
              "</style>\n",
              "<table border=\"1\" class=\"dataframe\">\n",
              "  <thead>\n",
              "    <tr style=\"text-align: right;\">\n",
              "      <th></th>\n",
              "      <th>0</th>\n",
              "    </tr>\n",
              "  </thead>\n",
              "  <tbody>\n",
              "    <tr>\n",
              "      <th>0</th>\n",
              "      <td>citadine</td>\n",
              "    </tr>\n",
              "    <tr>\n",
              "      <th>1</th>\n",
              "      <td>citadine</td>\n",
              "    </tr>\n",
              "    <tr>\n",
              "      <th>2</th>\n",
              "      <td>citadine</td>\n",
              "    </tr>\n",
              "    <tr>\n",
              "      <th>3</th>\n",
              "      <td>routière</td>\n",
              "    </tr>\n",
              "    <tr>\n",
              "      <th>4</th>\n",
              "      <td>routière</td>\n",
              "    </tr>\n",
              "    <tr>\n",
              "      <th>5</th>\n",
              "      <td>routière</td>\n",
              "    </tr>\n",
              "    <tr>\n",
              "      <th>6</th>\n",
              "      <td>routière</td>\n",
              "    </tr>\n",
              "    <tr>\n",
              "      <th>7</th>\n",
              "      <td>citadine</td>\n",
              "    </tr>\n",
              "    <tr>\n",
              "      <th>8</th>\n",
              "      <td>citadine</td>\n",
              "    </tr>\n",
              "    <tr>\n",
              "      <th>9</th>\n",
              "      <td>routière</td>\n",
              "    </tr>\n",
              "    <tr>\n",
              "      <th>10</th>\n",
              "      <td>routière</td>\n",
              "    </tr>\n",
              "    <tr>\n",
              "      <th>11</th>\n",
              "      <td>citadine</td>\n",
              "    </tr>\n",
              "    <tr>\n",
              "      <th>12</th>\n",
              "      <td>citadine</td>\n",
              "    </tr>\n",
              "    <tr>\n",
              "      <th>13</th>\n",
              "      <td>routière</td>\n",
              "    </tr>\n",
              "    <tr>\n",
              "      <th>14</th>\n",
              "      <td>routière</td>\n",
              "    </tr>\n",
              "    <tr>\n",
              "      <th>15</th>\n",
              "      <td>routière</td>\n",
              "    </tr>\n",
              "    <tr>\n",
              "      <th>16</th>\n",
              "      <td>routière</td>\n",
              "    </tr>\n",
              "    <tr>\n",
              "      <th>17</th>\n",
              "      <td>routière</td>\n",
              "    </tr>\n",
              "    <tr>\n",
              "      <th>18</th>\n",
              "      <td>citadine</td>\n",
              "    </tr>\n",
              "    <tr>\n",
              "      <th>19</th>\n",
              "      <td>routière</td>\n",
              "    </tr>\n",
              "  </tbody>\n",
              "</table>\n",
              "</div>"
            ],
            "text/plain": [
              "           0\n",
              "0   citadine\n",
              "1   citadine\n",
              "2   citadine\n",
              "3   routière\n",
              "4   routière\n",
              "5   routière\n",
              "6   routière\n",
              "7   citadine\n",
              "8   citadine\n",
              "9   routière\n",
              "10  routière\n",
              "11  citadine\n",
              "12  citadine\n",
              "13  routière\n",
              "14  routière\n",
              "15  routière\n",
              "16  routière\n",
              "17  routière\n",
              "18  citadine\n",
              "19  routière"
            ]
          },
          "execution_count": 135,
          "metadata": {},
          "output_type": "execute_result"
        }
      ],
      "source": [
        "pd.DataFrame(mY_pred)"
      ]
    }
  ],
  "metadata": {
    "colab": {
      "collapsed_sections": [],
      "name": "TP_Analytics.ipynb",
      "provenance": []
    },
    "kernelspec": {
      "display_name": "Python 3",
      "name": "python3"
    },
    "language_info": {
      "codemirror_mode": {
        "name": "ipython",
        "version": 3
      },
      "file_extension": ".py",
      "mimetype": "text/x-python",
      "name": "python",
      "nbconvert_exporter": "python",
      "pygments_lexer": "ipython3",
      "version": "3.9.6"
    }
  },
  "nbformat": 4,
  "nbformat_minor": 0
}
